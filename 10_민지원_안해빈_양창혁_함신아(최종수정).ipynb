{
 "cells": [
  {
   "cell_type": "markdown",
   "metadata": {},
   "source": [
    "# Source and description of the data set \n",
    "### https://www.kaggle.com/datasets/rush4ratio/video-game-sales-with-ratings \n",
    "###          (Selling video games with ratings provided by Kaggle)"
   ]
  },
  {
   "cell_type": "markdown",
   "metadata": {},
   "source": [
    "#### This dataset has the following columns: Name of Game, Platform, Year Released, Genre, Publisher, NA Sales, EU Sales, JP Sales, Other Sales, Global_Sales.\n",
    "\n",
    "| column name| column name |\n",
    "|:-------|:-------|\n",
    "|Critic_score|Aggregate score compiled by Metacritic staff|\n",
    "|Criticcount|The number of critics used in coming up with the Criticscore|\n",
    "|User_score|Score by Metacritic's subscribers|\n",
    "|Usercount| Number of users who gave the userscore|\n",
    "|Developer|Party responsible for creating the game|\n",
    "|Rating|The <span style=\"color:red\">ESRB</span> ratings|\n",
    "\n",
    "\n",
    "##### <span style=\"color:red\">ESRB</span> : The Entertainment Software Rating Board (ESRB) is a game rating review system used in the United States and Canada."
   ]
  },
  {
   "cell_type": "markdown",
   "metadata": {},
   "source": []
  },
  {
   "cell_type": "markdown",
   "metadata": {},
   "source": [
    "## Objective Setting\n",
    "### We would like to find out the relationship between sales by region and sales around the world."
   ]
  },
  {
   "cell_type": "code",
   "execution_count": 60,
   "metadata": {},
   "outputs": [],
   "source": [
    "import pandas as pd\n",
    "import numpy as np\n",
    "import matplotlib.pyplot as plt\n",
    "from sklearn.linear_model import LinearRegression\n",
    "from sklearn.neighbors import KNeighborsClassifier\n",
    "import seaborn as sns\n",
    "from sklearn.compose import make_column_transformer\n",
    "from sklearn.preprocessing import LabelEncoder\n",
    "from sklearn.model_selection import train_test_split,GridSearchCV,RandomizedSearchCV\n",
    "import sys\n",
    "sys.path.append(\"/Users/unixking/Desktop/데이터과학/팀프로젝트/\")\n",
    "import ds_pro\n"
   ]
  },
  {
   "cell_type": "code",
   "execution_count": 62,
   "metadata": {},
   "outputs": [
    {
     "data": {
      "text/html": [
       "<div>\n",
       "<style scoped>\n",
       "    .dataframe tbody tr th:only-of-type {\n",
       "        vertical-align: middle;\n",
       "    }\n",
       "\n",
       "    .dataframe tbody tr th {\n",
       "        vertical-align: top;\n",
       "    }\n",
       "\n",
       "    .dataframe thead th {\n",
       "        text-align: right;\n",
       "    }\n",
       "</style>\n",
       "<table border=\"1\" class=\"dataframe\">\n",
       "  <thead>\n",
       "    <tr style=\"text-align: right;\">\n",
       "      <th></th>\n",
       "      <th>Name</th>\n",
       "      <th>Platform</th>\n",
       "      <th>Year_of_Release</th>\n",
       "      <th>Genre</th>\n",
       "      <th>Publisher</th>\n",
       "      <th>NA_Sales</th>\n",
       "      <th>EU_Sales</th>\n",
       "      <th>JP_Sales</th>\n",
       "      <th>Other_Sales</th>\n",
       "      <th>Global_Sales</th>\n",
       "      <th>Critic_Score</th>\n",
       "      <th>Critic_Count</th>\n",
       "      <th>User_Score</th>\n",
       "      <th>User_Count</th>\n",
       "      <th>Developer</th>\n",
       "      <th>Rating</th>\n",
       "    </tr>\n",
       "  </thead>\n",
       "  <tbody>\n",
       "    <tr>\n",
       "      <th>0</th>\n",
       "      <td>Wii Sports</td>\n",
       "      <td>Wii</td>\n",
       "      <td>2006.0</td>\n",
       "      <td>Sports</td>\n",
       "      <td>Nintendo</td>\n",
       "      <td>41.36</td>\n",
       "      <td>28.96</td>\n",
       "      <td>3.77</td>\n",
       "      <td>8.45</td>\n",
       "      <td>82.53</td>\n",
       "      <td>76.0</td>\n",
       "      <td>51.0</td>\n",
       "      <td>8</td>\n",
       "      <td>322.0</td>\n",
       "      <td>Nintendo</td>\n",
       "      <td>E</td>\n",
       "    </tr>\n",
       "    <tr>\n",
       "      <th>1</th>\n",
       "      <td>Super Mario Bros.</td>\n",
       "      <td>NES</td>\n",
       "      <td>1985.0</td>\n",
       "      <td>Platform</td>\n",
       "      <td>Nintendo</td>\n",
       "      <td>29.08</td>\n",
       "      <td>3.58</td>\n",
       "      <td>6.81</td>\n",
       "      <td>0.77</td>\n",
       "      <td>40.24</td>\n",
       "      <td>NaN</td>\n",
       "      <td>NaN</td>\n",
       "      <td>NaN</td>\n",
       "      <td>NaN</td>\n",
       "      <td>NaN</td>\n",
       "      <td>NaN</td>\n",
       "    </tr>\n",
       "    <tr>\n",
       "      <th>2</th>\n",
       "      <td>Mario Kart Wii</td>\n",
       "      <td>Wii</td>\n",
       "      <td>2008.0</td>\n",
       "      <td>Racing</td>\n",
       "      <td>Nintendo</td>\n",
       "      <td>15.68</td>\n",
       "      <td>12.76</td>\n",
       "      <td>3.79</td>\n",
       "      <td>3.29</td>\n",
       "      <td>35.52</td>\n",
       "      <td>82.0</td>\n",
       "      <td>73.0</td>\n",
       "      <td>8.3</td>\n",
       "      <td>709.0</td>\n",
       "      <td>Nintendo</td>\n",
       "      <td>E</td>\n",
       "    </tr>\n",
       "    <tr>\n",
       "      <th>3</th>\n",
       "      <td>Wii Sports Resort</td>\n",
       "      <td>Wii</td>\n",
       "      <td>2009.0</td>\n",
       "      <td>Sports</td>\n",
       "      <td>Nintendo</td>\n",
       "      <td>15.61</td>\n",
       "      <td>10.93</td>\n",
       "      <td>3.28</td>\n",
       "      <td>2.95</td>\n",
       "      <td>32.77</td>\n",
       "      <td>80.0</td>\n",
       "      <td>73.0</td>\n",
       "      <td>8</td>\n",
       "      <td>192.0</td>\n",
       "      <td>Nintendo</td>\n",
       "      <td>E</td>\n",
       "    </tr>\n",
       "    <tr>\n",
       "      <th>4</th>\n",
       "      <td>Pokemon Red/Pokemon Blue</td>\n",
       "      <td>GB</td>\n",
       "      <td>1996.0</td>\n",
       "      <td>Role-Playing</td>\n",
       "      <td>Nintendo</td>\n",
       "      <td>11.27</td>\n",
       "      <td>8.89</td>\n",
       "      <td>10.22</td>\n",
       "      <td>1.00</td>\n",
       "      <td>31.37</td>\n",
       "      <td>NaN</td>\n",
       "      <td>NaN</td>\n",
       "      <td>NaN</td>\n",
       "      <td>NaN</td>\n",
       "      <td>NaN</td>\n",
       "      <td>NaN</td>\n",
       "    </tr>\n",
       "    <tr>\n",
       "      <th>...</th>\n",
       "      <td>...</td>\n",
       "      <td>...</td>\n",
       "      <td>...</td>\n",
       "      <td>...</td>\n",
       "      <td>...</td>\n",
       "      <td>...</td>\n",
       "      <td>...</td>\n",
       "      <td>...</td>\n",
       "      <td>...</td>\n",
       "      <td>...</td>\n",
       "      <td>...</td>\n",
       "      <td>...</td>\n",
       "      <td>...</td>\n",
       "      <td>...</td>\n",
       "      <td>...</td>\n",
       "      <td>...</td>\n",
       "    </tr>\n",
       "    <tr>\n",
       "      <th>16714</th>\n",
       "      <td>Samurai Warriors: Sanada Maru</td>\n",
       "      <td>PS3</td>\n",
       "      <td>2016.0</td>\n",
       "      <td>Action</td>\n",
       "      <td>Tecmo Koei</td>\n",
       "      <td>0.00</td>\n",
       "      <td>0.00</td>\n",
       "      <td>0.01</td>\n",
       "      <td>0.00</td>\n",
       "      <td>0.01</td>\n",
       "      <td>NaN</td>\n",
       "      <td>NaN</td>\n",
       "      <td>NaN</td>\n",
       "      <td>NaN</td>\n",
       "      <td>NaN</td>\n",
       "      <td>NaN</td>\n",
       "    </tr>\n",
       "    <tr>\n",
       "      <th>16715</th>\n",
       "      <td>LMA Manager 2007</td>\n",
       "      <td>X360</td>\n",
       "      <td>2006.0</td>\n",
       "      <td>Sports</td>\n",
       "      <td>Codemasters</td>\n",
       "      <td>0.00</td>\n",
       "      <td>0.01</td>\n",
       "      <td>0.00</td>\n",
       "      <td>0.00</td>\n",
       "      <td>0.01</td>\n",
       "      <td>NaN</td>\n",
       "      <td>NaN</td>\n",
       "      <td>NaN</td>\n",
       "      <td>NaN</td>\n",
       "      <td>NaN</td>\n",
       "      <td>NaN</td>\n",
       "    </tr>\n",
       "    <tr>\n",
       "      <th>16716</th>\n",
       "      <td>Haitaka no Psychedelica</td>\n",
       "      <td>PSV</td>\n",
       "      <td>2016.0</td>\n",
       "      <td>Adventure</td>\n",
       "      <td>Idea Factory</td>\n",
       "      <td>0.00</td>\n",
       "      <td>0.00</td>\n",
       "      <td>0.01</td>\n",
       "      <td>0.00</td>\n",
       "      <td>0.01</td>\n",
       "      <td>NaN</td>\n",
       "      <td>NaN</td>\n",
       "      <td>NaN</td>\n",
       "      <td>NaN</td>\n",
       "      <td>NaN</td>\n",
       "      <td>NaN</td>\n",
       "    </tr>\n",
       "    <tr>\n",
       "      <th>16717</th>\n",
       "      <td>Spirits &amp; Spells</td>\n",
       "      <td>GBA</td>\n",
       "      <td>2003.0</td>\n",
       "      <td>Platform</td>\n",
       "      <td>Wanadoo</td>\n",
       "      <td>0.01</td>\n",
       "      <td>0.00</td>\n",
       "      <td>0.00</td>\n",
       "      <td>0.00</td>\n",
       "      <td>0.01</td>\n",
       "      <td>NaN</td>\n",
       "      <td>NaN</td>\n",
       "      <td>NaN</td>\n",
       "      <td>NaN</td>\n",
       "      <td>NaN</td>\n",
       "      <td>NaN</td>\n",
       "    </tr>\n",
       "    <tr>\n",
       "      <th>16718</th>\n",
       "      <td>Winning Post 8 2016</td>\n",
       "      <td>PSV</td>\n",
       "      <td>2016.0</td>\n",
       "      <td>Simulation</td>\n",
       "      <td>Tecmo Koei</td>\n",
       "      <td>0.00</td>\n",
       "      <td>0.00</td>\n",
       "      <td>0.01</td>\n",
       "      <td>0.00</td>\n",
       "      <td>0.01</td>\n",
       "      <td>NaN</td>\n",
       "      <td>NaN</td>\n",
       "      <td>NaN</td>\n",
       "      <td>NaN</td>\n",
       "      <td>NaN</td>\n",
       "      <td>NaN</td>\n",
       "    </tr>\n",
       "  </tbody>\n",
       "</table>\n",
       "<p>16719 rows × 16 columns</p>\n",
       "</div>"
      ],
      "text/plain": [
       "                                Name Platform  Year_of_Release         Genre  \\\n",
       "0                         Wii Sports      Wii           2006.0        Sports   \n",
       "1                  Super Mario Bros.      NES           1985.0      Platform   \n",
       "2                     Mario Kart Wii      Wii           2008.0        Racing   \n",
       "3                  Wii Sports Resort      Wii           2009.0        Sports   \n",
       "4           Pokemon Red/Pokemon Blue       GB           1996.0  Role-Playing   \n",
       "...                              ...      ...              ...           ...   \n",
       "16714  Samurai Warriors: Sanada Maru      PS3           2016.0        Action   \n",
       "16715               LMA Manager 2007     X360           2006.0        Sports   \n",
       "16716        Haitaka no Psychedelica      PSV           2016.0     Adventure   \n",
       "16717               Spirits & Spells      GBA           2003.0      Platform   \n",
       "16718            Winning Post 8 2016      PSV           2016.0    Simulation   \n",
       "\n",
       "          Publisher  NA_Sales  EU_Sales  JP_Sales  Other_Sales  Global_Sales  \\\n",
       "0          Nintendo     41.36     28.96      3.77         8.45         82.53   \n",
       "1          Nintendo     29.08      3.58      6.81         0.77         40.24   \n",
       "2          Nintendo     15.68     12.76      3.79         3.29         35.52   \n",
       "3          Nintendo     15.61     10.93      3.28         2.95         32.77   \n",
       "4          Nintendo     11.27      8.89     10.22         1.00         31.37   \n",
       "...             ...       ...       ...       ...          ...           ...   \n",
       "16714    Tecmo Koei      0.00      0.00      0.01         0.00          0.01   \n",
       "16715   Codemasters      0.00      0.01      0.00         0.00          0.01   \n",
       "16716  Idea Factory      0.00      0.00      0.01         0.00          0.01   \n",
       "16717       Wanadoo      0.01      0.00      0.00         0.00          0.01   \n",
       "16718    Tecmo Koei      0.00      0.00      0.01         0.00          0.01   \n",
       "\n",
       "       Critic_Score  Critic_Count User_Score  User_Count Developer Rating  \n",
       "0              76.0          51.0          8       322.0  Nintendo      E  \n",
       "1               NaN           NaN        NaN         NaN       NaN    NaN  \n",
       "2              82.0          73.0        8.3       709.0  Nintendo      E  \n",
       "3              80.0          73.0          8       192.0  Nintendo      E  \n",
       "4               NaN           NaN        NaN         NaN       NaN    NaN  \n",
       "...             ...           ...        ...         ...       ...    ...  \n",
       "16714           NaN           NaN        NaN         NaN       NaN    NaN  \n",
       "16715           NaN           NaN        NaN         NaN       NaN    NaN  \n",
       "16716           NaN           NaN        NaN         NaN       NaN    NaN  \n",
       "16717           NaN           NaN        NaN         NaN       NaN    NaN  \n",
       "16718           NaN           NaN        NaN         NaN       NaN    NaN  \n",
       "\n",
       "[16719 rows x 16 columns]"
      ]
     },
     "execution_count": 62,
     "metadata": {},
     "output_type": "execute_result"
    }
   ],
   "source": [
    "data = pd.read_csv(\"/Users/unixking/Desktop/데이터과학/팀프로젝트/Video_Games_Sales_as_at_22_Dec_2016.csv\")\n",
    "data"
   ]
  },
  {
   "cell_type": "markdown",
   "metadata": {},
   "source": [
    "## Data exploration"
   ]
  },
  {
   "cell_type": "code",
   "execution_count": 63,
   "metadata": {},
   "outputs": [
    {
     "data": {
      "text/html": [
       "<div>\n",
       "<style scoped>\n",
       "    .dataframe tbody tr th:only-of-type {\n",
       "        vertical-align: middle;\n",
       "    }\n",
       "\n",
       "    .dataframe tbody tr th {\n",
       "        vertical-align: top;\n",
       "    }\n",
       "\n",
       "    .dataframe thead th {\n",
       "        text-align: right;\n",
       "    }\n",
       "</style>\n",
       "<table border=\"1\" class=\"dataframe\">\n",
       "  <thead>\n",
       "    <tr style=\"text-align: right;\">\n",
       "      <th></th>\n",
       "      <th>Name</th>\n",
       "      <th>Platform</th>\n",
       "      <th>Year_of_Release</th>\n",
       "      <th>Genre</th>\n",
       "      <th>Publisher</th>\n",
       "      <th>NA_Sales</th>\n",
       "      <th>EU_Sales</th>\n",
       "      <th>JP_Sales</th>\n",
       "      <th>Other_Sales</th>\n",
       "      <th>Global_Sales</th>\n",
       "    </tr>\n",
       "  </thead>\n",
       "  <tbody>\n",
       "    <tr>\n",
       "      <th>0</th>\n",
       "      <td>Wii Sports</td>\n",
       "      <td>Wii</td>\n",
       "      <td>2006.0</td>\n",
       "      <td>Sports</td>\n",
       "      <td>Nintendo</td>\n",
       "      <td>41.36</td>\n",
       "      <td>28.96</td>\n",
       "      <td>3.77</td>\n",
       "      <td>8.45</td>\n",
       "      <td>82.53</td>\n",
       "    </tr>\n",
       "    <tr>\n",
       "      <th>1</th>\n",
       "      <td>Super Mario Bros.</td>\n",
       "      <td>NES</td>\n",
       "      <td>1985.0</td>\n",
       "      <td>Platform</td>\n",
       "      <td>Nintendo</td>\n",
       "      <td>29.08</td>\n",
       "      <td>3.58</td>\n",
       "      <td>6.81</td>\n",
       "      <td>0.77</td>\n",
       "      <td>40.24</td>\n",
       "    </tr>\n",
       "    <tr>\n",
       "      <th>2</th>\n",
       "      <td>Mario Kart Wii</td>\n",
       "      <td>Wii</td>\n",
       "      <td>2008.0</td>\n",
       "      <td>Racing</td>\n",
       "      <td>Nintendo</td>\n",
       "      <td>15.68</td>\n",
       "      <td>12.76</td>\n",
       "      <td>3.79</td>\n",
       "      <td>3.29</td>\n",
       "      <td>35.52</td>\n",
       "    </tr>\n",
       "    <tr>\n",
       "      <th>3</th>\n",
       "      <td>Wii Sports Resort</td>\n",
       "      <td>Wii</td>\n",
       "      <td>2009.0</td>\n",
       "      <td>Sports</td>\n",
       "      <td>Nintendo</td>\n",
       "      <td>15.61</td>\n",
       "      <td>10.93</td>\n",
       "      <td>3.28</td>\n",
       "      <td>2.95</td>\n",
       "      <td>32.77</td>\n",
       "    </tr>\n",
       "    <tr>\n",
       "      <th>4</th>\n",
       "      <td>Pokemon Red/Pokemon Blue</td>\n",
       "      <td>GB</td>\n",
       "      <td>1996.0</td>\n",
       "      <td>Role-Playing</td>\n",
       "      <td>Nintendo</td>\n",
       "      <td>11.27</td>\n",
       "      <td>8.89</td>\n",
       "      <td>10.22</td>\n",
       "      <td>1.00</td>\n",
       "      <td>31.37</td>\n",
       "    </tr>\n",
       "    <tr>\n",
       "      <th>...</th>\n",
       "      <td>...</td>\n",
       "      <td>...</td>\n",
       "      <td>...</td>\n",
       "      <td>...</td>\n",
       "      <td>...</td>\n",
       "      <td>...</td>\n",
       "      <td>...</td>\n",
       "      <td>...</td>\n",
       "      <td>...</td>\n",
       "      <td>...</td>\n",
       "    </tr>\n",
       "    <tr>\n",
       "      <th>16714</th>\n",
       "      <td>Samurai Warriors: Sanada Maru</td>\n",
       "      <td>PS3</td>\n",
       "      <td>2016.0</td>\n",
       "      <td>Action</td>\n",
       "      <td>Tecmo Koei</td>\n",
       "      <td>0.00</td>\n",
       "      <td>0.00</td>\n",
       "      <td>0.01</td>\n",
       "      <td>0.00</td>\n",
       "      <td>0.01</td>\n",
       "    </tr>\n",
       "    <tr>\n",
       "      <th>16715</th>\n",
       "      <td>LMA Manager 2007</td>\n",
       "      <td>X360</td>\n",
       "      <td>2006.0</td>\n",
       "      <td>Sports</td>\n",
       "      <td>Codemasters</td>\n",
       "      <td>0.00</td>\n",
       "      <td>0.01</td>\n",
       "      <td>0.00</td>\n",
       "      <td>0.00</td>\n",
       "      <td>0.01</td>\n",
       "    </tr>\n",
       "    <tr>\n",
       "      <th>16716</th>\n",
       "      <td>Haitaka no Psychedelica</td>\n",
       "      <td>PSV</td>\n",
       "      <td>2016.0</td>\n",
       "      <td>Adventure</td>\n",
       "      <td>Idea Factory</td>\n",
       "      <td>0.00</td>\n",
       "      <td>0.00</td>\n",
       "      <td>0.01</td>\n",
       "      <td>0.00</td>\n",
       "      <td>0.01</td>\n",
       "    </tr>\n",
       "    <tr>\n",
       "      <th>16717</th>\n",
       "      <td>Spirits &amp; Spells</td>\n",
       "      <td>GBA</td>\n",
       "      <td>2003.0</td>\n",
       "      <td>Platform</td>\n",
       "      <td>Wanadoo</td>\n",
       "      <td>0.01</td>\n",
       "      <td>0.00</td>\n",
       "      <td>0.00</td>\n",
       "      <td>0.00</td>\n",
       "      <td>0.01</td>\n",
       "    </tr>\n",
       "    <tr>\n",
       "      <th>16718</th>\n",
       "      <td>Winning Post 8 2016</td>\n",
       "      <td>PSV</td>\n",
       "      <td>2016.0</td>\n",
       "      <td>Simulation</td>\n",
       "      <td>Tecmo Koei</td>\n",
       "      <td>0.00</td>\n",
       "      <td>0.00</td>\n",
       "      <td>0.01</td>\n",
       "      <td>0.00</td>\n",
       "      <td>0.01</td>\n",
       "    </tr>\n",
       "  </tbody>\n",
       "</table>\n",
       "<p>16719 rows × 10 columns</p>\n",
       "</div>"
      ],
      "text/plain": [
       "                                Name Platform  Year_of_Release         Genre  \\\n",
       "0                         Wii Sports      Wii           2006.0        Sports   \n",
       "1                  Super Mario Bros.      NES           1985.0      Platform   \n",
       "2                     Mario Kart Wii      Wii           2008.0        Racing   \n",
       "3                  Wii Sports Resort      Wii           2009.0        Sports   \n",
       "4           Pokemon Red/Pokemon Blue       GB           1996.0  Role-Playing   \n",
       "...                              ...      ...              ...           ...   \n",
       "16714  Samurai Warriors: Sanada Maru      PS3           2016.0        Action   \n",
       "16715               LMA Manager 2007     X360           2006.0        Sports   \n",
       "16716        Haitaka no Psychedelica      PSV           2016.0     Adventure   \n",
       "16717               Spirits & Spells      GBA           2003.0      Platform   \n",
       "16718            Winning Post 8 2016      PSV           2016.0    Simulation   \n",
       "\n",
       "          Publisher  NA_Sales  EU_Sales  JP_Sales  Other_Sales  Global_Sales  \n",
       "0          Nintendo     41.36     28.96      3.77         8.45         82.53  \n",
       "1          Nintendo     29.08      3.58      6.81         0.77         40.24  \n",
       "2          Nintendo     15.68     12.76      3.79         3.29         35.52  \n",
       "3          Nintendo     15.61     10.93      3.28         2.95         32.77  \n",
       "4          Nintendo     11.27      8.89     10.22         1.00         31.37  \n",
       "...             ...       ...       ...       ...          ...           ...  \n",
       "16714    Tecmo Koei      0.00      0.00      0.01         0.00          0.01  \n",
       "16715   Codemasters      0.00      0.01      0.00         0.00          0.01  \n",
       "16716  Idea Factory      0.00      0.00      0.01         0.00          0.01  \n",
       "16717       Wanadoo      0.01      0.00      0.00         0.00          0.01  \n",
       "16718    Tecmo Koei      0.00      0.00      0.01         0.00          0.01  \n",
       "\n",
       "[16719 rows x 10 columns]"
      ]
     },
     "execution_count": 63,
     "metadata": {},
     "output_type": "execute_result"
    }
   ],
   "source": [
    "data = data.iloc[:,0:10]    #You only need up to column 10 to analyze data on a topic.\n",
    "\n",
    "data"
   ]
  },
  {
   "cell_type": "code",
   "execution_count": 64,
   "metadata": {},
   "outputs": [
    {
     "name": "stdout",
     "output_type": "stream",
     "text": [
      "<class 'pandas.core.frame.DataFrame'>\n",
      "RangeIndex: 16719 entries, 0 to 16718\n",
      "Data columns (total 10 columns):\n",
      " #   Column           Non-Null Count  Dtype  \n",
      "---  ------           --------------  -----  \n",
      " 0   Name             16717 non-null  object \n",
      " 1   Platform         16719 non-null  object \n",
      " 2   Year_of_Release  16450 non-null  float64\n",
      " 3   Genre            16717 non-null  object \n",
      " 4   Publisher        16665 non-null  object \n",
      " 5   NA_Sales         16719 non-null  float64\n",
      " 6   EU_Sales         16719 non-null  float64\n",
      " 7   JP_Sales         16719 non-null  float64\n",
      " 8   Other_Sales      16719 non-null  float64\n",
      " 9   Global_Sales     16719 non-null  float64\n",
      "dtypes: float64(6), object(4)\n",
      "memory usage: 1.3+ MB\n",
      "None\n",
      "---------- data basic statistics ----------\n",
      "       Year_of_Release      NA_Sales      EU_Sales      JP_Sales  \\\n",
      "count     16450.000000  16719.000000  16719.000000  16719.000000   \n",
      "mean       2006.487356      0.263330      0.145025      0.077602   \n",
      "std           5.878995      0.813514      0.503283      0.308818   \n",
      "min        1980.000000      0.000000      0.000000      0.000000   \n",
      "25%        2003.000000      0.000000      0.000000      0.000000   \n",
      "50%        2007.000000      0.080000      0.020000      0.000000   \n",
      "75%        2010.000000      0.240000      0.110000      0.040000   \n",
      "max        2020.000000     41.360000     28.960000     10.220000   \n",
      "\n",
      "        Other_Sales  Global_Sales  \n",
      "count  16719.000000  16719.000000  \n",
      "mean       0.047332      0.533543  \n",
      "std        0.186710      1.547935  \n",
      "min        0.000000      0.010000  \n",
      "25%        0.000000      0.060000  \n",
      "50%        0.010000      0.170000  \n",
      "75%        0.030000      0.470000  \n",
      "max       10.570000     82.530000  \n"
     ]
    }
   ],
   "source": [
    "ds_pro.exploation(data)"
   ]
  },
  {
   "cell_type": "code",
   "execution_count": 65,
   "metadata": {},
   "outputs": [
    {
     "name": "stdout",
     "output_type": "stream",
     "text": [
      "Name                 2\n",
      "Platform             0\n",
      "Year_of_Release    269\n",
      "Genre                2\n",
      "Publisher           54\n",
      "NA_Sales             0\n",
      "EU_Sales             0\n",
      "JP_Sales             0\n",
      "Other_Sales          0\n",
      "Global_Sales         0\n",
      "dtype: int64\n"
     ]
    },
    {
     "data": {
      "image/png": "[encoded data removed]",
      "text/plain": [
       "<Figure size 1080x360 with 1 Axes>"
      ]
     },
     "metadata": {
      "needs_background": "light"
     },
     "output_type": "display_data"
    }
   ],
   "source": [
    "ds_pro.nul(data)"
   ]
  },
  {
   "cell_type": "code",
   "execution_count": 4,
   "metadata": {},
   "outputs": [],
   "source": [
    "data = data.dropna()    #It was judged that the absence of about 300 out of 16719 data did not significantly impede data analysis.\n",
    "data = data.reset_index(drop=True)"
   ]
  },
  {
   "cell_type": "code",
   "execution_count": 9,
   "metadata": {},
   "outputs": [
    {
     "name": "stdout",
     "output_type": "stream",
     "text": [
      "Name               0\n",
      "Platform           0\n",
      "Year_of_Release    0\n",
      "Genre              0\n",
      "Publisher          0\n",
      "NA_Sales           0\n",
      "EU_Sales           0\n",
      "JP_Sales           0\n",
      "Other_Sales        0\n",
      "Global_Sales       0\n",
      "dtype: int64\n"
     ]
    },
    {
     "data": {
      "image/png": "[encoded data removed]",
      "text/plain": [
       "<Figure size 1080x360 with 1 Axes>"
      ]
     },
     "metadata": {
      "needs_background": "light"
     },
     "output_type": "display_data"
    }
   ],
   "source": [
    "ds_pro.nul(data)"
   ]
  },
  {
   "cell_type": "markdown",
   "metadata": {},
   "source": [
    "## EDA analysis through visualization"
   ]
  },
  {
   "cell_type": "code",
   "execution_count": 10,
   "metadata": {},
   "outputs": [
    {
     "data": {
      "image/png": "[encoded data removed]",
      "text/plain": [
       "<Figure size 432x288 with 1 Axes>"
      ]
     },
     "metadata": {
      "needs_background": "light"
     },
     "output_type": "display_data"
    }
   ],
   "source": [
    "plt.hist(data['Platform'],width = 0.5)  #(Nintendo) You can see that the DS platform has the most\n",
    "plt.xticks(rotation = 90)\n",
    "plt.show()"
   ]
  },
  {
   "cell_type": "code",
   "execution_count": 11,
   "metadata": {},
   "outputs": [
    {
     "data": {
      "image/png": "[encoded data removed]",
      "text/plain": [
       "<Figure size 432x288 with 1 Axes>"
      ]
     },
     "metadata": {
      "needs_background": "light"
     },
     "output_type": "display_data"
    }
   ],
   "source": [
    "plt.hist(data['Year_of_Release'],width = 1,bins = 38)\n",
    "plt.show()"
   ]
  },
  {
   "cell_type": "markdown",
   "metadata": {},
   "source": [
    "### It gradually increased from the 1990s, rose sharply after 2000, and was the most popular in 2010, \n",
    "### but it is on a declining trend as it approaches the present time."
   ]
  },
  {
   "cell_type": "code",
   "execution_count": 12,
   "metadata": {},
   "outputs": [
    {
     "data": {
      "image/png": "[encoded data removed]",
      "text/plain": [
       "<Figure size 432x288 with 1 Axes>"
      ]
     },
     "metadata": {
      "needs_background": "light"
     },
     "output_type": "display_data"
    }
   ],
   "source": [
    "plt.hist(data['Genre'], width = 1.1)     #Among the game genres, the action genre is the most popular.\n",
    "plt.xticks(rotation = 45)\n",
    "plt.show()"
   ]
  },
  {
   "cell_type": "code",
   "execution_count": 13,
   "metadata": {},
   "outputs": [
    {
     "data": {
      "application/vnd.plotly.v1+json": {
       "config": {
        "linkText": "Export to plot.ly",
        "plotlyServerURL": "https://plot.ly",
        "showLink": false
       },
       "data": [
        {
         "hole": 0.3,
         "labels": [
          "Action",
          "Sports",
          "Misc",
          "Role-Playing",
          "Shooter",
          "Adventure",
          "Racing",
          "Platform",
          "Simulation",
          "Fighting",
          "Strategy",
          "Puzzle"
         ],
         "type": "pie",
         "values": [
          3307,
          2306,
          1697,
          1483,
          1296,
          1291,
          1225,
          878,
          855,
          837,
          672,
          569
         ]
        }
       ],
       "layout": {
        "template": {
         "data": {
          "bar": [
           {
            "error_x": {
             "color": "#2a3f5f"
            },
            "error_y": {
             "color": "#2a3f5f"
            },
            "marker": {
             "line": {
              "color": "#E5ECF6",
              "width": 0.5
             },
             "pattern": {
              "fillmode": "overlay",
              "size": 10,
              "solidity": 0.2
             }
            },
            "type": "bar"
           }
          ],
          "barpolar": [
           {
            "marker": {
             "line": {
              "color": "#E5ECF6",
              "width": 0.5
             },
             "pattern": {
              "fillmode": "overlay",
              "size": 10,
              "solidity": 0.2
             }
            },
            "type": "barpolar"
           }
          ],
          "carpet": [
           {
            "aaxis": {
             "endlinecolor": "#2a3f5f",
             "gridcolor": "white",
             "linecolor": "white",
             "minorgridcolor": "white",
             "startlinecolor": "#2a3f5f"
            },
            "baxis": {
             "endlinecolor": "#2a3f5f",
             "gridcolor": "white",
             "linecolor": "white",
             "minorgridcolor": "white",
             "startlinecolor": "#2a3f5f"
            },
            "type": "carpet"
           }
          ],
          "choropleth": [
           {
            "colorbar": {
             "outlinewidth": 0,
             "ticks": ""
            },
            "type": "choropleth"
           }
          ],
          "contour": [
           {
            "colorbar": {
             "outlinewidth": 0,
             "ticks": ""
            },
            "colorscale": [
             [
              0,
              "#0d0887"
             ],
             [
              0.1111111111111111,
              "#46039f"
             ],
             [
              0.2222222222222222,
              "#7201a8"
             ],
             [
              0.3333333333333333,
              "#9c179e"
             ],
             [
              0.4444444444444444,
              "#bd3786"
             ],
             [
              0.5555555555555556,
              "#d8576b"
             ],
             [
              0.6666666666666666,
              "#ed7953"
             ],
             [
              0.7777777777777778,
              "#fb9f3a"
             ],
             [
              0.8888888888888888,
              "#fdca26"
             ],
             [
              1,
              "#f0f921"
             ]
            ],
            "type": "contour"
           }
          ],
          "contourcarpet": [
           {
            "colorbar": {
             "outlinewidth": 0,
             "ticks": ""
            },
            "type": "contourcarpet"
           }
          ],
          "heatmap": [
           {
            "colorbar": {
             "outlinewidth": 0,
             "ticks": ""
            },
            "colorscale": [
             [
              0,
              "#0d0887"
             ],
             [
              0.1111111111111111,
              "#46039f"
             ],
             [
              0.2222222222222222,
              "#7201a8"
             ],
             [
              0.3333333333333333,
              "#9c179e"
             ],
             [
              0.4444444444444444,
              "#bd3786"
             ],
             [
              0.5555555555555556,
              "#d8576b"
             ],
             [
              0.6666666666666666,
              "#ed7953"
             ],
             [
              0.7777777777777778,
              "#fb9f3a"
             ],
             [
              0.8888888888888888,
              "#fdca26"
             ],
             [
              1,
              "#f0f921"
             ]
            ],
            "type": "heatmap"
           }
          ],
          "heatmapgl": [
           {
            "colorbar": {
             "outlinewidth": 0,
             "ticks": ""
            },
            "colorscale": [
             [
              0,
              "#0d0887"
             ],
             [
              0.1111111111111111,
              "#46039f"
             ],
             [
              0.2222222222222222,
              "#7201a8"
             ],
             [
              0.3333333333333333,
              "#9c179e"
             ],
             [
              0.4444444444444444,
              "#bd3786"
             ],
             [
              0.5555555555555556,
              "#d8576b"
             ],
             [
              0.6666666666666666,
              "#ed7953"
             ],
             [
              0.7777777777777778,
              "#fb9f3a"
             ],
             [
              0.8888888888888888,
              "#fdca26"
             ],
             [
              1,
              "#f0f921"
             ]
            ],
            "type": "heatmapgl"
           }
          ],
          "histogram": [
           {
            "marker": {
             "pattern": {
              "fillmode": "overlay",
              "size": 10,
              "solidity": 0.2
             }
            },
            "type": "histogram"
           }
          ],
          "histogram2d": [
           {
            "colorbar": {
             "outlinewidth": 0,
             "ticks": ""
            },
            "colorscale": [
             [
              0,
              "#0d0887"
             ],
             [
              0.1111111111111111,
              "#46039f"
             ],
             [
              0.2222222222222222,
              "#7201a8"
             ],
             [
              0.3333333333333333,
              "#9c179e"
             ],
             [
              0.4444444444444444,
              "#bd3786"
             ],
             [
              0.5555555555555556,
              "#d8576b"
             ],
             [
              0.6666666666666666,
              "#ed7953"
             ],
             [
              0.7777777777777778,
              "#fb9f3a"
             ],
             [
              0.8888888888888888,
              "#fdca26"
             ],
             [
              1,
              "#f0f921"
             ]
            ],
            "type": "histogram2d"
           }
          ],
          "histogram2dcontour": [
           {
            "colorbar": {
             "outlinewidth": 0,
             "ticks": ""
            },
            "colorscale": [
             [
              0,
              "#0d0887"
             ],
             [
              0.1111111111111111,
              "#46039f"
             ],
             [
              0.2222222222222222,
              "#7201a8"
             ],
             [
              0.3333333333333333,
              "#9c179e"
             ],
             [
              0.4444444444444444,
              "#bd3786"
             ],
             [
              0.5555555555555556,
              "#d8576b"
             ],
             [
              0.6666666666666666,
              "#ed7953"
             ],
             [
              0.7777777777777778,
              "#fb9f3a"
             ],
             [
              0.8888888888888888,
              "#fdca26"
             ],
             [
              1,
              "#f0f921"
             ]
            ],
            "type": "histogram2dcontour"
           }
          ],
          "mesh3d": [
           {
            "colorbar": {
             "outlinewidth": 0,
             "ticks": ""
            },
            "type": "mesh3d"
           }
          ],
          "parcoords": [
           {
            "line": {
             "colorbar": {
              "outlinewidth": 0,
              "ticks": ""
             }
            },
            "type": "parcoords"
           }
          ],
          "pie": [
           {
            "automargin": true,
            "type": "pie"
           }
          ],
          "scatter": [
           {
            "marker": {
             "colorbar": {
              "outlinewidth": 0,
              "ticks": ""
             }
            },
            "type": "scatter"
           }
          ],
          "scatter3d": [
           {
            "line": {
             "colorbar": {
              "outlinewidth": 0,
              "ticks": ""
             }
            },
            "marker": {
             "colorbar": {
              "outlinewidth": 0,
              "ticks": ""
             }
            },
            "type": "scatter3d"
           }
          ],
          "scattercarpet": [
           {
            "marker": {
             "colorbar": {
              "outlinewidth": 0,
              "ticks": ""
             }
            },
            "type": "scattercarpet"
           }
          ],
          "scattergeo": [
           {
            "marker": {
             "colorbar": {
              "outlinewidth": 0,
              "ticks": ""
             }
            },
            "type": "scattergeo"
           }
          ],
          "scattergl": [
           {
            "marker": {
             "colorbar": {
              "outlinewidth": 0,
              "ticks": ""
             }
            },
            "type": "scattergl"
           }
          ],
          "scattermapbox": [
           {
            "marker": {
             "colorbar": {
              "outlinewidth": 0,
              "ticks": ""
             }
            },
            "type": "scattermapbox"
           }
          ],
          "scatterpolar": [
           {
            "marker": {
             "colorbar": {
              "outlinewidth": 0,
              "ticks": ""
             }
            },
            "type": "scatterpolar"
           }
          ],
          "scatterpolargl": [
           {
            "marker": {
             "colorbar": {
              "outlinewidth": 0,
              "ticks": ""
             }
            },
            "type": "scatterpolargl"
           }
          ],
          "scatterternary": [
           {
            "marker": {
             "colorbar": {
              "outlinewidth": 0,
              "ticks": ""
             }
            },
            "type": "scatterternary"
           }
          ],
          "surface": [
           {
            "colorbar": {
             "outlinewidth": 0,
             "ticks": ""
            },
            "colorscale": [
             [
              0,
              "#0d0887"
             ],
             [
              0.1111111111111111,
              "#46039f"
             ],
             [
              0.2222222222222222,
              "#7201a8"
             ],
             [
              0.3333333333333333,
              "#9c179e"
             ],
             [
              0.4444444444444444,
              "#bd3786"
             ],
             [
              0.5555555555555556,
              "#d8576b"
             ],
             [
              0.6666666666666666,
              "#ed7953"
             ],
             [
              0.7777777777777778,
              "#fb9f3a"
             ],
             [
              0.8888888888888888,
              "#fdca26"
             ],
             [
              1,
              "#f0f921"
             ]
            ],
            "type": "surface"
           }
          ],
          "table": [
           {
            "cells": {
             "fill": {
              "color": "#EBF0F8"
             },
             "line": {
              "color": "white"
             }
            },
            "header": {
             "fill": {
              "color": "#C8D4E3"
             },
             "line": {
              "color": "white"
             }
            },
            "type": "table"
           }
          ]
         },
         "layout": {
          "annotationdefaults": {
           "arrowcolor": "#2a3f5f",
           "arrowhead": 0,
           "arrowwidth": 1
          },
          "autotypenumbers": "strict",
          "coloraxis": {
           "colorbar": {
            "outlinewidth": 0,
            "ticks": ""
           }
          },
          "colorscale": {
           "diverging": [
            [
             0,
             "#8e0152"
            ],
            [
             0.1,
             "#c51b7d"
            ],
            [
             0.2,
             "#de77ae"
            ],
            [
             0.3,
             "#f1b6da"
            ],
            [
             0.4,
             "#fde0ef"
            ],
            [
             0.5,
             "#f7f7f7"
            ],
            [
             0.6,
             "#e6f5d0"
            ],
            [
             0.7,
             "#b8e186"
            ],
            [
             0.8,
             "#7fbc41"
            ],
            [
             0.9,
             "#4d9221"
            ],
            [
             1,
             "#276419"
            ]
           ],
           "sequential": [
            [
             0,
             "#0d0887"
            ],
            [
             0.1111111111111111,
             "#46039f"
            ],
            [
             0.2222222222222222,
             "#7201a8"
            ],
            [
             0.3333333333333333,
             "#9c179e"
            ],
            [
             0.4444444444444444,
             "#bd3786"
            ],
            [
             0.5555555555555556,
             "#d8576b"
            ],
            [
             0.6666666666666666,
             "#ed7953"
            ],
            [
             0.7777777777777778,
             "#fb9f3a"
            ],
            [
             0.8888888888888888,
             "#fdca26"
            ],
            [
             1,
             "#f0f921"
            ]
           ],
           "sequentialminus": [
            [
             0,
             "#0d0887"
            ],
            [
             0.1111111111111111,
             "#46039f"
            ],
            [
             0.2222222222222222,
             "#7201a8"
            ],
            [
             0.3333333333333333,
             "#9c179e"
            ],
            [
             0.4444444444444444,
             "#bd3786"
            ],
            [
             0.5555555555555556,
             "#d8576b"
            ],
            [
             0.6666666666666666,
             "#ed7953"
            ],
            [
             0.7777777777777778,
             "#fb9f3a"
            ],
            [
             0.8888888888888888,
             "#fdca26"
            ],
            [
             1,
             "#f0f921"
            ]
           ]
          },
          "colorway": [
           "#636efa",
           "#EF553B",
           "#00cc96",
           "#ab63fa",
           "#FFA15A",
           "#19d3f3",
           "#FF6692",
           "#B6E880",
           "#FF97FF",
           "#FECB52"
          ],
          "font": {
           "color": "#2a3f5f"
          },
          "geo": {
           "bgcolor": "white",
           "lakecolor": "white",
           "landcolor": "#E5ECF6",
           "showlakes": true,
           "showland": true,
           "subunitcolor": "white"
          },
          "hoverlabel": {
           "align": "left"
          },
          "hovermode": "closest",
          "mapbox": {
           "style": "light"
          },
          "paper_bgcolor": "white",
          "plot_bgcolor": "#E5ECF6",
          "polar": {
           "angularaxis": {
            "gridcolor": "white",
            "linecolor": "white",
            "ticks": ""
           },
           "bgcolor": "#E5ECF6",
           "radialaxis": {
            "gridcolor": "white",
            "linecolor": "white",
            "ticks": ""
           }
          },
          "scene": {
           "xaxis": {
            "backgroundcolor": "#E5ECF6",
            "gridcolor": "white",
            "gridwidth": 2,
            "linecolor": "white",
            "showbackground": true,
            "ticks": "",
            "zerolinecolor": "white"
           },
           "yaxis": {
            "backgroundcolor": "#E5ECF6",
            "gridcolor": "white",
            "gridwidth": 2,
            "linecolor": "white",
            "showbackground": true,
            "ticks": "",
            "zerolinecolor": "white"
           },
           "zaxis": {
            "backgroundcolor": "#E5ECF6",
            "gridcolor": "white",
            "gridwidth": 2,
            "linecolor": "white",
            "showbackground": true,
            "ticks": "",
            "zerolinecolor": "white"
           }
          },
          "shapedefaults": {
           "line": {
            "color": "#2a3f5f"
           }
          },
          "ternary": {
           "aaxis": {
            "gridcolor": "white",
            "linecolor": "white",
            "ticks": ""
           },
           "baxis": {
            "gridcolor": "white",
            "linecolor": "white",
            "ticks": ""
           },
           "bgcolor": "#E5ECF6",
           "caxis": {
            "gridcolor": "white",
            "linecolor": "white",
            "ticks": ""
           }
          },
          "title": {
           "x": 0.05
          },
          "xaxis": {
           "automargin": true,
           "gridcolor": "white",
           "linecolor": "white",
           "ticks": "",
           "title": {
            "standoff": 15
           },
           "zerolinecolor": "white",
           "zerolinewidth": 2
          },
          "yaxis": {
           "automargin": true,
           "gridcolor": "white",
           "linecolor": "white",
           "ticks": "",
           "title": {
            "standoff": 15
           },
           "zerolinecolor": "white",
           "zerolinewidth": 2
          }
         }
        },
        "title": {
         "text": "Fraction of games of each Genre"
        }
       }
      }
     },
     "metadata": {},
     "output_type": "display_data"
    }
   ],
   "source": [
    "ds_pro.go_pie(data, 'Genre')\n"
   ]
  },
  {
   "cell_type": "code",
   "execution_count": 14,
   "metadata": {},
   "outputs": [
    {
     "data": {
      "text/html": [
       "<div>\n",
       "<style scoped>\n",
       "    .dataframe tbody tr th:only-of-type {\n",
       "        vertical-align: middle;\n",
       "    }\n",
       "\n",
       "    .dataframe tbody tr th {\n",
       "        vertical-align: top;\n",
       "    }\n",
       "\n",
       "    .dataframe thead th {\n",
       "        text-align: right;\n",
       "    }\n",
       "</style>\n",
       "<table border=\"1\" class=\"dataframe\">\n",
       "  <thead>\n",
       "    <tr style=\"text-align: right;\">\n",
       "      <th></th>\n",
       "      <th>Sales_by_Genre</th>\n",
       "    </tr>\n",
       "    <tr>\n",
       "      <th>Genre</th>\n",
       "      <th></th>\n",
       "    </tr>\n",
       "  </thead>\n",
       "  <tbody>\n",
       "    <tr>\n",
       "      <th>Action</th>\n",
       "      <td>1717.62</td>\n",
       "    </tr>\n",
       "    <tr>\n",
       "      <th>Sports</th>\n",
       "      <td>1310.39</td>\n",
       "    </tr>\n",
       "    <tr>\n",
       "      <th>Shooter</th>\n",
       "      <td>1041.83</td>\n",
       "    </tr>\n",
       "    <tr>\n",
       "      <th>Role-Playing</th>\n",
       "      <td>930.90</td>\n",
       "    </tr>\n",
       "    <tr>\n",
       "      <th>Platform</th>\n",
       "      <td>825.86</td>\n",
       "    </tr>\n",
       "  </tbody>\n",
       "</table>\n",
       "</div>"
      ],
      "text/plain": [
       "              Sales_by_Genre\n",
       "Genre                       \n",
       "Action               1717.62\n",
       "Sports               1310.39\n",
       "Shooter              1041.83\n",
       "Role-Playing          930.90\n",
       "Platform              825.86"
      ]
     },
     "execution_count": 14,
     "metadata": {},
     "output_type": "execute_result"
    }
   ],
   "source": [
    "genre_sales = data.groupby('Genre')['Global_Sales'].agg(['sum'])\n",
    "genre_sales.columns = ['Sales_by_Genre']\n",
    "top5=genre_sales.sort_values(by=\"Sales_by_Genre\", ascending=False).head(5) #Assign the top 5 most popular to a variable called top5\n",
    "top5"
   ]
  },
  {
   "cell_type": "code",
   "execution_count": 15,
   "metadata": {},
   "outputs": [
    {
     "data": {
      "text/html": [
       "<div>\n",
       "<style scoped>\n",
       "    .dataframe tbody tr th:only-of-type {\n",
       "        vertical-align: middle;\n",
       "    }\n",
       "\n",
       "    .dataframe tbody tr th {\n",
       "        vertical-align: top;\n",
       "    }\n",
       "\n",
       "    .dataframe thead th {\n",
       "        text-align: right;\n",
       "    }\n",
       "</style>\n",
       "<table border=\"1\" class=\"dataframe\">\n",
       "  <thead>\n",
       "    <tr style=\"text-align: right;\">\n",
       "      <th></th>\n",
       "      <th>Name</th>\n",
       "      <th>Platform</th>\n",
       "      <th>Year_of_Release</th>\n",
       "      <th>Genre</th>\n",
       "      <th>Publisher</th>\n",
       "      <th>NA_Sales</th>\n",
       "      <th>EU_Sales</th>\n",
       "      <th>JP_Sales</th>\n",
       "      <th>Other_Sales</th>\n",
       "      <th>Global_Sales</th>\n",
       "    </tr>\n",
       "  </thead>\n",
       "  <tbody>\n",
       "    <tr>\n",
       "      <th>0</th>\n",
       "      <td>Wii Sports</td>\n",
       "      <td>Wii</td>\n",
       "      <td>2006.0</td>\n",
       "      <td>Sports</td>\n",
       "      <td>Nintendo</td>\n",
       "      <td>41.36</td>\n",
       "      <td>28.96</td>\n",
       "      <td>3.77</td>\n",
       "      <td>8.45</td>\n",
       "      <td>82.53</td>\n",
       "    </tr>\n",
       "    <tr>\n",
       "      <th>1</th>\n",
       "      <td>Super Mario Bros.</td>\n",
       "      <td>NES</td>\n",
       "      <td>1985.0</td>\n",
       "      <td>Platform</td>\n",
       "      <td>Nintendo</td>\n",
       "      <td>29.08</td>\n",
       "      <td>3.58</td>\n",
       "      <td>6.81</td>\n",
       "      <td>0.77</td>\n",
       "      <td>40.24</td>\n",
       "    </tr>\n",
       "    <tr>\n",
       "      <th>3</th>\n",
       "      <td>Wii Sports Resort</td>\n",
       "      <td>Wii</td>\n",
       "      <td>2009.0</td>\n",
       "      <td>Sports</td>\n",
       "      <td>Nintendo</td>\n",
       "      <td>15.61</td>\n",
       "      <td>10.93</td>\n",
       "      <td>3.28</td>\n",
       "      <td>2.95</td>\n",
       "      <td>32.77</td>\n",
       "    </tr>\n",
       "    <tr>\n",
       "      <th>4</th>\n",
       "      <td>Pokemon Red/Pokemon Blue</td>\n",
       "      <td>GB</td>\n",
       "      <td>1996.0</td>\n",
       "      <td>Role-Playing</td>\n",
       "      <td>Nintendo</td>\n",
       "      <td>11.27</td>\n",
       "      <td>8.89</td>\n",
       "      <td>10.22</td>\n",
       "      <td>1.00</td>\n",
       "      <td>31.37</td>\n",
       "    </tr>\n",
       "    <tr>\n",
       "      <th>6</th>\n",
       "      <td>New Super Mario Bros.</td>\n",
       "      <td>DS</td>\n",
       "      <td>2006.0</td>\n",
       "      <td>Platform</td>\n",
       "      <td>Nintendo</td>\n",
       "      <td>11.28</td>\n",
       "      <td>9.14</td>\n",
       "      <td>6.50</td>\n",
       "      <td>2.88</td>\n",
       "      <td>29.80</td>\n",
       "    </tr>\n",
       "    <tr>\n",
       "      <th>...</th>\n",
       "      <td>...</td>\n",
       "      <td>...</td>\n",
       "      <td>...</td>\n",
       "      <td>...</td>\n",
       "      <td>...</td>\n",
       "      <td>...</td>\n",
       "      <td>...</td>\n",
       "      <td>...</td>\n",
       "      <td>...</td>\n",
       "      <td>...</td>\n",
       "    </tr>\n",
       "    <tr>\n",
       "      <th>16407</th>\n",
       "      <td>Men in Black II: Alien Escape</td>\n",
       "      <td>GC</td>\n",
       "      <td>2003.0</td>\n",
       "      <td>Shooter</td>\n",
       "      <td>Infogrames</td>\n",
       "      <td>0.01</td>\n",
       "      <td>0.00</td>\n",
       "      <td>0.00</td>\n",
       "      <td>0.00</td>\n",
       "      <td>0.01</td>\n",
       "    </tr>\n",
       "    <tr>\n",
       "      <th>16409</th>\n",
       "      <td>Woody Woodpecker in Crazy Castle 5</td>\n",
       "      <td>GBA</td>\n",
       "      <td>2002.0</td>\n",
       "      <td>Platform</td>\n",
       "      <td>Kemco</td>\n",
       "      <td>0.01</td>\n",
       "      <td>0.00</td>\n",
       "      <td>0.00</td>\n",
       "      <td>0.00</td>\n",
       "      <td>0.01</td>\n",
       "    </tr>\n",
       "    <tr>\n",
       "      <th>16411</th>\n",
       "      <td>Samurai Warriors: Sanada Maru</td>\n",
       "      <td>PS3</td>\n",
       "      <td>2016.0</td>\n",
       "      <td>Action</td>\n",
       "      <td>Tecmo Koei</td>\n",
       "      <td>0.00</td>\n",
       "      <td>0.00</td>\n",
       "      <td>0.01</td>\n",
       "      <td>0.00</td>\n",
       "      <td>0.01</td>\n",
       "    </tr>\n",
       "    <tr>\n",
       "      <th>16412</th>\n",
       "      <td>LMA Manager 2007</td>\n",
       "      <td>X360</td>\n",
       "      <td>2006.0</td>\n",
       "      <td>Sports</td>\n",
       "      <td>Codemasters</td>\n",
       "      <td>0.00</td>\n",
       "      <td>0.01</td>\n",
       "      <td>0.00</td>\n",
       "      <td>0.00</td>\n",
       "      <td>0.01</td>\n",
       "    </tr>\n",
       "    <tr>\n",
       "      <th>16414</th>\n",
       "      <td>Spirits &amp; Spells</td>\n",
       "      <td>GBA</td>\n",
       "      <td>2003.0</td>\n",
       "      <td>Platform</td>\n",
       "      <td>Wanadoo</td>\n",
       "      <td>0.01</td>\n",
       "      <td>0.00</td>\n",
       "      <td>0.00</td>\n",
       "      <td>0.00</td>\n",
       "      <td>0.01</td>\n",
       "    </tr>\n",
       "  </tbody>\n",
       "</table>\n",
       "<p>9270 rows × 10 columns</p>\n",
       "</div>"
      ],
      "text/plain": [
       "                                     Name Platform  Year_of_Release  \\\n",
       "0                              Wii Sports      Wii           2006.0   \n",
       "1                       Super Mario Bros.      NES           1985.0   \n",
       "3                       Wii Sports Resort      Wii           2009.0   \n",
       "4                Pokemon Red/Pokemon Blue       GB           1996.0   \n",
       "6                   New Super Mario Bros.       DS           2006.0   \n",
       "...                                   ...      ...              ...   \n",
       "16407       Men in Black II: Alien Escape       GC           2003.0   \n",
       "16409  Woody Woodpecker in Crazy Castle 5      GBA           2002.0   \n",
       "16411       Samurai Warriors: Sanada Maru      PS3           2016.0   \n",
       "16412                    LMA Manager 2007     X360           2006.0   \n",
       "16414                    Spirits & Spells      GBA           2003.0   \n",
       "\n",
       "              Genre    Publisher  NA_Sales  EU_Sales  JP_Sales  Other_Sales  \\\n",
       "0            Sports     Nintendo     41.36     28.96      3.77         8.45   \n",
       "1          Platform     Nintendo     29.08      3.58      6.81         0.77   \n",
       "3            Sports     Nintendo     15.61     10.93      3.28         2.95   \n",
       "4      Role-Playing     Nintendo     11.27      8.89     10.22         1.00   \n",
       "6          Platform     Nintendo     11.28      9.14      6.50         2.88   \n",
       "...             ...          ...       ...       ...       ...          ...   \n",
       "16407       Shooter   Infogrames      0.01      0.00      0.00         0.00   \n",
       "16409      Platform        Kemco      0.01      0.00      0.00         0.00   \n",
       "16411        Action   Tecmo Koei      0.00      0.00      0.01         0.00   \n",
       "16412        Sports  Codemasters      0.00      0.01      0.00         0.00   \n",
       "16414      Platform      Wanadoo      0.01      0.00      0.00         0.00   \n",
       "\n",
       "       Global_Sales  \n",
       "0             82.53  \n",
       "1             40.24  \n",
       "3             32.77  \n",
       "4             31.37  \n",
       "6             29.80  \n",
       "...             ...  \n",
       "16407          0.01  \n",
       "16409          0.01  \n",
       "16411          0.01  \n",
       "16412          0.01  \n",
       "16414          0.01  \n",
       "\n",
       "[9270 rows x 10 columns]"
      ]
     },
     "execution_count": 15,
     "metadata": {},
     "output_type": "execute_result"
    }
   ],
   "source": [
    "in_top5 = data['Genre'].str.contains(\"Action|Sports|Shooter|Role-Playing|Platform\")\n",
    "top5_genre=data[in_top5] # Pick only those that are publishers in the top 20\n",
    "top5_genre"
   ]
  },
  {
   "cell_type": "code",
   "execution_count": 16,
   "metadata": {},
   "outputs": [
    {
     "data": {
      "image/png": "[encoded data removed]",
      "text/plain": [
       "<Figure size 432x288 with 1 Axes>"
      ]
     },
     "metadata": {
      "needs_background": "light"
     },
     "output_type": "display_data"
    }
   ],
   "source": [
    "plt.hist(top5_genre['Genre'],bins=5,width=0.9)\n",
    "plt.show()"
   ]
  },
  {
   "cell_type": "code",
   "execution_count": 17,
   "metadata": {},
   "outputs": [],
   "source": [
    "action_df = data[data['Genre']=='Action']['Year_of_Release'].value_counts().sort_index()\n",
    "sports_df = data[data['Genre']=='Sports']['Year_of_Release'].value_counts().sort_index()\n",
    "role_df = data[data['Genre']=='Role-Playing']['Year_of_Release'].value_counts().sort_index()\n",
    "shooter_df = data[data['Genre']=='Shooter']['Year_of_Release'].value_counts().sort_index()\n",
    "platform_df = data[data['Genre']=='Platform']['Year_of_Release'].value_counts().sort_index()"
   ]
  },
  {
   "cell_type": "code",
   "execution_count": 18,
   "metadata": {},
   "outputs": [
    {
     "data": {
      "application/vnd.plotly.v1+json": {
       "config": {
        "linkText": "Export to plot.ly",
        "plotlyServerURL": "https://plot.ly",
        "showLink": false
       },
       "data": [
        {
         "mode": "lines+markers",
         "name": "action",
         "type": "scatter",
         "x": [
          1980,
          1981,
          1982,
          1983,
          1984,
          1985,
          1986,
          1987,
          1988,
          1989,
          1990,
          1991,
          1992,
          1993,
          1994,
          1995,
          1996,
          1997,
          1998,
          1999,
          2000,
          2001,
          2002,
          2003,
          2004,
          2005,
          2006,
          2007,
          2008,
          2009,
          2010,
          2011,
          2012,
          2013,
          2014,
          2015,
          2016,
          2017
         ],
         "y": [
          1,
          25,
          18,
          7,
          1,
          2,
          6,
          2,
          2,
          2,
          3,
          5,
          1,
          6,
          4,
          8,
          20,
          31,
          44,
          40,
          44,
          67,
          125,
          144,
          125,
          192,
          184,
          210,
          221,
          272,
          226,
          238,
          265,
          147,
          188,
          253,
          177,
          1
         ]
        },
        {
         "mode": "lines+markers",
         "name": "sports",
         "type": "scatter",
         "x": [
          1980,
          1981,
          1982,
          1983,
          1984,
          1985,
          1986,
          1987,
          1988,
          1989,
          1990,
          1991,
          1992,
          1993,
          1994,
          1995,
          1996,
          1997,
          1998,
          1999,
          2000,
          2001,
          2002,
          2003,
          2004,
          2005,
          2006,
          2007,
          2008,
          2009,
          2010,
          2011,
          2012,
          2013,
          2014,
          2015,
          2016
         ],
         "y": [
          1,
          4,
          2,
          1,
          2,
          1,
          3,
          4,
          2,
          3,
          3,
          7,
          4,
          9,
          22,
          29,
          52,
          46,
          70,
          62,
          81,
          96,
          188,
          125,
          106,
          121,
          138,
          166,
          200,
          183,
          186,
          121,
          54,
          53,
          54,
          59,
          48
         ]
        },
        {
         "mode": "lines+markers",
         "name": "Role-Playing",
         "type": "scatter",
         "x": [
          1986,
          1987,
          1988,
          1989,
          1990,
          1991,
          1992,
          1993,
          1994,
          1995,
          1996,
          1997,
          1998,
          1999,
          2000,
          2001,
          2002,
          2003,
          2004,
          2005,
          2006,
          2007,
          2008,
          2009,
          2010,
          2011,
          2012,
          2013,
          2014,
          2015,
          2016,
          2017
         ],
         "y": [
          1,
          3,
          3,
          2,
          2,
          5,
          5,
          9,
          17,
          24,
          28,
          23,
          26,
          33,
          29,
          41,
          55,
          48,
          60,
          71,
          110,
          103,
          112,
          103,
          103,
          95,
          78,
          71,
          89,
          78,
          54,
          2
         ]
        },
        {
         "mode": "lines+markers",
         "name": "Shooter",
         "type": "scatter",
         "x": [
          1980,
          1981,
          1982,
          1983,
          1984,
          1985,
          1986,
          1987,
          1988,
          1989,
          1991,
          1992,
          1993,
          1994,
          1995,
          1996,
          1997,
          1998,
          1999,
          2000,
          2001,
          2002,
          2003,
          2004,
          2005,
          2006,
          2007,
          2008,
          2009,
          2010,
          2011,
          2012,
          2013,
          2014,
          2015,
          2016
         ],
         "y": [
          2,
          10,
          5,
          1,
          3,
          1,
          4,
          2,
          1,
          1,
          3,
          3,
          2,
          11,
          29,
          23,
          27,
          23,
          16,
          20,
          36,
          79,
          73,
          88,
          96,
          69,
          85,
          83,
          90,
          81,
          94,
          48,
          59,
          47,
          34,
          47
         ]
        },
        {
         "mode": "lines+markers",
         "name": "Platform",
         "type": "scatter",
         "x": [
          1981,
          1982,
          1983,
          1984,
          1985,
          1986,
          1987,
          1988,
          1989,
          1990,
          1991,
          1992,
          1993,
          1994,
          1995,
          1996,
          1997,
          1998,
          1999,
          2000,
          2001,
          2002,
          2003,
          2004,
          2005,
          2006,
          2007,
          2008,
          2009,
          2010,
          2011,
          2012,
          2013,
          2014,
          2015,
          2016
         ],
         "y": [
          3,
          5,
          5,
          1,
          4,
          6,
          2,
          4,
          3,
          3,
          6,
          6,
          11,
          11,
          13,
          14,
          18,
          25,
          18,
          24,
          43,
          77,
          87,
          66,
          83,
          54,
          42,
          62,
          29,
          31,
          37,
          11,
          36,
          10,
          13,
          15
         ]
        }
       ],
       "layout": {
        "template": {
         "data": {
          "bar": [
           {
            "error_x": {
             "color": "#2a3f5f"
            },
            "error_y": {
             "color": "#2a3f5f"
            },
            "marker": {
             "line": {
              "color": "#E5ECF6",
              "width": 0.5
             },
             "pattern": {
              "fillmode": "overlay",
              "size": 10,
              "solidity": 0.2
             }
            },
            "type": "bar"
           }
          ],
          "barpolar": [
           {
            "marker": {
             "line": {
              "color": "#E5ECF6",
              "width": 0.5
             },
             "pattern": {
              "fillmode": "overlay",
              "size": 10,
              "solidity": 0.2
             }
            },
            "type": "barpolar"
           }
          ],
          "carpet": [
           {
            "aaxis": {
             "endlinecolor": "#2a3f5f",
             "gridcolor": "white",
             "linecolor": "white",
             "minorgridcolor": "white",
             "startlinecolor": "#2a3f5f"
            },
            "baxis": {
             "endlinecolor": "#2a3f5f",
             "gridcolor": "white",
             "linecolor": "white",
             "minorgridcolor": "white",
             "startlinecolor": "#2a3f5f"
            },
            "type": "carpet"
           }
          ],
          "choropleth": [
           {
            "colorbar": {
             "outlinewidth": 0,
             "ticks": ""
            },
            "type": "choropleth"
           }
          ],
          "contour": [
           {
            "colorbar": {
             "outlinewidth": 0,
             "ticks": ""
            },
            "colorscale": [
             [
              0,
              "#0d0887"
             ],
             [
              0.1111111111111111,
              "#46039f"
             ],
             [
              0.2222222222222222,
              "#7201a8"
             ],
             [
              0.3333333333333333,
              "#9c179e"
             ],
             [
              0.4444444444444444,
              "#bd3786"
             ],
             [
              0.5555555555555556,
              "#d8576b"
             ],
             [
              0.6666666666666666,
              "#ed7953"
             ],
             [
              0.7777777777777778,
              "#fb9f3a"
             ],
             [
              0.8888888888888888,
              "#fdca26"
             ],
             [
              1,
              "#f0f921"
             ]
            ],
            "type": "contour"
           }
          ],
          "contourcarpet": [
           {
            "colorbar": {
             "outlinewidth": 0,
             "ticks": ""
            },
            "type": "contourcarpet"
           }
          ],
          "heatmap": [
           {
            "colorbar": {
             "outlinewidth": 0,
             "ticks": ""
            },
            "colorscale": [
             [
              0,
              "#0d0887"
             ],
             [
              0.1111111111111111,
              "#46039f"
             ],
             [
              0.2222222222222222,
              "#7201a8"
             ],
             [
              0.3333333333333333,
              "#9c179e"
             ],
             [
              0.4444444444444444,
              "#bd3786"
             ],
             [
              0.5555555555555556,
              "#d8576b"
             ],
             [
              0.6666666666666666,
              "#ed7953"
             ],
             [
              0.7777777777777778,
              "#fb9f3a"
             ],
             [
              0.8888888888888888,
              "#fdca26"
             ],
             [
              1,
              "#f0f921"
             ]
            ],
            "type": "heatmap"
           }
          ],
          "heatmapgl": [
           {
            "colorbar": {
             "outlinewidth": 0,
             "ticks": ""
            },
            "colorscale": [
             [
              0,
              "#0d0887"
             ],
             [
              0.1111111111111111,
              "#46039f"
             ],
             [
              0.2222222222222222,
              "#7201a8"
             ],
             [
              0.3333333333333333,
              "#9c179e"
             ],
             [
              0.4444444444444444,
              "#bd3786"
             ],
             [
              0.5555555555555556,
              "#d8576b"
             ],
             [
              0.6666666666666666,
              "#ed7953"
             ],
             [
              0.7777777777777778,
              "#fb9f3a"
             ],
             [
              0.8888888888888888,
              "#fdca26"
             ],
             [
              1,
              "#f0f921"
             ]
            ],
            "type": "heatmapgl"
           }
          ],
          "histogram": [
           {
            "marker": {
             "pattern": {
              "fillmode": "overlay",
              "size": 10,
              "solidity": 0.2
             }
            },
            "type": "histogram"
           }
          ],
          "histogram2d": [
           {
            "colorbar": {
             "outlinewidth": 0,
             "ticks": ""
            },
            "colorscale": [
             [
              0,
              "#0d0887"
             ],
             [
              0.1111111111111111,
              "#46039f"
             ],
             [
              0.2222222222222222,
              "#7201a8"
             ],
             [
              0.3333333333333333,
              "#9c179e"
             ],
             [
              0.4444444444444444,
              "#bd3786"
             ],
             [
              0.5555555555555556,
              "#d8576b"
             ],
             [
              0.6666666666666666,
              "#ed7953"
             ],
             [
              0.7777777777777778,
              "#fb9f3a"
             ],
             [
              0.8888888888888888,
              "#fdca26"
             ],
             [
              1,
              "#f0f921"
             ]
            ],
            "type": "histogram2d"
           }
          ],
          "histogram2dcontour": [
           {
            "colorbar": {
             "outlinewidth": 0,
             "ticks": ""
            },
            "colorscale": [
             [
              0,
              "#0d0887"
             ],
             [
              0.1111111111111111,
              "#46039f"
             ],
             [
              0.2222222222222222,
              "#7201a8"
             ],
             [
              0.3333333333333333,
              "#9c179e"
             ],
             [
              0.4444444444444444,
              "#bd3786"
             ],
             [
              0.5555555555555556,
              "#d8576b"
             ],
             [
              0.6666666666666666,
              "#ed7953"
             ],
             [
              0.7777777777777778,
              "#fb9f3a"
             ],
             [
              0.8888888888888888,
              "#fdca26"
             ],
             [
              1,
              "#f0f921"
             ]
            ],
            "type": "histogram2dcontour"
           }
          ],
          "mesh3d": [
           {
            "colorbar": {
             "outlinewidth": 0,
             "ticks": ""
            },
            "type": "mesh3d"
           }
          ],
          "parcoords": [
           {
            "line": {
             "colorbar": {
              "outlinewidth": 0,
              "ticks": ""
             }
            },
            "type": "parcoords"
           }
          ],
          "pie": [
           {
            "automargin": true,
            "type": "pie"
           }
          ],
          "scatter": [
           {
            "marker": {
             "colorbar": {
              "outlinewidth": 0,
              "ticks": ""
             }
            },
            "type": "scatter"
           }
          ],
          "scatter3d": [
           {
            "line": {
             "colorbar": {
              "outlinewidth": 0,
              "ticks": ""
             }
            },
            "marker": {
             "colorbar": {
              "outlinewidth": 0,
              "ticks": ""
             }
            },
            "type": "scatter3d"
           }
          ],
          "scattercarpet": [
           {
            "marker": {
             "colorbar": {
              "outlinewidth": 0,
              "ticks": ""
             }
            },
            "type": "scattercarpet"
           }
          ],
          "scattergeo": [
           {
            "marker": {
             "colorbar": {
              "outlinewidth": 0,
              "ticks": ""
             }
            },
            "type": "scattergeo"
           }
          ],
          "scattergl": [
           {
            "marker": {
             "colorbar": {
              "outlinewidth": 0,
              "ticks": ""
             }
            },
            "type": "scattergl"
           }
          ],
          "scattermapbox": [
           {
            "marker": {
             "colorbar": {
              "outlinewidth": 0,
              "ticks": ""
             }
            },
            "type": "scattermapbox"
           }
          ],
          "scatterpolar": [
           {
            "marker": {
             "colorbar": {
              "outlinewidth": 0,
              "ticks": ""
             }
            },
            "type": "scatterpolar"
           }
          ],
          "scatterpolargl": [
           {
            "marker": {
             "colorbar": {
              "outlinewidth": 0,
              "ticks": ""
             }
            },
            "type": "scatterpolargl"
           }
          ],
          "scatterternary": [
           {
            "marker": {
             "colorbar": {
              "outlinewidth": 0,
              "ticks": ""
             }
            },
            "type": "scatterternary"
           }
          ],
          "surface": [
           {
            "colorbar": {
             "outlinewidth": 0,
             "ticks": ""
            },
            "colorscale": [
             [
              0,
              "#0d0887"
             ],
             [
              0.1111111111111111,
              "#46039f"
             ],
             [
              0.2222222222222222,
              "#7201a8"
             ],
             [
              0.3333333333333333,
              "#9c179e"
             ],
             [
              0.4444444444444444,
              "#bd3786"
             ],
             [
              0.5555555555555556,
              "#d8576b"
             ],
             [
              0.6666666666666666,
              "#ed7953"
             ],
             [
              0.7777777777777778,
              "#fb9f3a"
             ],
             [
              0.8888888888888888,
              "#fdca26"
             ],
             [
              1,
              "#f0f921"
             ]
            ],
            "type": "surface"
           }
          ],
          "table": [
           {
            "cells": {
             "fill": {
              "color": "#EBF0F8"
             },
             "line": {
              "color": "white"
             }
            },
            "header": {
             "fill": {
              "color": "#C8D4E3"
             },
             "line": {
              "color": "white"
             }
            },
            "type": "table"
           }
          ]
         },
         "layout": {
          "annotationdefaults": {
           "arrowcolor": "#2a3f5f",
           "arrowhead": 0,
           "arrowwidth": 1
          },
          "autotypenumbers": "strict",
          "coloraxis": {
           "colorbar": {
            "outlinewidth": 0,
            "ticks": ""
           }
          },
          "colorscale": {
           "diverging": [
            [
             0,
             "#8e0152"
            ],
            [
             0.1,
             "#c51b7d"
            ],
            [
             0.2,
             "#de77ae"
            ],
            [
             0.3,
             "#f1b6da"
            ],
            [
             0.4,
             "#fde0ef"
            ],
            [
             0.5,
             "#f7f7f7"
            ],
            [
             0.6,
             "#e6f5d0"
            ],
            [
             0.7,
             "#b8e186"
            ],
            [
             0.8,
             "#7fbc41"
            ],
            [
             0.9,
             "#4d9221"
            ],
            [
             1,
             "#276419"
            ]
           ],
           "sequential": [
            [
             0,
             "#0d0887"
            ],
            [
             0.1111111111111111,
             "#46039f"
            ],
            [
             0.2222222222222222,
             "#7201a8"
            ],
            [
             0.3333333333333333,
             "#9c179e"
            ],
            [
             0.4444444444444444,
             "#bd3786"
            ],
            [
             0.5555555555555556,
             "#d8576b"
            ],
            [
             0.6666666666666666,
             "#ed7953"
            ],
            [
             0.7777777777777778,
             "#fb9f3a"
            ],
            [
             0.8888888888888888,
             "#fdca26"
            ],
            [
             1,
             "#f0f921"
            ]
           ],
           "sequentialminus": [
            [
             0,
             "#0d0887"
            ],
            [
             0.1111111111111111,
             "#46039f"
            ],
            [
             0.2222222222222222,
             "#7201a8"
            ],
            [
             0.3333333333333333,
             "#9c179e"
            ],
            [
             0.4444444444444444,
             "#bd3786"
            ],
            [
             0.5555555555555556,
             "#d8576b"
            ],
            [
             0.6666666666666666,
             "#ed7953"
            ],
            [
             0.7777777777777778,
             "#fb9f3a"
            ],
            [
             0.8888888888888888,
             "#fdca26"
            ],
            [
             1,
             "#f0f921"
            ]
           ]
          },
          "colorway": [
           "#636efa",
           "#EF553B",
           "#00cc96",
           "#ab63fa",
           "#FFA15A",
           "#19d3f3",
           "#FF6692",
           "#B6E880",
           "#FF97FF",
           "#FECB52"
          ],
          "font": {
           "color": "#2a3f5f"
          },
          "geo": {
           "bgcolor": "white",
           "lakecolor": "white",
           "landcolor": "#E5ECF6",
           "showlakes": true,
           "showland": true,
           "subunitcolor": "white"
          },
          "hoverlabel": {
           "align": "left"
          },
          "hovermode": "closest",
          "mapbox": {
           "style": "light"
          },
          "paper_bgcolor": "white",
          "plot_bgcolor": "#E5ECF6",
          "polar": {
           "angularaxis": {
            "gridcolor": "white",
            "linecolor": "white",
            "ticks": ""
           },
           "bgcolor": "#E5ECF6",
           "radialaxis": {
            "gridcolor": "white",
            "linecolor": "white",
            "ticks": ""
           }
          },
          "scene": {
           "xaxis": {
            "backgroundcolor": "#E5ECF6",
            "gridcolor": "white",
            "gridwidth": 2,
            "linecolor": "white",
            "showbackground": true,
            "ticks": "",
            "zerolinecolor": "white"
           },
           "yaxis": {
            "backgroundcolor": "#E5ECF6",
            "gridcolor": "white",
            "gridwidth": 2,
            "linecolor": "white",
            "showbackground": true,
            "ticks": "",
            "zerolinecolor": "white"
           },
           "zaxis": {
            "backgroundcolor": "#E5ECF6",
            "gridcolor": "white",
            "gridwidth": 2,
            "linecolor": "white",
            "showbackground": true,
            "ticks": "",
            "zerolinecolor": "white"
           }
          },
          "shapedefaults": {
           "line": {
            "color": "#2a3f5f"
           }
          },
          "ternary": {
           "aaxis": {
            "gridcolor": "white",
            "linecolor": "white",
            "ticks": ""
           },
           "baxis": {
            "gridcolor": "white",
            "linecolor": "white",
            "ticks": ""
           },
           "bgcolor": "#E5ECF6",
           "caxis": {
            "gridcolor": "white",
            "linecolor": "white",
            "ticks": ""
           }
          },
          "title": {
           "x": 0.05
          },
          "xaxis": {
           "automargin": true,
           "gridcolor": "white",
           "linecolor": "white",
           "ticks": "",
           "title": {
            "standoff": 15
           },
           "zerolinecolor": "white",
           "zerolinewidth": 2
          },
          "yaxis": {
           "automargin": true,
           "gridcolor": "white",
           "linecolor": "white",
           "ticks": "",
           "title": {
            "standoff": 15
           },
           "zerolinecolor": "white",
           "zerolinewidth": 2
          }
         }
        },
        "title": {
         "text": "Number of games of top 5 Genre released each year"
        },
        "xaxis": {
         "title": {
          "text": "Year"
         }
        },
        "yaxis": {
         "title": {
          "text": "Number of games"
         }
        }
       }
      }
     },
     "metadata": {},
     "output_type": "display_data"
    }
   ],
   "source": [
    "ds_pro.go_plot(action_df, sports_df, role_df, shooter_df, platform_df)\n"
   ]
  },
  {
   "cell_type": "code",
   "execution_count": 19,
   "metadata": {},
   "outputs": [],
   "source": [
    "Publisher_sales = data.groupby('Publisher')['Global_Sales'].agg(['sum'])\n",
    "Publisher_sales.columns = ['Sales_by_Publisher']\n",
    "top20=Publisher_sales.sort_values(by=\"Sales_by_Publisher\", ascending=False).head(20)\n",
    "#Assign the top 20 most popular to a variable called top20"
   ]
  },
  {
   "cell_type": "code",
   "execution_count": 20,
   "metadata": {},
   "outputs": [
    {
     "data": {
      "text/html": [
       "<div>\n",
       "<style scoped>\n",
       "    .dataframe tbody tr th:only-of-type {\n",
       "        vertical-align: middle;\n",
       "    }\n",
       "\n",
       "    .dataframe tbody tr th {\n",
       "        vertical-align: top;\n",
       "    }\n",
       "\n",
       "    .dataframe thead th {\n",
       "        text-align: right;\n",
       "    }\n",
       "</style>\n",
       "<table border=\"1\" class=\"dataframe\">\n",
       "  <thead>\n",
       "    <tr style=\"text-align: right;\">\n",
       "      <th></th>\n",
       "      <th>Name</th>\n",
       "      <th>Platform</th>\n",
       "      <th>Year_of_Release</th>\n",
       "      <th>Genre</th>\n",
       "      <th>Publisher</th>\n",
       "      <th>NA_Sales</th>\n",
       "      <th>EU_Sales</th>\n",
       "      <th>JP_Sales</th>\n",
       "      <th>Other_Sales</th>\n",
       "      <th>Global_Sales</th>\n",
       "    </tr>\n",
       "  </thead>\n",
       "  <tbody>\n",
       "    <tr>\n",
       "      <th>0</th>\n",
       "      <td>Wii Sports</td>\n",
       "      <td>Wii</td>\n",
       "      <td>2006.0</td>\n",
       "      <td>Sports</td>\n",
       "      <td>Nintendo</td>\n",
       "      <td>41.36</td>\n",
       "      <td>28.96</td>\n",
       "      <td>3.77</td>\n",
       "      <td>8.45</td>\n",
       "      <td>82.53</td>\n",
       "    </tr>\n",
       "    <tr>\n",
       "      <th>1</th>\n",
       "      <td>Super Mario Bros.</td>\n",
       "      <td>NES</td>\n",
       "      <td>1985.0</td>\n",
       "      <td>Platform</td>\n",
       "      <td>Nintendo</td>\n",
       "      <td>29.08</td>\n",
       "      <td>3.58</td>\n",
       "      <td>6.81</td>\n",
       "      <td>0.77</td>\n",
       "      <td>40.24</td>\n",
       "    </tr>\n",
       "    <tr>\n",
       "      <th>2</th>\n",
       "      <td>Mario Kart Wii</td>\n",
       "      <td>Wii</td>\n",
       "      <td>2008.0</td>\n",
       "      <td>Racing</td>\n",
       "      <td>Nintendo</td>\n",
       "      <td>15.68</td>\n",
       "      <td>12.76</td>\n",
       "      <td>3.79</td>\n",
       "      <td>3.29</td>\n",
       "      <td>35.52</td>\n",
       "    </tr>\n",
       "    <tr>\n",
       "      <th>3</th>\n",
       "      <td>Wii Sports Resort</td>\n",
       "      <td>Wii</td>\n",
       "      <td>2009.0</td>\n",
       "      <td>Sports</td>\n",
       "      <td>Nintendo</td>\n",
       "      <td>15.61</td>\n",
       "      <td>10.93</td>\n",
       "      <td>3.28</td>\n",
       "      <td>2.95</td>\n",
       "      <td>32.77</td>\n",
       "    </tr>\n",
       "    <tr>\n",
       "      <th>4</th>\n",
       "      <td>Pokemon Red/Pokemon Blue</td>\n",
       "      <td>GB</td>\n",
       "      <td>1996.0</td>\n",
       "      <td>Role-Playing</td>\n",
       "      <td>Nintendo</td>\n",
       "      <td>11.27</td>\n",
       "      <td>8.89</td>\n",
       "      <td>10.22</td>\n",
       "      <td>1.00</td>\n",
       "      <td>31.37</td>\n",
       "    </tr>\n",
       "    <tr>\n",
       "      <th>...</th>\n",
       "      <td>...</td>\n",
       "      <td>...</td>\n",
       "      <td>...</td>\n",
       "      <td>...</td>\n",
       "      <td>...</td>\n",
       "      <td>...</td>\n",
       "      <td>...</td>\n",
       "      <td>...</td>\n",
       "      <td>...</td>\n",
       "      <td>...</td>\n",
       "    </tr>\n",
       "    <tr>\n",
       "      <th>16380</th>\n",
       "      <td>XI Coliseum</td>\n",
       "      <td>PSP</td>\n",
       "      <td>2006.0</td>\n",
       "      <td>Puzzle</td>\n",
       "      <td>Sony Computer Entertainment</td>\n",
       "      <td>0.00</td>\n",
       "      <td>0.00</td>\n",
       "      <td>0.01</td>\n",
       "      <td>0.00</td>\n",
       "      <td>0.01</td>\n",
       "    </tr>\n",
       "    <tr>\n",
       "      <th>16391</th>\n",
       "      <td>Pony Friends 2</td>\n",
       "      <td>PC</td>\n",
       "      <td>2009.0</td>\n",
       "      <td>Simulation</td>\n",
       "      <td>Eidos Interactive</td>\n",
       "      <td>0.00</td>\n",
       "      <td>0.01</td>\n",
       "      <td>0.00</td>\n",
       "      <td>0.00</td>\n",
       "      <td>0.01</td>\n",
       "    </tr>\n",
       "    <tr>\n",
       "      <th>16393</th>\n",
       "      <td>Metal Gear Solid V: Ground Zeroes</td>\n",
       "      <td>PC</td>\n",
       "      <td>2014.0</td>\n",
       "      <td>Action</td>\n",
       "      <td>Konami Digital Entertainment</td>\n",
       "      <td>0.00</td>\n",
       "      <td>0.01</td>\n",
       "      <td>0.00</td>\n",
       "      <td>0.00</td>\n",
       "      <td>0.01</td>\n",
       "    </tr>\n",
       "    <tr>\n",
       "      <th>16398</th>\n",
       "      <td>Bust-A-Move 3000</td>\n",
       "      <td>GC</td>\n",
       "      <td>2003.0</td>\n",
       "      <td>Puzzle</td>\n",
       "      <td>Ubisoft</td>\n",
       "      <td>0.01</td>\n",
       "      <td>0.00</td>\n",
       "      <td>0.00</td>\n",
       "      <td>0.00</td>\n",
       "      <td>0.01</td>\n",
       "    </tr>\n",
       "    <tr>\n",
       "      <th>16410</th>\n",
       "      <td>SCORE International Baja 1000: The Official Game</td>\n",
       "      <td>PS2</td>\n",
       "      <td>2008.0</td>\n",
       "      <td>Racing</td>\n",
       "      <td>Activision</td>\n",
       "      <td>0.00</td>\n",
       "      <td>0.00</td>\n",
       "      <td>0.00</td>\n",
       "      <td>0.00</td>\n",
       "      <td>0.01</td>\n",
       "    </tr>\n",
       "  </tbody>\n",
       "</table>\n",
       "<p>10085 rows × 10 columns</p>\n",
       "</div>"
      ],
      "text/plain": [
       "                                                   Name Platform  \\\n",
       "0                                            Wii Sports      Wii   \n",
       "1                                     Super Mario Bros.      NES   \n",
       "2                                        Mario Kart Wii      Wii   \n",
       "3                                     Wii Sports Resort      Wii   \n",
       "4                              Pokemon Red/Pokemon Blue       GB   \n",
       "...                                                 ...      ...   \n",
       "16380                                       XI Coliseum      PSP   \n",
       "16391                                    Pony Friends 2       PC   \n",
       "16393                 Metal Gear Solid V: Ground Zeroes       PC   \n",
       "16398                                  Bust-A-Move 3000       GC   \n",
       "16410  SCORE International Baja 1000: The Official Game      PS2   \n",
       "\n",
       "       Year_of_Release         Genre                     Publisher  NA_Sales  \\\n",
       "0               2006.0        Sports                      Nintendo     41.36   \n",
       "1               1985.0      Platform                      Nintendo     29.08   \n",
       "2               2008.0        Racing                      Nintendo     15.68   \n",
       "3               2009.0        Sports                      Nintendo     15.61   \n",
       "4               1996.0  Role-Playing                      Nintendo     11.27   \n",
       "...                ...           ...                           ...       ...   \n",
       "16380           2006.0        Puzzle   Sony Computer Entertainment      0.00   \n",
       "16391           2009.0    Simulation             Eidos Interactive      0.00   \n",
       "16393           2014.0        Action  Konami Digital Entertainment      0.00   \n",
       "16398           2003.0        Puzzle                       Ubisoft      0.01   \n",
       "16410           2008.0        Racing                    Activision      0.00   \n",
       "\n",
       "       EU_Sales  JP_Sales  Other_Sales  Global_Sales  \n",
       "0         28.96      3.77         8.45         82.53  \n",
       "1          3.58      6.81         0.77         40.24  \n",
       "2         12.76      3.79         3.29         35.52  \n",
       "3         10.93      3.28         2.95         32.77  \n",
       "4          8.89     10.22         1.00         31.37  \n",
       "...         ...       ...          ...           ...  \n",
       "16380      0.00      0.01         0.00          0.01  \n",
       "16391      0.01      0.00         0.00          0.01  \n",
       "16393      0.01      0.00         0.00          0.01  \n",
       "16398      0.00      0.00         0.00          0.01  \n",
       "16410      0.00      0.00         0.00          0.01  \n",
       "\n",
       "[10085 rows x 10 columns]"
      ]
     },
     "execution_count": 20,
     "metadata": {},
     "output_type": "execute_result"
    }
   ],
   "source": [
    "in_top20 = data['Publisher'].str.contains(\"Nintendo|Electronic Arts|Activision|Sony Computer Entertainment|Ubisoft|Take-Two Interactive|THQ|Konami Digital Entertainment|Sega|Namco Bandai Games|Microsoft Game Studios|Capcom|Atari|Square Enix|Warner Bros. Interactive Entertainment|Disney Interactive Studios|Eidos Interactive|Bethesda Softworks\")\n",
    "sample=data[in_top20] # Pick only those that are publishers in the top 20\n",
    "sample"
   ]
  },
  {
   "cell_type": "code",
   "execution_count": 21,
   "metadata": {},
   "outputs": [
    {
     "data": {
      "image/png": "[encoded data removed]",
      "text/plain": [
       "<Figure size 432x288 with 1 Axes>"
      ]
     },
     "metadata": {
      "needs_background": "light"
     },
     "output_type": "display_data"
    },
    {
     "data": {
      "text/html": [
       "<div>\n",
       "<style scoped>\n",
       "    .dataframe tbody tr th:only-of-type {\n",
       "        vertical-align: middle;\n",
       "    }\n",
       "\n",
       "    .dataframe tbody tr th {\n",
       "        vertical-align: top;\n",
       "    }\n",
       "\n",
       "    .dataframe thead th {\n",
       "        text-align: right;\n",
       "    }\n",
       "</style>\n",
       "<table border=\"1\" class=\"dataframe\">\n",
       "  <thead>\n",
       "    <tr style=\"text-align: right;\">\n",
       "      <th></th>\n",
       "      <th>Name</th>\n",
       "      <th>Platform</th>\n",
       "      <th>Year_of_Release</th>\n",
       "      <th>Genre</th>\n",
       "      <th>Publisher</th>\n",
       "      <th>NA_Sales</th>\n",
       "      <th>EU_Sales</th>\n",
       "      <th>JP_Sales</th>\n",
       "      <th>Other_Sales</th>\n",
       "      <th>Global_Sales</th>\n",
       "    </tr>\n",
       "  </thead>\n",
       "  <tbody>\n",
       "    <tr>\n",
       "      <th>0</th>\n",
       "      <td>Wii Sports</td>\n",
       "      <td>Wii</td>\n",
       "      <td>2006.0</td>\n",
       "      <td>Sports</td>\n",
       "      <td>Nintendo</td>\n",
       "      <td>41.36</td>\n",
       "      <td>28.96</td>\n",
       "      <td>3.77</td>\n",
       "      <td>8.45</td>\n",
       "      <td>82.53</td>\n",
       "    </tr>\n",
       "    <tr>\n",
       "      <th>1</th>\n",
       "      <td>Super Mario Bros.</td>\n",
       "      <td>NES</td>\n",
       "      <td>1985.0</td>\n",
       "      <td>Platform</td>\n",
       "      <td>Nintendo</td>\n",
       "      <td>29.08</td>\n",
       "      <td>3.58</td>\n",
       "      <td>6.81</td>\n",
       "      <td>0.77</td>\n",
       "      <td>40.24</td>\n",
       "    </tr>\n",
       "    <tr>\n",
       "      <th>2</th>\n",
       "      <td>Mario Kart Wii</td>\n",
       "      <td>Wii</td>\n",
       "      <td>2008.0</td>\n",
       "      <td>Racing</td>\n",
       "      <td>Nintendo</td>\n",
       "      <td>15.68</td>\n",
       "      <td>12.76</td>\n",
       "      <td>3.79</td>\n",
       "      <td>3.29</td>\n",
       "      <td>35.52</td>\n",
       "    </tr>\n",
       "    <tr>\n",
       "      <th>3</th>\n",
       "      <td>Wii Sports Resort</td>\n",
       "      <td>Wii</td>\n",
       "      <td>2009.0</td>\n",
       "      <td>Sports</td>\n",
       "      <td>Nintendo</td>\n",
       "      <td>15.61</td>\n",
       "      <td>10.93</td>\n",
       "      <td>3.28</td>\n",
       "      <td>2.95</td>\n",
       "      <td>32.77</td>\n",
       "    </tr>\n",
       "    <tr>\n",
       "      <th>4</th>\n",
       "      <td>Pokemon Red/Pokemon Blue</td>\n",
       "      <td>GB</td>\n",
       "      <td>1996.0</td>\n",
       "      <td>Role-Playing</td>\n",
       "      <td>Nintendo</td>\n",
       "      <td>11.27</td>\n",
       "      <td>8.89</td>\n",
       "      <td>10.22</td>\n",
       "      <td>1.00</td>\n",
       "      <td>31.37</td>\n",
       "    </tr>\n",
       "    <tr>\n",
       "      <th>...</th>\n",
       "      <td>...</td>\n",
       "      <td>...</td>\n",
       "      <td>...</td>\n",
       "      <td>...</td>\n",
       "      <td>...</td>\n",
       "      <td>...</td>\n",
       "      <td>...</td>\n",
       "      <td>...</td>\n",
       "      <td>...</td>\n",
       "      <td>...</td>\n",
       "    </tr>\n",
       "    <tr>\n",
       "      <th>16411</th>\n",
       "      <td>Samurai Warriors: Sanada Maru</td>\n",
       "      <td>PS3</td>\n",
       "      <td>2016.0</td>\n",
       "      <td>Action</td>\n",
       "      <td>Tecmo Koei</td>\n",
       "      <td>0.00</td>\n",
       "      <td>0.00</td>\n",
       "      <td>0.01</td>\n",
       "      <td>0.00</td>\n",
       "      <td>0.01</td>\n",
       "    </tr>\n",
       "    <tr>\n",
       "      <th>16412</th>\n",
       "      <td>LMA Manager 2007</td>\n",
       "      <td>X360</td>\n",
       "      <td>2006.0</td>\n",
       "      <td>Sports</td>\n",
       "      <td>Codemasters</td>\n",
       "      <td>0.00</td>\n",
       "      <td>0.01</td>\n",
       "      <td>0.00</td>\n",
       "      <td>0.00</td>\n",
       "      <td>0.01</td>\n",
       "    </tr>\n",
       "    <tr>\n",
       "      <th>16413</th>\n",
       "      <td>Haitaka no Psychedelica</td>\n",
       "      <td>PSV</td>\n",
       "      <td>2016.0</td>\n",
       "      <td>Adventure</td>\n",
       "      <td>Idea Factory</td>\n",
       "      <td>0.00</td>\n",
       "      <td>0.00</td>\n",
       "      <td>0.01</td>\n",
       "      <td>0.00</td>\n",
       "      <td>0.01</td>\n",
       "    </tr>\n",
       "    <tr>\n",
       "      <th>16414</th>\n",
       "      <td>Spirits &amp; Spells</td>\n",
       "      <td>GBA</td>\n",
       "      <td>2003.0</td>\n",
       "      <td>Platform</td>\n",
       "      <td>Wanadoo</td>\n",
       "      <td>0.01</td>\n",
       "      <td>0.00</td>\n",
       "      <td>0.00</td>\n",
       "      <td>0.00</td>\n",
       "      <td>0.01</td>\n",
       "    </tr>\n",
       "    <tr>\n",
       "      <th>16415</th>\n",
       "      <td>Winning Post 8 2016</td>\n",
       "      <td>PSV</td>\n",
       "      <td>2016.0</td>\n",
       "      <td>Simulation</td>\n",
       "      <td>Tecmo Koei</td>\n",
       "      <td>0.00</td>\n",
       "      <td>0.00</td>\n",
       "      <td>0.01</td>\n",
       "      <td>0.00</td>\n",
       "      <td>0.01</td>\n",
       "    </tr>\n",
       "  </tbody>\n",
       "</table>\n",
       "<p>16416 rows × 10 columns</p>\n",
       "</div>"
      ],
      "text/plain": [
       "                                Name Platform  Year_of_Release         Genre  \\\n",
       "0                         Wii Sports      Wii           2006.0        Sports   \n",
       "1                  Super Mario Bros.      NES           1985.0      Platform   \n",
       "2                     Mario Kart Wii      Wii           2008.0        Racing   \n",
       "3                  Wii Sports Resort      Wii           2009.0        Sports   \n",
       "4           Pokemon Red/Pokemon Blue       GB           1996.0  Role-Playing   \n",
       "...                              ...      ...              ...           ...   \n",
       "16411  Samurai Warriors: Sanada Maru      PS3           2016.0        Action   \n",
       "16412               LMA Manager 2007     X360           2006.0        Sports   \n",
       "16413        Haitaka no Psychedelica      PSV           2016.0     Adventure   \n",
       "16414               Spirits & Spells      GBA           2003.0      Platform   \n",
       "16415            Winning Post 8 2016      PSV           2016.0    Simulation   \n",
       "\n",
       "          Publisher  NA_Sales  EU_Sales  JP_Sales  Other_Sales  Global_Sales  \n",
       "0          Nintendo     41.36     28.96      3.77         8.45         82.53  \n",
       "1          Nintendo     29.08      3.58      6.81         0.77         40.24  \n",
       "2          Nintendo     15.68     12.76      3.79         3.29         35.52  \n",
       "3          Nintendo     15.61     10.93      3.28         2.95         32.77  \n",
       "4          Nintendo     11.27      8.89     10.22         1.00         31.37  \n",
       "...             ...       ...       ...       ...          ...           ...  \n",
       "16411    Tecmo Koei      0.00      0.00      0.01         0.00          0.01  \n",
       "16412   Codemasters      0.00      0.01      0.00         0.00          0.01  \n",
       "16413  Idea Factory      0.00      0.00      0.01         0.00          0.01  \n",
       "16414       Wanadoo      0.01      0.00      0.00         0.00          0.01  \n",
       "16415    Tecmo Koei      0.00      0.00      0.01         0.00          0.01  \n",
       "\n",
       "[16416 rows x 10 columns]"
      ]
     },
     "execution_count": 21,
     "metadata": {},
     "output_type": "execute_result"
    }
   ],
   "source": [
    "plt.hist(sample['Publisher'],bins=20,width=1.2) #x: publisher, y: number of products\n",
    "plt.xticks(rotation = 90)\n",
    "plt.show()\n",
    "data"
   ]
  },
  {
   "cell_type": "code",
   "execution_count": 22,
   "metadata": {},
   "outputs": [
    {
     "data": {
      "image/png": "[encoded data removed]",
      "text/plain": [
       "<Figure size 720x504 with 1 Axes>"
      ]
     },
     "metadata": {
      "needs_background": "light"
     },
     "output_type": "display_data"
    }
   ],
   "source": [
    "ds_pro.rank_plot(data, 'Name', 'Global_Sales', 10)\n",
    "\n"
   ]
  },
  {
   "cell_type": "code",
   "execution_count": 23,
   "metadata": {},
   "outputs": [
    {
     "data": {
      "image/png": "[encoded data removed]",
      "text/plain": [
       "<Figure size 720x504 with 1 Axes>"
      ]
     },
     "metadata": {
      "needs_background": "light"
     },
     "output_type": "display_data"
    }
   ],
   "source": [
    "ds_pro.rank_plot(data, 'Name', 'Other_Sales', 10)\n"
   ]
  },
  {
   "cell_type": "code",
   "execution_count": 24,
   "metadata": {},
   "outputs": [
    {
     "data": {
      "image/png": "[encoded data removed]",
      "text/plain": [
       "<Figure size 1080x720 with 1 Axes>"
      ]
     },
     "metadata": {
      "needs_background": "light"
     },
     "output_type": "display_data"
    }
   ],
   "source": [
    "ds_pro.compare_plot(data, 'Genre', 'NA_Sales', 'EU_Sales', 'JP_Sales', 'Other_Sales')\n"
   ]
  },
  {
   "cell_type": "code",
   "execution_count": 25,
   "metadata": {},
   "outputs": [
    {
     "data": {
      "image/png": "[encoded data removed]",
      "text/plain": [
       "<Figure size 1080x720 with 1 Axes>"
      ]
     },
     "metadata": {
      "needs_background": "light"
     },
     "output_type": "display_data"
    }
   ],
   "source": [
    "ds_pro.compare_plot(data, 'Platform', 'NA_Sales', 'EU_Sales', 'JP_Sales', 'Other_Sales')\n"
   ]
  },
  {
   "cell_type": "code",
   "execution_count": 26,
   "metadata": {},
   "outputs": [],
   "source": [
    "Platform_le = LabelEncoder()\n",
    "Platform_le.fit(data.Platform)\n",
    "data['Platform'] = Platform_le.transform(data.Platform)"
   ]
  },
  {
   "cell_type": "code",
   "execution_count": 27,
   "metadata": {},
   "outputs": [
    {
     "data": {
      "text/plain": [
       "array(['2600', '3DO', '3DS', 'DC', 'DS', 'GB', 'GBA', 'GC', 'GEN', 'GG',\n",
       "       'N64', 'NES', 'NG', 'PC', 'PCFX', 'PS', 'PS2', 'PS3', 'PS4', 'PSP',\n",
       "       'PSV', 'SAT', 'SCD', 'SNES', 'TG16', 'WS', 'Wii', 'WiiU', 'X360',\n",
       "       'XB', 'XOne'], dtype=object)"
      ]
     },
     "execution_count": 27,
     "metadata": {},
     "output_type": "execute_result"
    }
   ],
   "source": [
    "Platform_le.classes_"
   ]
  },
  {
   "cell_type": "code",
   "execution_count": 5,
   "metadata": {},
   "outputs": [],
   "source": [
    "Genre_le = LabelEncoder()\n",
    "Genre_le.fit(data.Genre)\n",
    "data['Genre'] = Genre_le.transform(data.Genre)"
   ]
  },
  {
   "cell_type": "code",
   "execution_count": 6,
   "metadata": {},
   "outputs": [
    {
     "data": {
      "text/plain": [
       "array(['Action', 'Adventure', 'Fighting', 'Misc', 'Platform', 'Puzzle',\n",
       "       'Racing', 'Role-Playing', 'Shooter', 'Simulation', 'Sports',\n",
       "       'Strategy'], dtype=object)"
      ]
     },
     "execution_count": 6,
     "metadata": {},
     "output_type": "execute_result"
    }
   ],
   "source": [
    "Genre_le.classes_"
   ]
  },
  {
   "cell_type": "code",
   "execution_count": 7,
   "metadata": {},
   "outputs": [],
   "source": [
    "Publisher_le = LabelEncoder()\n",
    "Publisher_le.fit(data.Publisher)\n",
    "data['Publisher'] = Publisher_le.transform(data.Publisher)"
   ]
  },
  {
   "cell_type": "code",
   "execution_count": 8,
   "metadata": {},
   "outputs": [
    {
     "data": {
      "text/plain": [
       "array(['10TACLE Studios', '1C Company', '20th Century Fox Video Games',\n",
       "       '2D Boy', '3DO', '49Games', '505 Games', '5pb', '7G//AMES',\n",
       "       '989 Sports', '989 Studios', 'AQ Interactive', 'ASC Games',\n",
       "       'ASCII Entertainment', 'ASCII Media Works', 'ASK', 'Abylight',\n",
       "       'Acclaim Entertainment', 'Accolade', 'Ackkstudios', 'Acquire',\n",
       "       'Activision', 'Activision Blizzard', 'Activision Value',\n",
       "       'Adeline Software', 'Aerosoft', 'Agatsuma Entertainment', 'Agetec',\n",
       "       'Aksys Games', 'Alawar Entertainment', 'Alchemist',\n",
       "       'Alternative Software', 'Altron', 'Alvion', 'American Softworks',\n",
       "       'Angel Studios', 'Answer Software', 'Aqua Plus', 'Aques',\n",
       "       'Arc System Works', 'Arena Entertainment', 'Aria', 'Arika',\n",
       "       'ArtDink', 'Aruze Corp', 'Ascaron Entertainment',\n",
       "       'Ascaron Entertainment GmbH', 'Asgard', 'Asmik Ace Entertainment',\n",
       "       'Asmik Corp', 'Aspyr', 'Astragon', 'Asylum Entertainment', 'Atari',\n",
       "       'Athena', 'Atlus', 'Avalon Interactive', 'Avanquest',\n",
       "       'Avanquest Software', 'Axela', 'BAM! Entertainment',\n",
       "       'BMG Interactive Entertainment', 'BPS', 'Banpresto', 'Benesse',\n",
       "       'Berkeley', 'Bethesda Softworks', 'Big Ben Interactive',\n",
       "       'Big Fish Games', 'Bigben Interactive', 'Black Bean Games',\n",
       "       'Black Label Games', 'Blast! Entertainment Ltd', 'Blue Byte',\n",
       "       'Bohemia Interactive', 'Bomb', 'Boost On', 'Brash Entertainment',\n",
       "       'Broccoli', 'BushiRoad', 'CBS Electronics', 'CCP',\n",
       "       'CDV Software Entertainment', 'CPG Products', 'CTO SpA', 'Capcom',\n",
       "       'Cave', 'ChunSoft', 'City Interactive',\n",
       "       'Cloud Imperium Games Corporation', 'Coconuts Japan',\n",
       "       'Codemasters', 'Codemasters Online', 'CokeM Interactive', 'Coleco',\n",
       "       'Comfort', 'Commseed', 'Compile', 'Compile Heart',\n",
       "       'Conspiracy Entertainment', 'Core Design Ltd.',\n",
       "       'Crave Entertainment', 'Creative Core', 'Crimson Cow',\n",
       "       'Crystal Dynamics', 'Crytek', 'Culture Brain',\n",
       "       'Culture Publishers', 'CyberFront', 'Cygames', 'D3Publisher',\n",
       "       'DHM Interactive', 'DSI Games', 'DTP Entertainment', 'Daedalic',\n",
       "       'Daedalic Entertainment', 'Daito', 'Data Age',\n",
       "       'Data Design Interactive', 'Data East', 'Datam Polystar',\n",
       "       'Deep Silver', 'Destination Software, Inc', 'Destineer',\n",
       "       'Detn8 Games', 'Devolver Digital', 'DigiCube',\n",
       "       'Disney Interactive Studios', 'Dorart', 'DreamCatcher Interactive',\n",
       "       'DreamWorks Interactive', 'Dusenberry Martin Racing', 'EA Games',\n",
       "       'EON Digital Entertainment', 'ESP', 'Easy Interactive', 'Ecole',\n",
       "       'Edia', 'Eidos Interactive', 'Electronic Arts',\n",
       "       'Electronic Arts Victor', 'Elf', 'Elite', 'Empire Interactive',\n",
       "       'Encore', 'Enix Corporation', 'Enjoy Gaming ltd.', 'Enterbrain',\n",
       "       'Epic Games', 'Epoch', 'Ertain', 'Essential Games',\n",
       "       'Evolution Games', 'Evolved Games', 'Excalibur Publishing',\n",
       "       'Experience Inc.', 'Extreme Entertainment Group',\n",
       "       'Falcom Corporation', 'Fields', 'Flashpoint Games', 'Flight-Plan',\n",
       "       'Focus Home Interactive', 'Focus Multimedia',\n",
       "       'Foreign Media Games', 'Fortyfive', 'Fox Interactive',\n",
       "       'From Software', 'FuRyu', 'FuRyu Corporation', 'Fuji', 'FunSoft',\n",
       "       'Funbox Media', 'Funcom', 'Funsta', 'G.Rev', 'GN Software', 'GOA',\n",
       "       'GSP', 'GT Interactive', 'Gaga', 'Gainax Network Systems',\n",
       "       'Gakken', 'Game Arts', 'Game Factory', 'Game Life',\n",
       "       'GameMill Entertainment', 'GameTek', 'Gamebridge', 'Gamecock',\n",
       "       'Gameloft', 'Games Workshop', 'Gathering of Developers',\n",
       "       'Gearbox Software', 'General Entertainment', 'Genki',\n",
       "       'Genterprise', 'Ghostlight', 'Giga', 'Giza10', 'Glams',\n",
       "       'Global A Entertainment', 'Global Star', 'Gotham Games',\n",
       "       'Graffiti', 'Grand Prix Games', 'Graphsim Entertainment',\n",
       "       'Gremlin Interactive Ltd', 'Griffin International', 'Groove Games',\n",
       "       'GungHo', 'Gust', 'HAL Laboratory', 'HMH Interactive', 'Hackberry',\n",
       "       'Hamster Corporation', 'Happinet', 'Harmonix Music Systems',\n",
       "       'Hasbro Interactive', 'Havas Interactive', 'Headup Games',\n",
       "       'Hearty Robin', 'Hect', 'Hello Games', 'Her Interactive',\n",
       "       'Hip Interactive', 'Home Entertainment Suppliers',\n",
       "       'Hudson Entertainment', 'Hudson Soft', 'Human Entertainment',\n",
       "       'HuneX', 'IE Institute', 'ITT Family Games', 'Iceberg Interactive',\n",
       "       'Idea Factory', 'Idea Factory International',\n",
       "       'Ignition Entertainment', 'Illusion Softworks', 'Imadio',\n",
       "       'Image Epoch', 'Imageworks', 'Imagic', 'Imagineer', 'Imax',\n",
       "       'Indie Games', 'Infogrames', 'Insomniac Games', 'Interchannel',\n",
       "       'Interchannel-Holon', 'Interplay', 'Interplay Productions',\n",
       "       'Interworks Unlimited, Inc.', 'Inti Creates',\n",
       "       'Introversion Software', 'Irem Software Engineering', 'Ivolgamus',\n",
       "       'JVC', 'Jack of All Games', 'Jaleco', 'Jester Interactive',\n",
       "       'JoWood Productions', 'Jorudan', 'Just Flight', 'KID', 'KSS',\n",
       "       'Kadokawa Games', 'Kadokawa Shoten', 'Kaga Create',\n",
       "       'Kalypso Media', 'Kamui', 'Kando Games', 'Karin Entertainment',\n",
       "       'Kemco', 'Kids Station', 'King Records', 'Knowledge Adventure',\n",
       "       'Koch Media', 'Kokopeli Digital Studios',\n",
       "       'Konami Digital Entertainment', 'Kool Kizz', 'LEGO Media',\n",
       "       'LSP Games', 'Laguna', 'Legacy Interactive', 'Level 5',\n",
       "       'Lexicon Entertainment', 'Licensed 4U', 'Lighthouse Interactive',\n",
       "       'Liquid Games', 'Little Orbit', 'Locus', 'LucasArts',\n",
       "       'MC2 Entertainment', 'MLB.com', 'MTO', 'MTV Games', 'Mad Catz',\n",
       "       'Magical Company', 'Magix', 'Majesco Entertainment', 'Mamba Games',\n",
       "       'Marvel Entertainment', 'Marvelous Entertainment',\n",
       "       'Marvelous Games', 'Marvelous Interactive', 'Masque Publishing',\n",
       "       'Mastertronic', 'Mastiff', 'Mattel Interactive', 'Max Five',\n",
       "       'Maximum Family Games', 'Maxis', 'Media Entertainment',\n",
       "       'Media Factory', 'Media Rings', 'Media Works', 'MediaQuest',\n",
       "       'Men-A-Vision', 'Mentor Interactive', 'Mercury Games',\n",
       "       'Merscom LLC', 'Metro 3D', 'Michaelsoft', 'Micro Cabin',\n",
       "       'Microids', 'Microprose', 'Microsoft Game Studios',\n",
       "       'Midas Interactive Entertainment', 'Midway Games', 'Milestone',\n",
       "       'Milestone S.r.l', 'Milestone S.r.l.', 'Minato Station',\n",
       "       'Mindscape', 'Mirai Shounen', 'Misawa', 'Mitsui', 'Mojang',\n",
       "       'Monte Christo Multimedia', 'Moss', 'Mud Duck Productions',\n",
       "       'Mumbo Jumbo', 'Mycom', 'Myelin Media', 'Mystique', 'NCS',\n",
       "       'NCSoft', 'NDA Productions', 'NEC', 'NEC Interchannel',\n",
       "       'Namco Bandai Games', 'Natsume', 'Navarre Corp', 'Naxat Soft',\n",
       "       'Neko Entertainment', 'NetRevo', 'New', 'New World Computing',\n",
       "       'NewKidCo', 'Nexon', 'Nichibutsu', 'Nihon Falcom Corporation',\n",
       "       'Nintendo', 'Nippon Amuse', 'Nippon Columbia',\n",
       "       'Nippon Ichi Software', 'Nippon Telenet', 'Nitroplus', 'Nobilis',\n",
       "       'Nordcurrent', 'Nordic Games', 'NovaLogic', 'Number None',\n",
       "       'O-Games', 'O3 Entertainment', 'Ocean', 'Office Create',\n",
       "       'On Demand', 'Ongakukan', 'Origin Systems', 'Otomate',\n",
       "       'Oxygen Interactive', 'P2 Games', 'PM Studios', 'PQube',\n",
       "       'Pacific Century Cyber Works', 'Pack In Soft', 'Pack-In-Video',\n",
       "       'Palcom', 'Panther Software', 'Paon', 'Paon Corporation',\n",
       "       'Paradox Development', 'Paradox Interactive', 'Parker Bros.',\n",
       "       'Performance Designed Products', 'Phantagram', 'Phantom EFX',\n",
       "       'Phenomedia', 'Phoenix Games', 'Piacci', 'Pinnacle', 'Pioneer LDC',\n",
       "       'Play It', 'PlayV', 'Playlogic Game Factory', 'Playmates',\n",
       "       'Playmore', 'Plenty', 'Pony Canyon', 'PopCap Games',\n",
       "       'PopTop Software', 'Popcorn Arcade', 'Pow', 'Princess Soft',\n",
       "       'Prototype', 'Psygnosis', 'Quelle', 'Quest', 'Quinrose', 'Quintet',\n",
       "       'RED Entertainment', 'RTL', 'Rage Software', 'Rebellion',\n",
       "       'Rebellion Developments', 'Red Flagship', 'Red Orb',\n",
       "       'Red Storm Entertainment', 'RedOctane', 'Reef Entertainment',\n",
       "       'Revolution (Japan)', 'Revolution Software', 'Rising Star Games',\n",
       "       'Riverhillsoft', 'Rocket Company', 'Rondomedia', 'Russel',\n",
       "       'SCS Software', 'SCi', 'SNK', 'SNK Playmore', 'SPS', 'SSI',\n",
       "       'Sammy Corporation', 'Saurus', 'Scholastic Inc.', 'Screenlife',\n",
       "       'Sega', 'Seta Corporation', 'Seventh Chord', 'Shogakukan',\n",
       "       'Simon & Schuster Interactive', 'Slightly Mad Studios',\n",
       "       'Slitherine Software', 'Societa', 'Sold Out', 'Sonnet',\n",
       "       'Sony Computer Entertainment',\n",
       "       'Sony Computer Entertainment America',\n",
       "       'Sony Computer Entertainment Europe', 'Sony Music Entertainment',\n",
       "       'Sony Online Entertainment', 'SouthPeak Games', 'Spike', 'Square',\n",
       "       'Square EA', 'Square Enix', 'Square Enix ', 'SquareSoft',\n",
       "       'Stainless Games', 'Starfish', 'Starpath Corp.', 'Sting',\n",
       "       'Storm City Games', 'Strategy First', 'Success', 'Summitsoft',\n",
       "       'Sunflowers', 'Sunrise Interactive', 'Sunsoft', 'Sweets',\n",
       "       'Swing! Entertainment', 'Syscom', 'System 3',\n",
       "       'System 3 Arcade Software', 'System Soft', 'T&E Soft', 'TDK Core',\n",
       "       'TDK Mediactive', 'TGL', 'THQ', 'TOHO', 'TYO', 'Taito', 'Takara',\n",
       "       'Takara Tomy', 'Take-Two Interactive', 'Takuyo', 'TalonSoft',\n",
       "       'Team17 Software', 'TechnoSoft', 'Technos Japan Corporation',\n",
       "       'Tecmo Koei', 'Telegames', 'Telltale Games', 'Telstar',\n",
       "       'Tetris Online', 'The Adventure Company', 'The Learning Company',\n",
       "       'Tigervision', 'Time Warner Interactive', 'Titus', 'Tivola',\n",
       "       'Tommo', 'Tomy Corporation', 'TopWare Interactive', 'Touchstone',\n",
       "       'Tradewest', 'Trion Worlds', 'Tripwire Interactive',\n",
       "       'Tru Blu Entertainment', 'Tryfirst', 'Type-Moon', 'U.S. Gold',\n",
       "       'UEP Systems', 'UFO Interactive', 'UIG Entertainment', 'Ubisoft',\n",
       "       'Ubisoft Annecy', 'Universal Gamex', 'Universal Interactive',\n",
       "       'Unknown', 'Valcon Games', 'ValuSoft', 'Valve', 'Valve Software',\n",
       "       'Vap', 'Vatical Entertainment', 'Vic Tokai', 'Victor Interactive',\n",
       "       'Video System', 'Views', 'Vir2L Studios', 'Virgin Interactive',\n",
       "       'Virtual Play Games', 'Visco', 'Vivendi Games', 'Wanadoo',\n",
       "       'Warashi', 'Wargaming.net',\n",
       "       'Warner Bros. Interactive Entertainment', 'Warp',\n",
       "       'WayForward Technologies', 'Westwood Studios',\n",
       "       'White Park Bay Software', 'Wizard Video Games', 'XS Games',\n",
       "       'Xicat Interactive', 'Xing Entertainment', 'Xplosiv',\n",
       "       'Xseed Games', 'Yacht Club Games', 'Yamasa Entertainment', 'Yeti',\n",
       "       \"Yuke's\", 'Yumedia', 'Zenrin', 'Zoo Digital Publishing',\n",
       "       'Zoo Games', 'Zushi Games', 'bitComposer Games', 'dramatic create',\n",
       "       'fonfun', 'iWin', 'id Software', 'imageepoch Inc.',\n",
       "       'inXile Entertainment', 'mixi, Inc', 'responDESIGN'], dtype=object)"
      ]
     },
     "execution_count": 8,
     "metadata": {},
     "output_type": "execute_result"
    }
   ],
   "source": [
    "Publisher_le.classes_"
   ]
  },
  {
   "cell_type": "code",
   "execution_count": 9,
   "metadata": {},
   "outputs": [],
   "source": [
    "Sscale_Global_Sales, Oother_scale_scale = ds_pro.standard_scale(data, 'Global_Sales', 'Other_Sales')\n",
    "\n",
    "Sscale_Global_Sales = pd.DataFrame(Sscale_Global_Sales,columns=['Sscale_Global_Sales'])\n",
    "Oother_scale_scale = pd.DataFrame(Oother_scale_scale,columns=['Oother_scale'])\n",
    "data['Sscale_Global_Sales'] = Sscale_Global_Sales\n",
    "data['Oother_scale_scale'] = Oother_scale_scale"
   ]
  },
  {
   "cell_type": "code",
   "execution_count": 10,
   "metadata": {},
   "outputs": [],
   "source": [
    "Mscale_Global_Sales, Oother_minmax_scale = ds_pro.minmax_scale(data, 'Global_Sales', 'Other_Sales')\n",
    "\n",
    "Mscale_Global_Sales = pd.DataFrame(Mscale_Global_Sales,columns=['Mscale_Global_Sales'])\n",
    "Oother_minmax_scale = pd.DataFrame(Oother_minmax_scale,columns=['Oother_minmax_scale'])\n",
    "data['Mscale_Global_Sales'] = Mscale_Global_Sales\n",
    "data['Oother_minmax_scale'] = Oother_minmax_scale"
   ]
  },
  {
   "cell_type": "code",
   "execution_count": 11,
   "metadata": {},
   "outputs": [],
   "source": [
    "Sscale_Global_Sales, Oother_scale_scale = ds_pro.robust_scale(data, 'Global_Sales', 'Other_Sales')\n",
    "\n",
    "Sscale_Global_Sales = pd.DataFrame(Sscale_Global_Sales,columns=['Sscale_Global_Sales'])\n",
    "Oother_scale_scale = pd.DataFrame(Oother_scale_scale,columns=['Oother_scale'])\n",
    "data['Rscale_Global_Sales'] = Sscale_Global_Sales\n",
    "data['Oother_robust_scale'] = Oother_scale_scale\n"
   ]
  },
  {
   "cell_type": "code",
   "execution_count": 12,
   "metadata": {},
   "outputs": [
    {
     "data": {
      "text/plain": [
       "(0.0, 4.0, 0.0, 3.0)"
      ]
     },
     "execution_count": 12,
     "metadata": {},
     "output_type": "execute_result"
    },
    {
     "data": {
      "image/png": "[encoded data removed]",
      "text/plain": [
       "<Figure size 1440x576 with 4 Axes>"
      ]
     },
     "metadata": {
      "needs_background": "light"
     },
     "output_type": "display_data"
    }
   ],
   "source": [
    "fig,(ax1,ax2,ax3,ax4) = plt.subplots(ncols=4,figsize=(20,8))\n",
    "fig.subplots_adjust(wspace=0.5)\n",
    "\n",
    "ax1.set_title('Before Standard_Scaling')\n",
    "sns.kdeplot(data['Other_Sales'],ax=ax1)\n",
    "sns.kdeplot(data['Global_Sales'],ax=ax1)\n",
    "\n",
    "ax2.set_title('After Standard_Scaling')\n",
    "sns.kdeplot(data['Oother_scale_scale'],ax=ax2)\n",
    "sns.kdeplot(data['Sscale_Global_Sales'],ax=ax2)\n",
    "\n",
    "ax3.set_title('After MinMax_Scaling')\n",
    "sns.kdeplot(data['Oother_minmax_scale'],ax=ax3)\n",
    "sns.kdeplot(data['Mscale_Global_Sales'],ax=ax3)\n",
    "\n",
    "ax4.set_title('After Robust_Scaling')\n",
    "sns.kdeplot(data['Oother_robust_scale'],ax=ax4)\n",
    "sns.kdeplot(data['Rscale_Global_Sales'],ax=ax4)\n",
    "plt.axis([0, 4, 0, 3])"
   ]
  },
  {
   "cell_type": "code",
   "execution_count": 13,
   "metadata": {},
   "outputs": [
    {
     "data": {
      "text/html": [
       "<div>\n",
       "<style scoped>\n",
       "    .dataframe tbody tr th:only-of-type {\n",
       "        vertical-align: middle;\n",
       "    }\n",
       "\n",
       "    .dataframe tbody tr th {\n",
       "        vertical-align: top;\n",
       "    }\n",
       "\n",
       "    .dataframe thead th {\n",
       "        text-align: right;\n",
       "    }\n",
       "</style>\n",
       "<table border=\"1\" class=\"dataframe\">\n",
       "  <thead>\n",
       "    <tr style=\"text-align: right;\">\n",
       "      <th></th>\n",
       "      <th>Name</th>\n",
       "      <th>Platform</th>\n",
       "      <th>Year_of_Release</th>\n",
       "      <th>Genre</th>\n",
       "      <th>Publisher</th>\n",
       "      <th>NA_Sales</th>\n",
       "      <th>EU_Sales</th>\n",
       "      <th>JP_Sales</th>\n",
       "      <th>Other_Sales</th>\n",
       "      <th>Global_Sales</th>\n",
       "      <th>Sscale_Global_Sales</th>\n",
       "      <th>Oother_scale_scale</th>\n",
       "      <th>Mscale_Global_Sales</th>\n",
       "      <th>Oother_minmax_scale</th>\n",
       "      <th>Rscale_Global_Sales</th>\n",
       "      <th>Oother_robust_scale</th>\n",
       "    </tr>\n",
       "  </thead>\n",
       "  <tbody>\n",
       "    <tr>\n",
       "      <th>0</th>\n",
       "      <td>Wii Sports</td>\n",
       "      <td>Wii</td>\n",
       "      <td>2006.0</td>\n",
       "      <td>10</td>\n",
       "      <td>361</td>\n",
       "      <td>41.36</td>\n",
       "      <td>28.96</td>\n",
       "      <td>3.77</td>\n",
       "      <td>8.45</td>\n",
       "      <td>82.53</td>\n",
       "      <td>52.565293</td>\n",
       "      <td>44.657443</td>\n",
       "      <td>1.000000</td>\n",
       "      <td>0.799432</td>\n",
       "      <td>200.878049</td>\n",
       "      <td>281.333333</td>\n",
       "    </tr>\n",
       "    <tr>\n",
       "      <th>1</th>\n",
       "      <td>Super Mario Bros.</td>\n",
       "      <td>NES</td>\n",
       "      <td>1985.0</td>\n",
       "      <td>4</td>\n",
       "      <td>361</td>\n",
       "      <td>29.08</td>\n",
       "      <td>3.58</td>\n",
       "      <td>6.81</td>\n",
       "      <td>0.77</td>\n",
       "      <td>40.24</td>\n",
       "      <td>25.453487</td>\n",
       "      <td>3.839103</td>\n",
       "      <td>0.487518</td>\n",
       "      <td>0.072848</td>\n",
       "      <td>97.731707</td>\n",
       "      <td>25.333333</td>\n",
       "    </tr>\n",
       "    <tr>\n",
       "      <th>2</th>\n",
       "      <td>Mario Kart Wii</td>\n",
       "      <td>Wii</td>\n",
       "      <td>2008.0</td>\n",
       "      <td>6</td>\n",
       "      <td>361</td>\n",
       "      <td>15.68</td>\n",
       "      <td>12.76</td>\n",
       "      <td>3.79</td>\n",
       "      <td>3.29</td>\n",
       "      <td>35.52</td>\n",
       "      <td>22.427530</td>\n",
       "      <td>17.232621</td>\n",
       "      <td>0.430320</td>\n",
       "      <td>0.311258</td>\n",
       "      <td>86.219512</td>\n",
       "      <td>109.333333</td>\n",
       "    </tr>\n",
       "    <tr>\n",
       "      <th>3</th>\n",
       "      <td>Wii Sports Resort</td>\n",
       "      <td>Wii</td>\n",
       "      <td>2009.0</td>\n",
       "      <td>10</td>\n",
       "      <td>361</td>\n",
       "      <td>15.61</td>\n",
       "      <td>10.93</td>\n",
       "      <td>3.28</td>\n",
       "      <td>2.95</td>\n",
       "      <td>32.77</td>\n",
       "      <td>20.664525</td>\n",
       "      <td>15.425559</td>\n",
       "      <td>0.396995</td>\n",
       "      <td>0.279092</td>\n",
       "      <td>79.512195</td>\n",
       "      <td>98.000000</td>\n",
       "    </tr>\n",
       "    <tr>\n",
       "      <th>4</th>\n",
       "      <td>Pokemon Red/Pokemon Blue</td>\n",
       "      <td>GB</td>\n",
       "      <td>1996.0</td>\n",
       "      <td>7</td>\n",
       "      <td>361</td>\n",
       "      <td>11.27</td>\n",
       "      <td>8.89</td>\n",
       "      <td>10.22</td>\n",
       "      <td>1.00</td>\n",
       "      <td>31.37</td>\n",
       "      <td>19.766995</td>\n",
       "      <td>5.061528</td>\n",
       "      <td>0.380029</td>\n",
       "      <td>0.094607</td>\n",
       "      <td>76.097561</td>\n",
       "      <td>33.000000</td>\n",
       "    </tr>\n",
       "    <tr>\n",
       "      <th>...</th>\n",
       "      <td>...</td>\n",
       "      <td>...</td>\n",
       "      <td>...</td>\n",
       "      <td>...</td>\n",
       "      <td>...</td>\n",
       "      <td>...</td>\n",
       "      <td>...</td>\n",
       "      <td>...</td>\n",
       "      <td>...</td>\n",
       "      <td>...</td>\n",
       "      <td>...</td>\n",
       "      <td>...</td>\n",
       "      <td>...</td>\n",
       "      <td>...</td>\n",
       "      <td>...</td>\n",
       "      <td>...</td>\n",
       "    </tr>\n",
       "    <tr>\n",
       "      <th>16411</th>\n",
       "      <td>Samurai Warriors: Sanada Maru</td>\n",
       "      <td>PS3</td>\n",
       "      <td>2016.0</td>\n",
       "      <td>0</td>\n",
       "      <td>502</td>\n",
       "      <td>0.00</td>\n",
       "      <td>0.00</td>\n",
       "      <td>0.01</td>\n",
       "      <td>0.00</td>\n",
       "      <td>0.01</td>\n",
       "      <td>-0.337669</td>\n",
       "      <td>-0.253360</td>\n",
       "      <td>0.000000</td>\n",
       "      <td>0.000000</td>\n",
       "      <td>-0.390244</td>\n",
       "      <td>-0.333333</td>\n",
       "    </tr>\n",
       "    <tr>\n",
       "      <th>16412</th>\n",
       "      <td>LMA Manager 2007</td>\n",
       "      <td>X360</td>\n",
       "      <td>2006.0</td>\n",
       "      <td>10</td>\n",
       "      <td>91</td>\n",
       "      <td>0.00</td>\n",
       "      <td>0.01</td>\n",
       "      <td>0.00</td>\n",
       "      <td>0.00</td>\n",
       "      <td>0.01</td>\n",
       "      <td>-0.337669</td>\n",
       "      <td>-0.253360</td>\n",
       "      <td>0.000000</td>\n",
       "      <td>0.000000</td>\n",
       "      <td>-0.390244</td>\n",
       "      <td>-0.333333</td>\n",
       "    </tr>\n",
       "    <tr>\n",
       "      <th>16413</th>\n",
       "      <td>Haitaka no Psychedelica</td>\n",
       "      <td>PSV</td>\n",
       "      <td>2016.0</td>\n",
       "      <td>1</td>\n",
       "      <td>233</td>\n",
       "      <td>0.00</td>\n",
       "      <td>0.00</td>\n",
       "      <td>0.01</td>\n",
       "      <td>0.00</td>\n",
       "      <td>0.01</td>\n",
       "      <td>-0.337669</td>\n",
       "      <td>-0.253360</td>\n",
       "      <td>0.000000</td>\n",
       "      <td>0.000000</td>\n",
       "      <td>-0.390244</td>\n",
       "      <td>-0.333333</td>\n",
       "    </tr>\n",
       "    <tr>\n",
       "      <th>16414</th>\n",
       "      <td>Spirits &amp; Spells</td>\n",
       "      <td>GBA</td>\n",
       "      <td>2003.0</td>\n",
       "      <td>4</td>\n",
       "      <td>547</td>\n",
       "      <td>0.01</td>\n",
       "      <td>0.00</td>\n",
       "      <td>0.00</td>\n",
       "      <td>0.00</td>\n",
       "      <td>0.01</td>\n",
       "      <td>-0.337669</td>\n",
       "      <td>-0.253360</td>\n",
       "      <td>0.000000</td>\n",
       "      <td>0.000000</td>\n",
       "      <td>-0.390244</td>\n",
       "      <td>-0.333333</td>\n",
       "    </tr>\n",
       "    <tr>\n",
       "      <th>16415</th>\n",
       "      <td>Winning Post 8 2016</td>\n",
       "      <td>PSV</td>\n",
       "      <td>2016.0</td>\n",
       "      <td>9</td>\n",
       "      <td>502</td>\n",
       "      <td>0.00</td>\n",
       "      <td>0.00</td>\n",
       "      <td>0.01</td>\n",
       "      <td>0.00</td>\n",
       "      <td>0.01</td>\n",
       "      <td>-0.337669</td>\n",
       "      <td>-0.253360</td>\n",
       "      <td>0.000000</td>\n",
       "      <td>0.000000</td>\n",
       "      <td>-0.390244</td>\n",
       "      <td>-0.333333</td>\n",
       "    </tr>\n",
       "  </tbody>\n",
       "</table>\n",
       "<p>16416 rows × 16 columns</p>\n",
       "</div>"
      ],
      "text/plain": [
       "                                Name Platform  Year_of_Release  Genre  \\\n",
       "0                         Wii Sports      Wii           2006.0     10   \n",
       "1                  Super Mario Bros.      NES           1985.0      4   \n",
       "2                     Mario Kart Wii      Wii           2008.0      6   \n",
       "3                  Wii Sports Resort      Wii           2009.0     10   \n",
       "4           Pokemon Red/Pokemon Blue       GB           1996.0      7   \n",
       "...                              ...      ...              ...    ...   \n",
       "16411  Samurai Warriors: Sanada Maru      PS3           2016.0      0   \n",
       "16412               LMA Manager 2007     X360           2006.0     10   \n",
       "16413        Haitaka no Psychedelica      PSV           2016.0      1   \n",
       "16414               Spirits & Spells      GBA           2003.0      4   \n",
       "16415            Winning Post 8 2016      PSV           2016.0      9   \n",
       "\n",
       "       Publisher  NA_Sales  EU_Sales  JP_Sales  Other_Sales  Global_Sales  \\\n",
       "0            361     41.36     28.96      3.77         8.45         82.53   \n",
       "1            361     29.08      3.58      6.81         0.77         40.24   \n",
       "2            361     15.68     12.76      3.79         3.29         35.52   \n",
       "3            361     15.61     10.93      3.28         2.95         32.77   \n",
       "4            361     11.27      8.89     10.22         1.00         31.37   \n",
       "...          ...       ...       ...       ...          ...           ...   \n",
       "16411        502      0.00      0.00      0.01         0.00          0.01   \n",
       "16412         91      0.00      0.01      0.00         0.00          0.01   \n",
       "16413        233      0.00      0.00      0.01         0.00          0.01   \n",
       "16414        547      0.01      0.00      0.00         0.00          0.01   \n",
       "16415        502      0.00      0.00      0.01         0.00          0.01   \n",
       "\n",
       "       Sscale_Global_Sales  Oother_scale_scale  Mscale_Global_Sales  \\\n",
       "0                52.565293           44.657443             1.000000   \n",
       "1                25.453487            3.839103             0.487518   \n",
       "2                22.427530           17.232621             0.430320   \n",
       "3                20.664525           15.425559             0.396995   \n",
       "4                19.766995            5.061528             0.380029   \n",
       "...                    ...                 ...                  ...   \n",
       "16411            -0.337669           -0.253360             0.000000   \n",
       "16412            -0.337669           -0.253360             0.000000   \n",
       "16413            -0.337669           -0.253360             0.000000   \n",
       "16414            -0.337669           -0.253360             0.000000   \n",
       "16415            -0.337669           -0.253360             0.000000   \n",
       "\n",
       "       Oother_minmax_scale  Rscale_Global_Sales  Oother_robust_scale  \n",
       "0                 0.799432           200.878049           281.333333  \n",
       "1                 0.072848            97.731707            25.333333  \n",
       "2                 0.311258            86.219512           109.333333  \n",
       "3                 0.279092            79.512195            98.000000  \n",
       "4                 0.094607            76.097561            33.000000  \n",
       "...                    ...                  ...                  ...  \n",
       "16411             0.000000            -0.390244            -0.333333  \n",
       "16412             0.000000            -0.390244            -0.333333  \n",
       "16413             0.000000            -0.390244            -0.333333  \n",
       "16414             0.000000            -0.390244            -0.333333  \n",
       "16415             0.000000            -0.390244            -0.333333  \n",
       "\n",
       "[16416 rows x 16 columns]"
      ]
     },
     "execution_count": 13,
     "metadata": {},
     "output_type": "execute_result"
    }
   ],
   "source": [
    "data"
   ]
  },
  {
   "cell_type": "code",
   "execution_count": 14,
   "metadata": {},
   "outputs": [],
   "source": [
    "data_train, data_test = train_test_split(data, test_size = 0.3, random_state = 42)"
   ]
  },
  {
   "cell_type": "code",
   "execution_count": 15,
   "metadata": {},
   "outputs": [
    {
     "data": {
      "text/html": [
       "<div>\n",
       "<style scoped>\n",
       "    .dataframe tbody tr th:only-of-type {\n",
       "        vertical-align: middle;\n",
       "    }\n",
       "\n",
       "    .dataframe tbody tr th {\n",
       "        vertical-align: top;\n",
       "    }\n",
       "\n",
       "    .dataframe thead th {\n",
       "        text-align: right;\n",
       "    }\n",
       "</style>\n",
       "<table border=\"1\" class=\"dataframe\">\n",
       "  <thead>\n",
       "    <tr style=\"text-align: right;\">\n",
       "      <th></th>\n",
       "      <th>Name</th>\n",
       "      <th>Platform</th>\n",
       "      <th>Year_of_Release</th>\n",
       "      <th>Genre</th>\n",
       "      <th>Publisher</th>\n",
       "      <th>NA_Sales</th>\n",
       "      <th>EU_Sales</th>\n",
       "      <th>JP_Sales</th>\n",
       "      <th>Other_Sales</th>\n",
       "      <th>Global_Sales</th>\n",
       "      <th>Sscale_Global_Sales</th>\n",
       "      <th>Oother_scale_scale</th>\n",
       "      <th>Mscale_Global_Sales</th>\n",
       "      <th>Oother_minmax_scale</th>\n",
       "      <th>Rscale_Global_Sales</th>\n",
       "      <th>Oother_robust_scale</th>\n",
       "    </tr>\n",
       "  </thead>\n",
       "  <tbody>\n",
       "    <tr>\n",
       "      <th>577</th>\n",
       "      <td>ESPN NFL 2K5</td>\n",
       "      <td>PS2</td>\n",
       "      <td>2004.0</td>\n",
       "      <td>10</td>\n",
       "      <td>447</td>\n",
       "      <td>2.15</td>\n",
       "      <td>0.12</td>\n",
       "      <td>0.00</td>\n",
       "      <td>0.36</td>\n",
       "      <td>2.62</td>\n",
       "      <td>1.335583</td>\n",
       "      <td>1.659999</td>\n",
       "      <td>0.031629</td>\n",
       "      <td>0.034059</td>\n",
       "      <td>5.975610</td>\n",
       "      <td>11.666667</td>\n",
       "    </tr>\n",
       "    <tr>\n",
       "      <th>4233</th>\n",
       "      <td>Nickelodeon Team Umizoomi</td>\n",
       "      <td>DS</td>\n",
       "      <td>2011.0</td>\n",
       "      <td>0</td>\n",
       "      <td>496</td>\n",
       "      <td>0.42</td>\n",
       "      <td>0.00</td>\n",
       "      <td>0.00</td>\n",
       "      <td>0.03</td>\n",
       "      <td>0.45</td>\n",
       "      <td>-0.055588</td>\n",
       "      <td>-0.093914</td>\n",
       "      <td>0.005332</td>\n",
       "      <td>0.002838</td>\n",
       "      <td>0.682927</td>\n",
       "      <td>0.666667</td>\n",
       "    </tr>\n",
       "    <tr>\n",
       "      <th>684</th>\n",
       "      <td>Tomb Raider II</td>\n",
       "      <td>PC</td>\n",
       "      <td>1997.0</td>\n",
       "      <td>0</td>\n",
       "      <td>138</td>\n",
       "      <td>0.91</td>\n",
       "      <td>1.25</td>\n",
       "      <td>0.00</td>\n",
       "      <td>0.13</td>\n",
       "      <td>2.29</td>\n",
       "      <td>1.124022</td>\n",
       "      <td>0.437575</td>\n",
       "      <td>0.027630</td>\n",
       "      <td>0.012299</td>\n",
       "      <td>5.170732</td>\n",
       "      <td>4.000000</td>\n",
       "    </tr>\n",
       "    <tr>\n",
       "      <th>6462</th>\n",
       "      <td>Castlevania: Harmony of Dissonance</td>\n",
       "      <td>GBA</td>\n",
       "      <td>2002.0</td>\n",
       "      <td>4</td>\n",
       "      <td>277</td>\n",
       "      <td>0.16</td>\n",
       "      <td>0.06</td>\n",
       "      <td>0.04</td>\n",
       "      <td>0.00</td>\n",
       "      <td>0.26</td>\n",
       "      <td>-0.177396</td>\n",
       "      <td>-0.253360</td>\n",
       "      <td>0.003030</td>\n",
       "      <td>0.000000</td>\n",
       "      <td>0.219512</td>\n",
       "      <td>-0.333333</td>\n",
       "    </tr>\n",
       "    <tr>\n",
       "      <th>3785</th>\n",
       "      <td>NBA Live 09</td>\n",
       "      <td>PS3</td>\n",
       "      <td>2008.0</td>\n",
       "      <td>10</td>\n",
       "      <td>139</td>\n",
       "      <td>0.46</td>\n",
       "      <td>0.00</td>\n",
       "      <td>0.02</td>\n",
       "      <td>0.04</td>\n",
       "      <td>0.52</td>\n",
       "      <td>-0.010711</td>\n",
       "      <td>-0.040765</td>\n",
       "      <td>0.006180</td>\n",
       "      <td>0.003784</td>\n",
       "      <td>0.853659</td>\n",
       "      <td>1.000000</td>\n",
       "    </tr>\n",
       "    <tr>\n",
       "      <th>9585</th>\n",
       "      <td>PixelJunk Monsters Deluxe</td>\n",
       "      <td>PSP</td>\n",
       "      <td>2010.0</td>\n",
       "      <td>11</td>\n",
       "      <td>457</td>\n",
       "      <td>0.11</td>\n",
       "      <td>0.00</td>\n",
       "      <td>0.00</td>\n",
       "      <td>0.01</td>\n",
       "      <td>0.12</td>\n",
       "      <td>-0.267148</td>\n",
       "      <td>-0.200212</td>\n",
       "      <td>0.001333</td>\n",
       "      <td>0.000946</td>\n",
       "      <td>-0.121951</td>\n",
       "      <td>0.000000</td>\n",
       "    </tr>\n",
       "    <tr>\n",
       "      <th>761</th>\n",
       "      <td>Super Mario RPG: Legend of the Seven Stars</td>\n",
       "      <td>SNES</td>\n",
       "      <td>1996.0</td>\n",
       "      <td>7</td>\n",
       "      <td>361</td>\n",
       "      <td>0.66</td>\n",
       "      <td>0.00</td>\n",
       "      <td>1.45</td>\n",
       "      <td>0.03</td>\n",
       "      <td>2.14</td>\n",
       "      <td>1.027859</td>\n",
       "      <td>-0.093914</td>\n",
       "      <td>0.025812</td>\n",
       "      <td>0.002838</td>\n",
       "      <td>4.804878</td>\n",
       "      <td>0.666667</td>\n",
       "    </tr>\n",
       "    <tr>\n",
       "      <th>3588</th>\n",
       "      <td>Tony Hawk's Pro Skater 3</td>\n",
       "      <td>XB</td>\n",
       "      <td>2002.0</td>\n",
       "      <td>10</td>\n",
       "      <td>21</td>\n",
       "      <td>0.34</td>\n",
       "      <td>0.18</td>\n",
       "      <td>0.00</td>\n",
       "      <td>0.02</td>\n",
       "      <td>0.55</td>\n",
       "      <td>0.008521</td>\n",
       "      <td>-0.147063</td>\n",
       "      <td>0.006544</td>\n",
       "      <td>0.001892</td>\n",
       "      <td>0.926829</td>\n",
       "      <td>0.333333</td>\n",
       "    </tr>\n",
       "    <tr>\n",
       "      <th>16031</th>\n",
       "      <td>Agatha Christie's The ABC Murders</td>\n",
       "      <td>XOne</td>\n",
       "      <td>2016.0</td>\n",
       "      <td>1</td>\n",
       "      <td>323</td>\n",
       "      <td>0.01</td>\n",
       "      <td>0.00</td>\n",
       "      <td>0.00</td>\n",
       "      <td>0.00</td>\n",
       "      <td>0.01</td>\n",
       "      <td>-0.337669</td>\n",
       "      <td>-0.253360</td>\n",
       "      <td>0.000000</td>\n",
       "      <td>0.000000</td>\n",
       "      <td>-0.390244</td>\n",
       "      <td>-0.333333</td>\n",
       "    </tr>\n",
       "    <tr>\n",
       "      <th>796</th>\n",
       "      <td>Mario &amp; Luigi: Dream Team</td>\n",
       "      <td>3DS</td>\n",
       "      <td>2013.0</td>\n",
       "      <td>7</td>\n",
       "      <td>361</td>\n",
       "      <td>0.89</td>\n",
       "      <td>0.58</td>\n",
       "      <td>0.46</td>\n",
       "      <td>0.14</td>\n",
       "      <td>2.08</td>\n",
       "      <td>0.989393</td>\n",
       "      <td>0.490724</td>\n",
       "      <td>0.025085</td>\n",
       "      <td>0.013245</td>\n",
       "      <td>4.658537</td>\n",
       "      <td>4.333333</td>\n",
       "    </tr>\n",
       "  </tbody>\n",
       "</table>\n",
       "</div>"
      ],
      "text/plain": [
       "                                             Name Platform  Year_of_Release  \\\n",
       "577                                  ESPN NFL 2K5      PS2           2004.0   \n",
       "4233                    Nickelodeon Team Umizoomi       DS           2011.0   \n",
       "684                                Tomb Raider II       PC           1997.0   \n",
       "6462           Castlevania: Harmony of Dissonance      GBA           2002.0   \n",
       "3785                                  NBA Live 09      PS3           2008.0   \n",
       "9585                    PixelJunk Monsters Deluxe      PSP           2010.0   \n",
       "761    Super Mario RPG: Legend of the Seven Stars     SNES           1996.0   \n",
       "3588                     Tony Hawk's Pro Skater 3       XB           2002.0   \n",
       "16031           Agatha Christie's The ABC Murders     XOne           2016.0   \n",
       "796                     Mario & Luigi: Dream Team      3DS           2013.0   \n",
       "\n",
       "       Genre  Publisher  NA_Sales  EU_Sales  JP_Sales  Other_Sales  \\\n",
       "577       10        447      2.15      0.12      0.00         0.36   \n",
       "4233       0        496      0.42      0.00      0.00         0.03   \n",
       "684        0        138      0.91      1.25      0.00         0.13   \n",
       "6462       4        277      0.16      0.06      0.04         0.00   \n",
       "3785      10        139      0.46      0.00      0.02         0.04   \n",
       "9585      11        457      0.11      0.00      0.00         0.01   \n",
       "761        7        361      0.66      0.00      1.45         0.03   \n",
       "3588      10         21      0.34      0.18      0.00         0.02   \n",
       "16031      1        323      0.01      0.00      0.00         0.00   \n",
       "796        7        361      0.89      0.58      0.46         0.14   \n",
       "\n",
       "       Global_Sales  Sscale_Global_Sales  Oother_scale_scale  \\\n",
       "577            2.62             1.335583            1.659999   \n",
       "4233           0.45            -0.055588           -0.093914   \n",
       "684            2.29             1.124022            0.437575   \n",
       "6462           0.26            -0.177396           -0.253360   \n",
       "3785           0.52            -0.010711           -0.040765   \n",
       "9585           0.12            -0.267148           -0.200212   \n",
       "761            2.14             1.027859           -0.093914   \n",
       "3588           0.55             0.008521           -0.147063   \n",
       "16031          0.01            -0.337669           -0.253360   \n",
       "796            2.08             0.989393            0.490724   \n",
       "\n",
       "       Mscale_Global_Sales  Oother_minmax_scale  Rscale_Global_Sales  \\\n",
       "577               0.031629             0.034059             5.975610   \n",
       "4233              0.005332             0.002838             0.682927   \n",
       "684               0.027630             0.012299             5.170732   \n",
       "6462              0.003030             0.000000             0.219512   \n",
       "3785              0.006180             0.003784             0.853659   \n",
       "9585              0.001333             0.000946            -0.121951   \n",
       "761               0.025812             0.002838             4.804878   \n",
       "3588              0.006544             0.001892             0.926829   \n",
       "16031             0.000000             0.000000            -0.390244   \n",
       "796               0.025085             0.013245             4.658537   \n",
       "\n",
       "       Oother_robust_scale  \n",
       "577              11.666667  \n",
       "4233              0.666667  \n",
       "684               4.000000  \n",
       "6462             -0.333333  \n",
       "3785              1.000000  \n",
       "9585              0.000000  \n",
       "761               0.666667  \n",
       "3588              0.333333  \n",
       "16031            -0.333333  \n",
       "796               4.333333  "
      ]
     },
     "execution_count": 15,
     "metadata": {},
     "output_type": "execute_result"
    }
   ],
   "source": [
    "data_train.head(10)"
   ]
  },
  {
   "cell_type": "code",
   "execution_count": 16,
   "metadata": {},
   "outputs": [
    {
     "data": {
      "text/html": [
       "<div>\n",
       "<style scoped>\n",
       "    .dataframe tbody tr th:only-of-type {\n",
       "        vertical-align: middle;\n",
       "    }\n",
       "\n",
       "    .dataframe tbody tr th {\n",
       "        vertical-align: top;\n",
       "    }\n",
       "\n",
       "    .dataframe thead th {\n",
       "        text-align: right;\n",
       "    }\n",
       "</style>\n",
       "<table border=\"1\" class=\"dataframe\">\n",
       "  <thead>\n",
       "    <tr style=\"text-align: right;\">\n",
       "      <th></th>\n",
       "      <th>Name</th>\n",
       "      <th>Platform</th>\n",
       "      <th>Year_of_Release</th>\n",
       "      <th>Genre</th>\n",
       "      <th>Publisher</th>\n",
       "      <th>NA_Sales</th>\n",
       "      <th>EU_Sales</th>\n",
       "      <th>JP_Sales</th>\n",
       "      <th>Other_Sales</th>\n",
       "      <th>Global_Sales</th>\n",
       "      <th>Sscale_Global_Sales</th>\n",
       "      <th>Oother_scale_scale</th>\n",
       "      <th>Mscale_Global_Sales</th>\n",
       "      <th>Oother_minmax_scale</th>\n",
       "      <th>Rscale_Global_Sales</th>\n",
       "      <th>Oother_robust_scale</th>\n",
       "    </tr>\n",
       "  </thead>\n",
       "  <tbody>\n",
       "    <tr>\n",
       "      <th>12189</th>\n",
       "      <td>Tron 2.0: Killer App</td>\n",
       "      <td>GBA</td>\n",
       "      <td>2004.0</td>\n",
       "      <td>0</td>\n",
       "      <td>127</td>\n",
       "      <td>0.04</td>\n",
       "      <td>0.02</td>\n",
       "      <td>0.00</td>\n",
       "      <td>0.00</td>\n",
       "      <td>0.06</td>\n",
       "      <td>-0.305614</td>\n",
       "      <td>-0.253360</td>\n",
       "      <td>0.000606</td>\n",
       "      <td>0.000000</td>\n",
       "      <td>-0.268293</td>\n",
       "      <td>-0.333333</td>\n",
       "    </tr>\n",
       "    <tr>\n",
       "      <th>2420</th>\n",
       "      <td>Tales of Xillia 2</td>\n",
       "      <td>PS3</td>\n",
       "      <td>2012.0</td>\n",
       "      <td>7</td>\n",
       "      <td>349</td>\n",
       "      <td>0.20</td>\n",
       "      <td>0.12</td>\n",
       "      <td>0.45</td>\n",
       "      <td>0.07</td>\n",
       "      <td>0.84</td>\n",
       "      <td>0.194438</td>\n",
       "      <td>0.118682</td>\n",
       "      <td>0.010058</td>\n",
       "      <td>0.006623</td>\n",
       "      <td>1.634146</td>\n",
       "      <td>2.000000</td>\n",
       "    </tr>\n",
       "    <tr>\n",
       "      <th>15847</th>\n",
       "      <td>Totally Spies! Totally Party</td>\n",
       "      <td>PS2</td>\n",
       "      <td>2008.0</td>\n",
       "      <td>3</td>\n",
       "      <td>527</td>\n",
       "      <td>0.01</td>\n",
       "      <td>0.01</td>\n",
       "      <td>0.00</td>\n",
       "      <td>0.00</td>\n",
       "      <td>0.01</td>\n",
       "      <td>-0.337669</td>\n",
       "      <td>-0.253360</td>\n",
       "      <td>0.000000</td>\n",
       "      <td>0.000000</td>\n",
       "      <td>-0.390244</td>\n",
       "      <td>-0.333333</td>\n",
       "    </tr>\n",
       "    <tr>\n",
       "      <th>5996</th>\n",
       "      <td>Super Fire ProWrestling X</td>\n",
       "      <td>SNES</td>\n",
       "      <td>1995.0</td>\n",
       "      <td>2</td>\n",
       "      <td>228</td>\n",
       "      <td>0.00</td>\n",
       "      <td>0.00</td>\n",
       "      <td>0.28</td>\n",
       "      <td>0.00</td>\n",
       "      <td>0.28</td>\n",
       "      <td>-0.164574</td>\n",
       "      <td>-0.253360</td>\n",
       "      <td>0.003272</td>\n",
       "      <td>0.000000</td>\n",
       "      <td>0.268293</td>\n",
       "      <td>-0.333333</td>\n",
       "    </tr>\n",
       "    <tr>\n",
       "      <th>5094</th>\n",
       "      <td>Star Fox: Zero</td>\n",
       "      <td>WiiU</td>\n",
       "      <td>2016.0</td>\n",
       "      <td>8</td>\n",
       "      <td>361</td>\n",
       "      <td>0.17</td>\n",
       "      <td>0.10</td>\n",
       "      <td>0.07</td>\n",
       "      <td>0.03</td>\n",
       "      <td>0.36</td>\n",
       "      <td>-0.113286</td>\n",
       "      <td>-0.093914</td>\n",
       "      <td>0.004241</td>\n",
       "      <td>0.002838</td>\n",
       "      <td>0.463415</td>\n",
       "      <td>0.666667</td>\n",
       "    </tr>\n",
       "    <tr>\n",
       "      <th>12336</th>\n",
       "      <td>Top Gear Hyper-Bike</td>\n",
       "      <td>N64</td>\n",
       "      <td>1999.0</td>\n",
       "      <td>6</td>\n",
       "      <td>271</td>\n",
       "      <td>0.05</td>\n",
       "      <td>0.01</td>\n",
       "      <td>0.00</td>\n",
       "      <td>0.00</td>\n",
       "      <td>0.06</td>\n",
       "      <td>-0.305614</td>\n",
       "      <td>-0.253360</td>\n",
       "      <td>0.000606</td>\n",
       "      <td>0.000000</td>\n",
       "      <td>-0.268293</td>\n",
       "      <td>-0.333333</td>\n",
       "    </tr>\n",
       "    <tr>\n",
       "      <th>11230</th>\n",
       "      <td>Gintama Gin-Oh Quest: Gin-San ga Tenshoku Shit...</td>\n",
       "      <td>DS</td>\n",
       "      <td>2007.0</td>\n",
       "      <td>7</td>\n",
       "      <td>63</td>\n",
       "      <td>0.00</td>\n",
       "      <td>0.00</td>\n",
       "      <td>0.08</td>\n",
       "      <td>0.00</td>\n",
       "      <td>0.08</td>\n",
       "      <td>-0.292792</td>\n",
       "      <td>-0.253360</td>\n",
       "      <td>0.000848</td>\n",
       "      <td>0.000000</td>\n",
       "      <td>-0.219512</td>\n",
       "      <td>-0.333333</td>\n",
       "    </tr>\n",
       "    <tr>\n",
       "      <th>149</th>\n",
       "      <td>The Last of Us</td>\n",
       "      <td>PS3</td>\n",
       "      <td>2013.0</td>\n",
       "      <td>0</td>\n",
       "      <td>459</td>\n",
       "      <td>2.41</td>\n",
       "      <td>2.18</td>\n",
       "      <td>0.28</td>\n",
       "      <td>0.99</td>\n",
       "      <td>5.87</td>\n",
       "      <td>3.419134</td>\n",
       "      <td>5.008379</td>\n",
       "      <td>0.071013</td>\n",
       "      <td>0.093661</td>\n",
       "      <td>13.902439</td>\n",
       "      <td>32.666667</td>\n",
       "    </tr>\n",
       "    <tr>\n",
       "      <th>6634</th>\n",
       "      <td>Butt Ugly Martians: B.K.M. Battles</td>\n",
       "      <td>GBA</td>\n",
       "      <td>2002.0</td>\n",
       "      <td>0</td>\n",
       "      <td>546</td>\n",
       "      <td>0.18</td>\n",
       "      <td>0.07</td>\n",
       "      <td>0.00</td>\n",
       "      <td>0.00</td>\n",
       "      <td>0.25</td>\n",
       "      <td>-0.183806</td>\n",
       "      <td>-0.253360</td>\n",
       "      <td>0.002908</td>\n",
       "      <td>0.000000</td>\n",
       "      <td>0.195122</td>\n",
       "      <td>-0.333333</td>\n",
       "    </tr>\n",
       "    <tr>\n",
       "      <th>13069</th>\n",
       "      <td>2002 FIFA World Cup</td>\n",
       "      <td>GC</td>\n",
       "      <td>2002.0</td>\n",
       "      <td>10</td>\n",
       "      <td>139</td>\n",
       "      <td>0.04</td>\n",
       "      <td>0.01</td>\n",
       "      <td>0.00</td>\n",
       "      <td>0.00</td>\n",
       "      <td>0.05</td>\n",
       "      <td>-0.312025</td>\n",
       "      <td>-0.253360</td>\n",
       "      <td>0.000485</td>\n",
       "      <td>0.000000</td>\n",
       "      <td>-0.292683</td>\n",
       "      <td>-0.333333</td>\n",
       "    </tr>\n",
       "  </tbody>\n",
       "</table>\n",
       "</div>"
      ],
      "text/plain": [
       "                                                    Name Platform  \\\n",
       "12189                               Tron 2.0: Killer App      GBA   \n",
       "2420                                   Tales of Xillia 2      PS3   \n",
       "15847                       Totally Spies! Totally Party      PS2   \n",
       "5996                           Super Fire ProWrestling X     SNES   \n",
       "5094                                      Star Fox: Zero     WiiU   \n",
       "12336                                Top Gear Hyper-Bike      N64   \n",
       "11230  Gintama Gin-Oh Quest: Gin-San ga Tenshoku Shit...       DS   \n",
       "149                                       The Last of Us      PS3   \n",
       "6634                  Butt Ugly Martians: B.K.M. Battles      GBA   \n",
       "13069                                2002 FIFA World Cup       GC   \n",
       "\n",
       "       Year_of_Release  Genre  Publisher  NA_Sales  EU_Sales  JP_Sales  \\\n",
       "12189           2004.0      0        127      0.04      0.02      0.00   \n",
       "2420            2012.0      7        349      0.20      0.12      0.45   \n",
       "15847           2008.0      3        527      0.01      0.01      0.00   \n",
       "5996            1995.0      2        228      0.00      0.00      0.28   \n",
       "5094            2016.0      8        361      0.17      0.10      0.07   \n",
       "12336           1999.0      6        271      0.05      0.01      0.00   \n",
       "11230           2007.0      7         63      0.00      0.00      0.08   \n",
       "149             2013.0      0        459      2.41      2.18      0.28   \n",
       "6634            2002.0      0        546      0.18      0.07      0.00   \n",
       "13069           2002.0     10        139      0.04      0.01      0.00   \n",
       "\n",
       "       Other_Sales  Global_Sales  Sscale_Global_Sales  Oother_scale_scale  \\\n",
       "12189         0.00          0.06            -0.305614           -0.253360   \n",
       "2420          0.07          0.84             0.194438            0.118682   \n",
       "15847         0.00          0.01            -0.337669           -0.253360   \n",
       "5996          0.00          0.28            -0.164574           -0.253360   \n",
       "5094          0.03          0.36            -0.113286           -0.093914   \n",
       "12336         0.00          0.06            -0.305614           -0.253360   \n",
       "11230         0.00          0.08            -0.292792           -0.253360   \n",
       "149           0.99          5.87             3.419134            5.008379   \n",
       "6634          0.00          0.25            -0.183806           -0.253360   \n",
       "13069         0.00          0.05            -0.312025           -0.253360   \n",
       "\n",
       "       Mscale_Global_Sales  Oother_minmax_scale  Rscale_Global_Sales  \\\n",
       "12189             0.000606             0.000000            -0.268293   \n",
       "2420              0.010058             0.006623             1.634146   \n",
       "15847             0.000000             0.000000            -0.390244   \n",
       "5996              0.003272             0.000000             0.268293   \n",
       "5094              0.004241             0.002838             0.463415   \n",
       "12336             0.000606             0.000000            -0.268293   \n",
       "11230             0.000848             0.000000            -0.219512   \n",
       "149               0.071013             0.093661            13.902439   \n",
       "6634              0.002908             0.000000             0.195122   \n",
       "13069             0.000485             0.000000            -0.292683   \n",
       "\n",
       "       Oother_robust_scale  \n",
       "12189            -0.333333  \n",
       "2420              2.000000  \n",
       "15847            -0.333333  \n",
       "5996             -0.333333  \n",
       "5094              0.666667  \n",
       "12336            -0.333333  \n",
       "11230            -0.333333  \n",
       "149              32.666667  \n",
       "6634             -0.333333  \n",
       "13069            -0.333333  "
      ]
     },
     "execution_count": 16,
     "metadata": {},
     "output_type": "execute_result"
    }
   ],
   "source": [
    "data_test.head(10)"
   ]
  },
  {
   "cell_type": "code",
   "execution_count": 17,
   "metadata": {},
   "outputs": [
    {
     "data": {
      "text/plain": [
       "[]"
      ]
     },
     "execution_count": 17,
     "metadata": {},
     "output_type": "execute_result"
    },
    {
     "data": {
      "image/png": "[encoded data removed]",
      "text/plain": [
       "<Figure size 432x288 with 4 Axes>"
      ]
     },
     "metadata": {
      "needs_background": "light"
     },
     "output_type": "display_data"
    }
   ],
   "source": [
    "#Just calculate for later comparison\n",
    "train_predict_na, train_predict_eu, train_predict_jp, train_predict_other = ds_pro.line_reg(data_train, 'NA_Sales', 'EU_Sales', 'JP_Sales', 'Other_Sales', 'Global_Sales')\n",
    "\n",
    "#Draw linear regression graph\n",
    "fig, ax = plt.subplots(ncols=2, nrows=2)\n",
    "plt.subplots_adjust(left=0.125, bottom=0.1, right=0.9, top=0.9, wspace=0.5, hspace=0.5)\n",
    "sns.regplot(x=\"NA_Sales\", y=\"Global_Sales\", data=data_train, ax=ax[0][0])\n",
    "sns.regplot(x=\"EU_Sales\", y=\"Global_Sales\", data=data_train, ax=ax[0][1])\n",
    "sns.regplot(x=\"JP_Sales\", y=\"Global_Sales\", data=data_train, ax=ax[1][0])\n",
    "sns.regplot(x=\"Other_Sales\", y=\"Global_Sales\", data=data_train, ax=ax[1][1])\n",
    "plt.plot()"
   ]
  },
  {
   "cell_type": "code",
   "execution_count": 18,
   "metadata": {},
   "outputs": [
    {
     "name": "stdout",
     "output_type": "stream",
     "text": [
      "----------------MSE of train set----------------\n",
      "Global sales by NA_Sales : 0.2831131993938329\n",
      "Global sales by EU_Sales : 0.4948710521123267\n",
      "Global sales by JP_Sales : 1.1870655229366764\n",
      "Global sales by Other_Sales : 1.0204616202752568\n",
      "----------------MSE of test set----------------\n",
      "Global sales by NA_Sales : 0.2831131993938329\n",
      "Global sales by EU_Sales : 0.4948710521123267\n",
      "Global sales by JP_Sales : 1.1870655229366764\n",
      "Global sales by Other_Sales : 1.0204616202752568\n"
     ]
    }
   ],
   "source": [
    "ds_pro.mse(data_train, 'NA_Sales', 'EU_Sales', 'JP_Sales', 'Other_Sales', 'Global_Sales')"
   ]
  },
  {
   "cell_type": "code",
   "execution_count": 19,
   "metadata": {},
   "outputs": [
    {
     "name": "stdout",
     "output_type": "stream",
     "text": [
      "MSE of Standard scaled test set is  0.0486313190083426\n"
     ]
    }
   ],
   "source": [
    "#Linear regresssion with Standard scaled data\n",
    "X_train = data_train.iloc[:,5:9] #NA, EU, JP, Other_Sales\n",
    "X_test = data_test.iloc[:,5:9]\n",
    "y_train = data_train[['Sscale_Global_Sales']]\n",
    "y_test = data_test[['Sscale_Global_Sales']]\n",
    "\n",
    "ds_pro.stand_line(X_train, X_test, y_train, y_test)"
   ]
  },
  {
   "cell_type": "code",
   "execution_count": 20,
   "metadata": {},
   "outputs": [
    {
     "name": "stdout",
     "output_type": "stream",
     "text": [
      "MSE of MinMax scaled test set is  5.2425736814386184e-05\n"
     ]
    }
   ],
   "source": [
    "X_train = data_train.iloc[:,5:9] #NA, EU, JP, Other_Sales\n",
    "X_test = data_test.iloc[:,5:9]\n",
    "y_train = data_train[['Mscale_Global_Sales']]\n",
    "y_test = data_test[['Mscale_Global_Sales']]\n",
    "\n",
    "ds_pro.minmax_line(X_train, X_test, y_train, y_test)"
   ]
  },
  {
   "cell_type": "code",
   "execution_count": 21,
   "metadata": {},
   "outputs": [
    {
     "name": "stdout",
     "output_type": "stream",
     "text": [
      "MSE of Robust scaled test set is  0.009787650905886491\n"
     ]
    }
   ],
   "source": [
    "X_train = data_train.iloc[:,5:9] #NA, EU, JP, Other_Sales\n",
    "X_test = data_test.iloc[:,5:9]\n",
    "y_train = data_train[['Rscale_Global_Sales']]\n",
    "y_test = data_test[['Rscale_Global_Sales']]\n",
    "\n",
    "ds_pro.robust_line(X_train, X_test, y_train, y_test)"
   ]
  },
  {
   "cell_type": "code",
   "execution_count": 22,
   "metadata": {},
   "outputs": [
    {
     "name": "stdout",
     "output_type": "stream",
     "text": [
      "5-fold cv score:  [0.87988433 0.83238196 0.88522613 0.89498388 0.76211238]\n"
     ]
    }
   ],
   "source": [
    "#Between 'NA_Sales' and 'Global_Sales' k-fold line Regression\n",
    "ds_pro.line_kfold(data_train, 'NA_Sales', 'Global_Sales')\n"
   ]
  },
  {
   "cell_type": "code",
   "execution_count": 23,
   "metadata": {},
   "outputs": [
    {
     "name": "stdout",
     "output_type": "stream",
     "text": [
      "5-fold cv score:  [0.8364541  0.80810412 0.84238645 0.75364582 0.58980237]\n"
     ]
    }
   ],
   "source": [
    "#Between 'EU_Sales' and 'Global_Sales' k-fold line Regression\n",
    "ds_pro.line_kfold(data_train, 'EU_Sales', 'Global_Sales')"
   ]
  },
  {
   "cell_type": "code",
   "execution_count": 24,
   "metadata": {},
   "outputs": [
    {
     "name": "stdout",
     "output_type": "stream",
     "text": [
      "5-fold cv score:  [0.19920289 0.46377804 0.41753558 0.5197861  0.37044717]\n"
     ]
    }
   ],
   "source": [
    "#Between 'JP_Sales' and 'Global_Sales' k-fold line Regression\n",
    "ds_pro.line_kfold(data_train, 'JP_Sales', 'Global_Sales')"
   ]
  },
  {
   "cell_type": "code",
   "execution_count": 25,
   "metadata": {},
   "outputs": [
    {
     "name": "stdout",
     "output_type": "stream",
     "text": [
      "5-fold cv score:  [0.67459148 0.07771929 0.52190326 0.55008275 0.45010958]\n"
     ]
    }
   ],
   "source": [
    "#Between 'JP_Sales' and 'Global_Sales' k-fold line Regression\n",
    "ds_pro.line_kfold(data_train, 'Other_Sales', 'Global_Sales')"
   ]
  },
  {
   "cell_type": "code",
   "execution_count": 26,
   "metadata": {},
   "outputs": [],
   "source": [
    "target =  data[['Global_Sales']].values #y\n",
    "features = data[['Platform','Genre']] #X"
   ]
  },
  {
   "cell_type": "code",
   "execution_count": 27,
   "metadata": {},
   "outputs": [
    {
     "data": {
      "text/plain": [
       "array([[1.74],\n",
       "       [0.03],\n",
       "       [0.07],\n",
       "       ...,\n",
       "       [0.11],\n",
       "       [0.09],\n",
       "       [0.74]])"
      ]
     },
     "execution_count": 27,
     "metadata": {},
     "output_type": "execute_result"
    }
   ],
   "source": [
    "X_train, X_test, y_train, y_test = train_test_split(features, target, random_state=0)\n",
    "y_train"
   ]
  },
  {
   "cell_type": "code",
   "execution_count": 28,
   "metadata": {},
   "outputs": [],
   "source": [
    "from sklearn.preprocessing import OneHotEncoder\n",
    "preprocess = make_column_transformer((OneHotEncoder(), ['Platform', 'Genre'])) #OHE categorical features"
   ]
  },
  {
   "cell_type": "code",
   "execution_count": 29,
   "metadata": {},
   "outputs": [
    {
     "name": "stdout",
     "output_type": "stream",
     "text": [
      "LinearRegression Score: 0.065261\n"
     ]
    }
   ],
   "source": [
    "from sklearn.pipeline import make_pipeline\n",
    "model = make_pipeline(\n",
    "    preprocess,\n",
    "    LinearRegression())\n",
    "model.fit(X_train, y_train.ravel())\n",
    "y_pred = model.predict(X_test)\n",
    "print(\"LinearRegression Score: %f\" % model.score(X_test, y_test))"
   ]
  },
  {
   "cell_type": "code",
   "execution_count": 30,
   "metadata": {},
   "outputs": [],
   "source": [
    "data[\"Global_Sales_Hit\"] = (data[\"Global_Sales\"] >= 3).astype(int) # decision tree를 위해 열 추가\n",
    "features = data[[\"Platform\",\"Genre\",\"Publisher\"]]\n",
    "target = data[\"Global_Sales_Hit\"]"
   ]
  },
  {
   "cell_type": "code",
   "execution_count": 31,
   "metadata": {},
   "outputs": [
    {
     "name": "stdout",
     "output_type": "stream",
     "text": [
      "H(x) =  0.1881\n"
     ]
    }
   ],
   "source": [
    "print('H(x) = ', round(ds_pro.entropy(target), 5))"
   ]
  },
  {
   "cell_type": "code",
   "execution_count": 32,
   "metadata": {},
   "outputs": [
    {
     "name": "stdout",
     "output_type": "stream",
     "text": [
      "Entropy(D) =  0.1881\n",
      "H( Platform ) =  0.17674\n",
      "InfoGain( Platform ) =  0.01136 \n",
      "\n",
      "Entropy(D) =  0.1881\n",
      "H( Genre ) =  0.18278\n",
      "InfoGain( Genre ) =  0.00532 \n",
      "\n",
      "Entropy(D) =  0.1881\n",
      "H( Publisher ) =  0.15138\n",
      "InfoGain( Publisher ) =  0.03671\n"
     ]
    }
   ],
   "source": [
    "print('InfoGain( Platform ) = ', round(ds_pro.InfoGain(data, \"Platform\", \"Global_Sales_Hit\"), 5), '\\n')\n",
    "print('InfoGain( Genre ) = ', round(ds_pro.InfoGain(data, \"Genre\", \"Global_Sales_Hit\"), 5), '\\n')\n",
    "print('InfoGain( Publisher ) = ', round(ds_pro.InfoGain(data, \"Publisher\", \"Global_Sales_Hit\"), 5))"
   ]
  },
  {
   "cell_type": "code",
   "execution_count": 33,
   "metadata": {},
   "outputs": [
    {
     "name": "stdout",
     "output_type": "stream",
     "text": [
      "Entropy(D) =  0.1881\n",
      "H( Platform ) =  0.17674\n",
      "Entropy(D) =  0.1881\n",
      "H( Genre ) =  0.18278\n",
      "Entropy(D) =  0.1881\n",
      "H( Publisher ) =  0.15138\n",
      "Entropy(D) =  0.1166\n",
      "H( Platform ) =  0.10058\n",
      "Entropy(D) =  0.1166\n",
      "H( Genre ) =  0.09267\n",
      "Entropy(D) =  0.28119\n",
      "H( Platform ) =  0.23583\n",
      "Entropy(D) =  0.22854\n",
      "H( Platform ) =  0.16106\n",
      "Entropy(D) =  0.04871\n",
      "H( Platform ) =  0.03904\n",
      "Entropy(D) =  0.04871\n",
      "H( Genre ) =  0.03464\n",
      "Entropy(D) =  0.20559\n",
      "H( Platform ) =  0.16019\n",
      "Entropy(D) =  0.27408\n",
      "H( Platform ) =  0.23683\n",
      "Entropy(D) =  0.27408\n",
      "H( Genre ) =  0.2382\n",
      "Entropy(D) =  0.24229\n",
      "H( Genre ) =  0.08\n",
      "Entropy(D) =  0.0747\n",
      "H( Genre ) =  0.04988\n",
      "Entropy(D) =  0.43408\n",
      "H( Genre ) =  0.26348\n",
      "Entropy(D) =  0.44886\n",
      "H( Genre ) =  0.25443\n",
      "Entropy(D) =  0.35827\n",
      "H( Genre ) =  0.30774\n",
      "Entropy(D) =  0.37847\n",
      "H( Genre ) =  0.21241\n",
      "Entropy(D) =  0.72193\n",
      "H( Genre ) =  0.30542\n",
      "Entropy(D) =  0.13207\n",
      "H( Genre ) =  0.08741\n",
      "Entropy(D) =  0.41165\n",
      "H( Genre ) =  0.32059\n",
      "Entropy(D) =  0.55863\n",
      "H( Genre ) =  0.33198\n",
      "Entropy(D) =  0.1248\n",
      "H( Platform ) =  0.09773\n",
      "Entropy(D) =  0.1248\n",
      "H( Genre ) =  0.10165\n",
      "Entropy(D) =  0.2762\n",
      "H( Genre ) =  0.20418\n",
      "Entropy(D) =  0.4395\n",
      "H( Genre ) =  0.0\n",
      "Entropy(D) =  0.25524\n",
      "H( Genre ) =  0.18895\n",
      "Entropy(D) =  0.534\n",
      "H( Platform ) =  0.47407\n",
      "Entropy(D) =  0.534\n",
      "H( Genre ) =  0.25624\n",
      "Entropy(D) =  0.998\n",
      "H( Platform ) =  0.73548\n",
      "Entropy(D) =  0.1887\n",
      "H( Platform ) =  0.14738\n",
      "Entropy(D) =  0.1887\n",
      "H( Genre ) =  0.17008\n",
      "Entropy(D) =  0.54356\n",
      "H( Genre ) =  0.27178\n",
      "Entropy(D) =  0.12229\n",
      "H( Genre ) =  0.10459\n",
      "Entropy(D) =  0.37123\n",
      "H( Genre ) =  0.31854\n",
      "Entropy(D) =  0.39124\n",
      "H( Genre ) =  0.24962\n",
      "Entropy(D) =  0.65002\n",
      "H( Genre ) =  0.22957\n",
      "Entropy(D) =  0.18718\n",
      "H( Genre ) =  0.15419\n",
      "Entropy(D) =  0.07642\n",
      "H( Platform ) =  0.06535\n",
      "Entropy(D) =  0.07642\n",
      "H( Genre ) =  0.05574\n",
      "Entropy(D) =  0.2164\n",
      "H( Platform ) =  0.17539\n",
      "Entropy(D) =  0.29747\n",
      "H( Platform ) =  0.10526\n",
      "Entropy(D) =  0.24602\n",
      "H( Platform ) =  0.17801\n",
      "Entropy(D) =  0.24602\n",
      "H( Genre ) =  0.20072\n",
      "Entropy(D) =  0.69129\n",
      "H( Genre ) =  0.52162\n",
      "Entropy(D) =  0.15649\n",
      "H( Genre ) =  0.1247\n",
      "Entropy(D) =  0.59167\n",
      "H( Genre ) =  0.46359\n",
      "Entropy(D) =  0.37123\n",
      "H( Genre ) =  0.31061\n",
      "Entropy(D) =  0.25989\n",
      "H( Platform ) =  0.21978\n",
      "Entropy(D) =  0.25989\n",
      "H( Genre ) =  0.24496\n",
      "Entropy(D) =  0.09794\n",
      "H( Genre ) =  0.07811\n",
      "Entropy(D) =  0.17832\n",
      "H( Genre ) =  0.13159\n",
      "Entropy(D) =  0.1858\n",
      "H( Genre ) =  0.13667\n",
      "Entropy(D) =  0.49124\n",
      "H( Genre ) =  0.45662\n",
      "Entropy(D) =  0.31436\n",
      "H( Genre ) =  0.28668\n",
      "Entropy(D) =  0.86312\n",
      "H( Genre ) =  0.75833\n",
      "Entropy(D) =  0.08888\n",
      "H( Genre ) =  0.07213\n",
      "Entropy(D) =  0.35491\n",
      "H( Genre ) =  0.28559\n",
      "Entropy(D) =  0.36205\n",
      "H( Genre ) =  0.33604\n",
      "Entropy(D) =  0.56651\n",
      "H( Platform ) =  0.37281\n",
      "Entropy(D) =  0.56651\n",
      "H( Genre ) =  0.51104\n",
      "Entropy(D) =  0.9183\n",
      "H( Genre ) =  0.9183\n",
      "Entropy(D) =  0.65002\n",
      "H( Genre ) =  0.60161\n",
      "Entropy(D) =  0.50326\n",
      "H( Genre ) =  0.46019\n",
      "Entropy(D) =  0.54356\n",
      "H( Platform ) =  0.51771\n",
      "Entropy(D) =  0.54356\n",
      "H( Genre ) =  0.25\n",
      "Entropy(D) =  1.0\n",
      "H( Platform ) =  1.0\n",
      "Entropy(D) =  0.15374\n",
      "H( Platform ) =  0.13712\n",
      "Entropy(D) =  0.15374\n",
      "H( Genre ) =  0.10422\n",
      "Entropy(D) =  0.469\n",
      "H( Platform ) =  0.36096\n",
      "Entropy(D) =  0.33729\n",
      "H( Platform ) =  0.31036\n",
      "Entropy(D) =  0.33729\n",
      "H( Genre ) =  0.125\n",
      "Entropy(D) =  1.0\n",
      "H( Platform ) =  1.0\n",
      "Entropy(D) =  0.08676\n",
      "H( Platform ) =  0.06838\n",
      "Entropy(D) =  0.08676\n",
      "H( Genre ) =  0.0747\n",
      "Entropy(D) =  0.09694\n",
      "H( Genre ) =  0.04512\n",
      "Entropy(D) =  0.22962\n",
      "H( Genre ) =  0.19291\n",
      "Entropy(D) =  0.12229\n",
      "H( Genre ) =  0.09667\n",
      "Entropy(D) =  0.54356\n",
      "H( Genre ) =  0.34436\n",
      "Entropy(D) =  0.31209\n",
      "H( Platform ) =  0.22584\n",
      "Entropy(D) =  0.31209\n",
      "H( Genre ) =  0.28449\n",
      "Entropy(D) =  0.50326\n",
      "H( Genre ) =  0.46019\n",
      "Entropy(D) =  0.67229\n",
      "H( Genre ) =  0.51499\n",
      "Entropy(D) =  0.59167\n",
      "H( Genre ) =  0.55716\n",
      "Entropy(D) =  0.16866\n",
      "H( Platform ) =  0.11725\n",
      "Entropy(D) =  0.16866\n",
      "H( Genre ) =  0.16866\n",
      "Entropy(D) =  0.469\n",
      "H( Genre ) =  0.469\n",
      "Entropy(D) =  0.49976\n",
      "H( Platform ) =  0.44285\n",
      "Entropy(D) =  0.49976\n",
      "H( Genre ) =  0.37564\n",
      "Entropy(D) =  0.32276\n",
      "H( Platform ) =  0.26643\n",
      "Entropy(D) =  0.57464\n",
      "H( Platform ) =  0.37567\n",
      "Entropy(D) =  0.54356\n",
      "H( Platform ) =  0.45121\n",
      "Entropy(D) =  0.97845\n",
      "H( Platform ) =  0.8585\n",
      "Entropy(D) =  0.30954\n",
      "H( Platform ) =  0.24158\n",
      "Entropy(D) =  0.32276\n",
      "H( Platform ) =  0.16205\n",
      "Entropy(D) =  0.06363\n",
      "H( Platform ) =  0.04463\n",
      "Entropy(D) =  0.06363\n",
      "H( Genre ) =  0.05406\n",
      "Entropy(D) =  0.33729\n",
      "H( Genre ) =  0.125\n",
      "Entropy(D) =  0.37123\n",
      "H( Genre ) =  0.27858\n",
      "Entropy(D) =  0.23016\n",
      "H( Genre ) =  0.15815\n",
      "Entropy(D) =  0.19143\n",
      "H( Genre ) =  0.14219\n",
      "Entropy(D) =  0.71327\n",
      "H( Platform ) =  0.69197\n",
      "Entropy(D) =  0.71327\n",
      "H( Genre ) =  0.67725\n",
      "Entropy(D) =  0.72696\n",
      "H( Platform ) =  0.58574\n",
      "Entropy(D) =  0.316\n",
      "H( Platform ) =  0.09272\n",
      "Entropy(D) =  0.96408\n",
      "H( Platform ) =  0.75054\n",
      "Entropy(D) =  0.65384\n",
      "H( Platform ) =  0.52526\n",
      "Entropy(D) =  0.88886\n",
      "H( Platform ) =  0.78993\n",
      "Entropy(D) =  0.49418\n",
      "H( Platform ) =  0.41077\n",
      "Entropy(D) =  0.90902\n",
      "H( Platform ) =  0.80511\n",
      "Entropy(D) =  0.67473\n",
      "H( Platform ) =  0.54285\n",
      "Entropy(D) =  0.73828\n",
      "H( Platform ) =  0.46855\n",
      "Entropy(D) =  0.90593\n",
      "H( Platform ) =  0.82569\n",
      "Entropy(D) =  0.49717\n",
      "H( Platform ) =  0.30714\n",
      "Entropy(D) =  0.34512\n",
      "H( Platform ) =  0.22112\n",
      "Entropy(D) =  0.81128\n",
      "H( Platform ) =  0.81128\n",
      "Entropy(D) =  0.81128\n",
      "H( Genre ) =  0.81128\n",
      "Entropy(D) =  0.81128\n",
      "H( Genre ) =  0.81128\n",
      "Entropy(D) =  0.09807\n",
      "H( Platform ) =  0.06664\n",
      "Entropy(D) =  0.09807\n",
      "H( Genre ) =  0.07494\n",
      "Entropy(D) =  0.2762\n",
      "H( Genre ) =  0.1532\n",
      "Entropy(D) =  0.50326\n",
      "H( Genre ) =  0.26971\n",
      "Entropy(D) =  0.37123\n",
      "H( Genre ) =  0.1818\n",
      "Entropy(D) =  0.37123\n",
      "H( Platform ) =  0.35778\n",
      "Entropy(D) =  0.37123\n",
      "H( Genre ) =  0.33153\n",
      "Entropy(D) =  0.49958\n",
      "H( Platform ) =  0.4501\n",
      "Entropy(D) =  0.16233\n",
      "H( Platform ) =  0.09861\n",
      "Entropy(D) =  0.469\n",
      "H( Platform ) =  0.36096\n",
      "Entropy(D) =  0.23658\n",
      "H( Platform ) =  0.20797\n",
      "Entropy(D) =  0.68404\n",
      "H( Platform ) =  0.63015\n",
      "Entropy(D) =  0.61362\n",
      "H( Platform ) =  0.53918\n",
      "Entropy(D) =  0.33729\n",
      "H( Platform ) =  0.29311\n",
      "Entropy(D) =  0.39124\n",
      "H( Platform ) =  0.3026\n",
      "Entropy(D) =  0.06812\n",
      "H( Platform ) =  0.04388\n",
      "Entropy(D) =  0.72193\n",
      "H( Platform ) =  0.59032\n",
      "Entropy(D) =  0.72193\n",
      "H( Genre ) =  0.34967\n",
      "Entropy(D) =  0.81128\n",
      "H( Platform ) =  0.5\n",
      "Entropy(D) =  1.0\n",
      "H( Platform ) =  1.0\n",
      "Entropy(D) =  0.15007\n",
      "H( Platform ) =  0.10956\n",
      "Entropy(D) =  0.15007\n",
      "H( Genre ) =  0.13179\n",
      "Entropy(D) =  0.51595\n",
      "H( Genre ) =  0.49417\n",
      "Entropy(D) =  0.2164\n",
      "H( Genre ) =  0.17922\n",
      "Entropy(D) =  0.2864\n",
      "H( Genre ) =  0.26502\n",
      "Entropy(D) =  0.31822\n",
      "H( Platform ) =  0.2933\n",
      "Entropy(D) =  0.31822\n",
      "H( Genre ) =  0.29118\n",
      "Entropy(D) =  0.39846\n",
      "H( Platform ) =  0.36272\n",
      "Entropy(D) =  0.07017\n",
      "H( Platform ) =  0.04473\n",
      "Entropy(D) =  0.07017\n",
      "H( Genre ) =  0.0597\n",
      "Entropy(D) =  0.60519\n",
      "H( Genre ) =  0.44719\n",
      "Entropy(D) =  0.08079\n",
      "H( Genre ) =  0.0361\n",
      "Entropy(D) =  0.11612\n",
      "H( Genre ) =  0.0917\n",
      "Entropy(D) =  0.31545\n",
      "H( Platform ) =  0.2778\n",
      "Entropy(D) =  0.31545\n",
      "H( Genre ) =  0.27006\n",
      "Entropy(D) =  0.62526\n",
      "H( Platform ) =  0.49573\n",
      "Entropy(D) =  0.41382\n",
      "H( Platform ) =  0.0\n",
      "Entropy(D) =  0.22854\n",
      "H( Platform ) =  0.1534\n",
      "Entropy(D) =  0.2864\n",
      "H( Platform ) =  0.1\n",
      "Entropy(D) =  0.65002\n",
      "H( Platform ) =  0.0\n",
      "Entropy(D) =  0.27297\n",
      "H( Platform ) =  0.17247\n",
      "Entropy(D) =  0.09896\n",
      "H( Platform ) =  0.06907\n",
      "Entropy(D) =  0.19493\n",
      "H( Platform ) =  0.15305\n",
      "Entropy(D) =  0.19493\n",
      "H( Genre ) =  0.1726\n",
      "Entropy(D) =  0.24988\n",
      "H( Genre ) =  0.16251\n",
      "Entropy(D) =  0.45162\n",
      "H( Genre ) =  0.34754\n",
      "Entropy(D) =  0.6632\n",
      "H( Genre ) =  0.44436\n",
      "Entropy(D) =  0.29368\n",
      "H( Genre ) =  0.22324\n",
      "Entropy(D) =  0.37123\n",
      "H( Genre ) =  0.27508\n",
      "Entropy(D) =  0.15374\n",
      "H( Genre ) =  0.11035\n",
      "Entropy(D) =  0.21084\n",
      "H( Genre ) =  0.16954\n",
      "Entropy(D) =  0.26676\n",
      "H( Platform ) =  0.18826\n",
      "Entropy(D) =  0.26676\n",
      "H( Genre ) =  0.18826\n",
      "Entropy(D) =  0.59167\n",
      "H( Genre ) =  0.28571\n",
      "Entropy(D) =  0.34512\n",
      "H( Platform ) =  0.29845\n",
      "Entropy(D) =  0.34512\n",
      "H( Genre ) =  0.22382\n",
      "Entropy(D) =  0.81128\n",
      "H( Platform ) =  0.63629\n",
      "Entropy(D) =  0.59167\n",
      "H( Platform ) =  0.0\n",
      "Entropy(D) =  0.09645\n",
      "H( Platform ) =  0.07645\n",
      "Entropy(D) =  0.09645\n",
      "H( Genre ) =  0.07126\n",
      "Entropy(D) =  0.37123\n",
      "H( Platform ) =  0.23179\n",
      "Entropy(D) =  0.2164\n",
      "H( Platform ) =  0.14282\n",
      "Entropy(D) =  0.15649\n",
      "H( Platform ) =  0.13085\n",
      "Entropy(D) =  0.15649\n",
      "H( Genre ) =  0.14463\n",
      "Entropy(D) =  0.21084\n",
      "H( Genre ) =  0.16954\n",
      "Entropy(D) =  0.2164\n",
      "H( Genre ) =  0.19752\n",
      "Entropy(D) =  0.32276\n",
      "H( Genre ) =  0.31179\n",
      "Entropy(D) =  0.34512\n",
      "H( Genre ) =  0.30258\n",
      "{'Publisher': {0: 0.0,\n",
      "               1: 0.0,\n",
      "               2: 0.0,\n",
      "               3: 0.0,\n",
      "               4: 0.0,\n",
      "               5: 0.0,\n",
      "               6: {'Genre': {0.0: 0.0,\n",
      "                             1.0: 0.0,\n",
      "                             2.0: 0.0,\n",
      "                             3.0: 0.0,\n",
      "                             4.0: 0.0,\n",
      "                             5.0: 0.0,\n",
      "                             6.0: 0.0,\n",
      "                             7.0: 0.0,\n",
      "                             8.0: 0.0,\n",
      "                             9.0: {'Platform': {'3DS': 0.0,\n",
      "                                                'DS': 0.0,\n",
      "                                                'PS2': 0.0,\n",
      "                                                'PS3': 0.0,\n",
      "                                                'PSP': 0.0,\n",
      "                                                'Wii': 0.0,\n",
      "                                                'X360': 0.0}},\n",
      "                             10.0: {'Platform': {'DS': 0.0,\n",
      "                                                 'PC': 0.0,\n",
      "                                                 'PS2': 0.0,\n",
      "                                                 'PS3': 0.0,\n",
      "                                                 'PS4': 0.0,\n",
      "                                                 'PSP': 0.0,\n",
      "                                                 'Wii': 0.0,\n",
      "                                                 'X360': 0.0,\n",
      "                                                 'XOne': 0.0}},\n",
      "                             11.0: 0.0}},\n",
      "               7: 0.0,\n",
      "               8: 0.0,\n",
      "               9: 0.0,\n",
      "               10: 0.0,\n",
      "               11: 0.0,\n",
      "               12: 0.0,\n",
      "               13: 0.0,\n",
      "               14: 0.0,\n",
      "               15: 0.0,\n",
      "               16: 0.0,\n",
      "               17: {'Genre': {0.0: 0.0,\n",
      "                              1.0: 0.0,\n",
      "                              2.0: {'Platform': {'DC': 0.0,\n",
      "                                                 'GBA': 0.0,\n",
      "                                                 'GC': 0.0,\n",
      "                                                 'GEN': 0.0,\n",
      "                                                 'N64': 0.0,\n",
      "                                                 'PC': 0.0,\n",
      "                                                 'PS': 0.0,\n",
      "                                                 'PS2': 0.0,\n",
      "                                                 'SAT': 0.0,\n",
      "                                                 'SNES': 0.0,\n",
      "                                                 'XB': 0.0}},\n",
      "                              3.0: 0.0,\n",
      "                              4.0: 0.0,\n",
      "                              5.0: 0.0,\n",
      "                              6.0: 0.0,\n",
      "                              7.0: 0.0,\n",
      "                              8.0: 0.0,\n",
      "                              10.0: 0.0,\n",
      "                              11.0: 0.0}},\n",
      "               18: 0.0,\n",
      "               19: 0.0,\n",
      "               20: 0.0,\n",
      "               21: {'Platform': {'2600': {'Genre': {0.0: 0.0,\n",
      "                                                    2.0: 0.0,\n",
      "                                                    3.0: 0.0,\n",
      "                                                    4.0: 0.0,\n",
      "                                                    5.0: 0.0,\n",
      "                                                    6.0: 0.0,\n",
      "                                                    8.0: 0.0,\n",
      "                                                    10.0: 0.0}},\n",
      "                                 '3DS': 0.0,\n",
      "                                 'DC': 0.0,\n",
      "                                 'DS': {'Genre': {0.0: 0.0,\n",
      "                                                  1.0: 0.0,\n",
      "                                                  3.0: 0.0,\n",
      "                                                  4.0: 0.0,\n",
      "                                                  5.0: 0.0,\n",
      "                                                  6.0: 0.0,\n",
      "                                                  7.0: 0.0,\n",
      "                                                  8.0: 0.0,\n",
      "                                                  9.0: 0.0,\n",
      "                                                  10.0: 0.0,\n",
      "                                                  11.0: 0.0}},\n",
      "                                 'GB': 0.0,\n",
      "                                 'GBA': 0.0,\n",
      "                                 'GC': 0.0,\n",
      "                                 'N64': 0.0,\n",
      "                                 'PC': {'Genre': {0.0: 0.0,\n",
      "                                                  4.0: 0.0,\n",
      "                                                  6.0: 0.0,\n",
      "                                                  7.0: 0.0,\n",
      "                                                  8.0: 0.0,\n",
      "                                                  9.0: 0.0,\n",
      "                                                  11.0: 0.0}},\n",
      "                                 'PS': {'Genre': {0.0: 0.0,\n",
      "                                                  2.0: 0.0,\n",
      "                                                  3.0: 0.0,\n",
      "                                                  4.0: 0.0,\n",
      "                                                  5.0: 0.0,\n",
      "                                                  6.0: 0.0,\n",
      "                                                  7.0: 0.0,\n",
      "                                                  8.0: 0.0,\n",
      "                                                  9.0: 0.0,\n",
      "                                                  10.0: 0.0,\n",
      "                                                  11.0: 0.0}},\n",
      "                                 'PS2': {'Genre': {0.0: 0.0,\n",
      "                                                   1.0: 0.0,\n",
      "                                                   2.0: 0.0,\n",
      "                                                   3.0: 0.0,\n",
      "                                                   4.0: 0.0,\n",
      "                                                   6.0: 0.0,\n",
      "                                                   7.0: 0.0,\n",
      "                                                   8.0: 0.0,\n",
      "                                                   9.0: 0.0,\n",
      "                                                   10.0: 0.0,\n",
      "                                                   11.0: 0.0}},\n",
      "                                 'PS3': {'Genre': {0.0: 0.0,\n",
      "                                                   1.0: 0.0,\n",
      "                                                   3.0: 0.0,\n",
      "                                                   4.0: 0.0,\n",
      "                                                   6.0: 0.0,\n",
      "                                                   7.0: 0.0,\n",
      "                                                   8.0: 0.0,\n",
      "                                                   9.0: 0.0,\n",
      "                                                   10.0: 0.0,\n",
      "                                                   11.0: 0.0}},\n",
      "                                 'PS4': {'Genre': {0.0: 0.0,\n",
      "                                                   1.0: 0.0,\n",
      "                                                   3.0: 0.0,\n",
      "                                                   4.0: 0.0,\n",
      "                                                   7.0: 0.0,\n",
      "                                                   8.0: 0.0,\n",
      "                                                   10.0: 0.0,\n",
      "                                                   11.0: 0.0}},\n",
      "                                 'PSP': 0.0,\n",
      "                                 'PSV': 0.0,\n",
      "                                 'Wii': {'Genre': {0.0: 0.0,\n",
      "                                                   1.0: 0.0,\n",
      "                                                   3.0: 0.0,\n",
      "                                                   4.0: 0.0,\n",
      "                                                   6.0: 0.0,\n",
      "                                                   7.0: 0.0,\n",
      "                                                   8.0: 0.0,\n",
      "                                                   9.0: 0.0,\n",
      "                                                   10.0: 0.0,\n",
      "                                                   11.0: 0.0}},\n",
      "                                 'WiiU': 0.0,\n",
      "                                 'X360': {'Genre': {0.0: 0.0,\n",
      "                                                    1.0: 0.0,\n",
      "                                                    3.0: 0.0,\n",
      "                                                    4.0: 0.0,\n",
      "                                                    6.0: 0.0,\n",
      "                                                    7.0: 0.0,\n",
      "                                                    8.0: 0.0,\n",
      "                                                    9.0: 0.0,\n",
      "                                                    10.0: 0.0,\n",
      "                                                    11.0: 0.0}},\n",
      "                                 'XB': 0.0,\n",
      "                                 'XOne': {'Genre': {0.0: 0.0,\n",
      "                                                    3.0: 0.0,\n",
      "                                                    4.0: 0.0,\n",
      "                                                    7.0: 0.0,\n",
      "                                                    8.0: 0.0,\n",
      "                                                    10.0: 0.0,\n",
      "                                                    11.0: 0.0}}}},\n",
      "               22: 0.0,\n",
      "               23: 0.0,\n",
      "               24: 0.0,\n",
      "               25: 0.0,\n",
      "               26: 0.0,\n",
      "               27: 0.0,\n",
      "               28: 0.0,\n",
      "               29: 0.0,\n",
      "               30: 0.0,\n",
      "               31: 0.0,\n",
      "               32: 0.0,\n",
      "               33: 0.0,\n",
      "               34: 0.0,\n",
      "               35: 0.0,\n",
      "               36: 0.0,\n",
      "               37: 0.0,\n",
      "               38: 0.0,\n",
      "               39: 0.0,\n",
      "               40: 0.0,\n",
      "               41: 0.0,\n",
      "               42: 0.0,\n",
      "               43: 0.0,\n",
      "               44: 0.0,\n",
      "               45: 0.0,\n",
      "               46: 0.0,\n",
      "               47: 0.0,\n",
      "               48: 0.0,\n",
      "               49: 0.0,\n",
      "               50: 0.0,\n",
      "               51: 0.0,\n",
      "               52: 0.0,\n",
      "               53: {'Platform': {'2600': {'Genre': {0.0: 0.0,\n",
      "                                                    1.0: 0.0,\n",
      "                                                    3.0: 0.0,\n",
      "                                                    4.0: 0.0,\n",
      "                                                    5.0: 0.0,\n",
      "                                                    6.0: 0.0,\n",
      "                                                    8.0: 0.0,\n",
      "                                                    9.0: 0.0,\n",
      "                                                    10.0: 0.0}},\n",
      "                                 '3DS': 0.0,\n",
      "                                 'DS': 0.0,\n",
      "                                 'GBA': 0.0,\n",
      "                                 'GC': 0.0,\n",
      "                                 'PC': 0.0,\n",
      "                                 'PS': {'Genre': {0.0: 1.0,\n",
      "                                                  2.0: 0.0,\n",
      "                                                  4.0: 0.0,\n",
      "                                                  5.0: 0.0,\n",
      "                                                  6.0: 0.0,\n",
      "                                                  7.0: 0.0,\n",
      "                                                  8.0: 0.0}},\n",
      "                                 'PS2': {'Genre': {0.0: 0.0,\n",
      "                                                   1.0: 0.0,\n",
      "                                                   2.0: 0.0,\n",
      "                                                   3.0: 0.0,\n",
      "                                                   4.0: 0.0,\n",
      "                                                   6.0: 0.0,\n",
      "                                                   7.0: 0.0,\n",
      "                                                   8.0: 0.0,\n",
      "                                                   9.0: 0.0,\n",
      "                                                   10.0: 0.0,\n",
      "                                                   11.0: 0.0}},\n",
      "                                 'PS3': 0.0,\n",
      "                                 'PS4': 0.0,\n",
      "                                 'PSP': 0.0,\n",
      "                                 'Wii': 0.0,\n",
      "                                 'X360': 0.0,\n",
      "                                 'XB': 0.0,\n",
      "                                 'XOne': 0.0}},\n",
      "               54: 0.0,\n",
      "               55: 0.0,\n",
      "               56: 0.0,\n",
      "               57: 0.0,\n",
      "               58: 0.0,\n",
      "               59: 0.0,\n",
      "               60: 0.0,\n",
      "               61: 0.0,\n",
      "               62: 0.0,\n",
      "               63: 0.0,\n",
      "               64: 0.0,\n",
      "               65: 0.0,\n",
      "               66: {'Genre': {0.0: 0.0,\n",
      "                              6.0: 0.0,\n",
      "                              7.0: {'Platform': {'PC': 0.0,\n",
      "                                                 'PS3': 1.0,\n",
      "                                                 'PS4': 0.0,\n",
      "                                                 'X360': 0.0,\n",
      "                                                 'XOne': 0.0}},\n",
      "                              8.0: 0.0,\n",
      "                              9.0: 0.0,\n",
      "                              10.0: 0.0,\n",
      "                              11.0: 0.0}},\n",
      "               67: 0.0,\n",
      "               68: 0.0,\n",
      "               69: 0.0,\n",
      "               70: 0.0,\n",
      "               71: 0.0,\n",
      "               72: 0.0,\n",
      "               73: 0.0,\n",
      "               74: 0.0,\n",
      "               75: 0.0,\n",
      "               76: 0.0,\n",
      "               77: 0.0,\n",
      "               78: 0.0,\n",
      "               79: 0.0,\n",
      "               80: 0.0,\n",
      "               81: 0.0,\n",
      "               82: 0.0,\n",
      "               83: 0.0,\n",
      "               84: 0.0,\n",
      "               85: {'Platform': {'3DS': {'Genre': {0.0: 0.0,\n",
      "                                                   1.0: 0.0,\n",
      "                                                   2.0: 0.0,\n",
      "                                                   3.0: 0.0,\n",
      "                                                   4.0: 0.0,\n",
      "                                                   7.0: 1.0,\n",
      "                                                   8.0: 0.0}},\n",
      "                                 'DC': 0.0,\n",
      "                                 'DS': 0.0,\n",
      "                                 'GB': 0.0,\n",
      "                                 'GBA': 0.0,\n",
      "                                 'GC': 0.0,\n",
      "                                 'GEN': 0.0,\n",
      "                                 'N64': 0.0,\n",
      "                                 'NES': 0.0,\n",
      "                                 'PC': 0.0,\n",
      "                                 'PS': 0.0,\n",
      "                                 'PS2': {'Genre': {0.0: 0.0,\n",
      "                                                   1.0: 0.0,\n",
      "                                                   2.0: 0.0,\n",
      "                                                   3.0: 0.0,\n",
      "                                                   4.0: 0.0,\n",
      "                                                   5.0: 0.0,\n",
      "                                                   6.0: 0.0,\n",
      "                                                   7.0: 0.0,\n",
      "                                                   8.0: 0.0,\n",
      "                                                   11.0: 0.0}},\n",
      "                                 'PS3': {'Genre': {0.0: 0.0,\n",
      "                                                   2.0: 0.0,\n",
      "                                                   4.0: 0.0,\n",
      "                                                   6.0: 0.0,\n",
      "                                                   7.0: 0.0,\n",
      "                                                   8.0: 0.0}},\n",
      "                                 'PS4': 0.0,\n",
      "                                 'PSP': {'Genre': {0.0: 0.0,\n",
      "                                                   1.0: 0.0,\n",
      "                                                   2.0: 0.0,\n",
      "                                                   3.0: 0.0,\n",
      "                                                   4.0: 0.0,\n",
      "                                                   7.0: 0.0}},\n",
      "                                 'PSV': 0.0,\n",
      "                                 'SAT': 0.0,\n",
      "                                 'SNES': {'Genre': {0.0: 0.0,\n",
      "                                                    2.0: 0.0,\n",
      "                                                    4.0: 0.0,\n",
      "                                                    8.0: 0.0,\n",
      "                                                    10.0: 0.0}},\n",
      "                                 'Wii': 0.0,\n",
      "                                 'WiiU': 0.0,\n",
      "                                 'X360': {'Genre': {0.0: 0.0,\n",
      "                                                    2.0: 0.0,\n",
      "                                                    3.0: 0.0,\n",
      "                                                    4.0: 0.0,\n",
      "                                                    6.0: 0.0,\n",
      "                                                    7.0: 0.0,\n",
      "                                                    8.0: 0.0}},\n",
      "                                 'XB': 0.0,\n",
      "                                 'XOne': 0.0}},\n",
      "               86: 0.0,\n",
      "               87: 0.0,\n",
      "               88: 0.0,\n",
      "               89: 0.0,\n",
      "               90: 0.0,\n",
      "               91: 0.0,\n",
      "               92: 0.0,\n",
      "               93: 0.0,\n",
      "               94: 0.0,\n",
      "               95: 0.0,\n",
      "               96: 0.0,\n",
      "               97: 0.0,\n",
      "               98: 0.0,\n",
      "               99: 0.0,\n",
      "               100: 0.0,\n",
      "               101: 0.0,\n",
      "               102: 0.0,\n",
      "               103: 0.0,\n",
      "               104: 0.0,\n",
      "               105: 0.0,\n",
      "               106: 0.0,\n",
      "               107: 0.0,\n",
      "               108: 0.0,\n",
      "               109: 0.0,\n",
      "               110: 0.0,\n",
      "               111: 0.0,\n",
      "               112: 0.0,\n",
      "               113: 0.0,\n",
      "               114: 0.0,\n",
      "               115: 0.0,\n",
      "               116: 0.0,\n",
      "               117: 0.0,\n",
      "               118: 0.0,\n",
      "               119: 0.0,\n",
      "               120: 0.0,\n",
      "               121: 0.0,\n",
      "               122: 0.0,\n",
      "               123: 0.0,\n",
      "               124: 0.0,\n",
      "               125: 0.0,\n",
      "               126: 0.0,\n",
      "               127: {'Genre': {0.0: 0.0,\n",
      "                               1.0: {'Platform': {'DS': 0.0,\n",
      "                                                  'GBA': 0.0,\n",
      "                                                  'PS2': 0.0,\n",
      "                                                  'PS3': 0.0,\n",
      "                                                  'PSP': 0.0,\n",
      "                                                  'Wii': 0.0,\n",
      "                                                  'X360': 0.0,\n",
      "                                                  'XB': 0.0}},\n",
      "                               3.0: 0.0,\n",
      "                               4.0: {'Platform': {'3DS': 0.0,\n",
      "                                                  'DS': 0.0,\n",
      "                                                  'GBA': 0.0,\n",
      "                                                  'GC': 0.0,\n",
      "                                                  'PS2': 0.0,\n",
      "                                                  'Wii': 0.0,\n",
      "                                                  'XB': 0.0}},\n",
      "                               5.0: 0.0,\n",
      "                               6.0: 0.0,\n",
      "                               7.0: 0.0,\n",
      "                               8.0: 0.0,\n",
      "                               9.0: 0.0,\n",
      "                               10.0: 0.0}},\n",
      "               128: 0.0,\n",
      "               129: 0.0,\n",
      "               130: 0.0,\n",
      "               131: 0.0,\n",
      "               132: 0.0,\n",
      "               133: 0.0,\n",
      "               134: 0.0,\n",
      "               135: 0.0,\n",
      "               136: 0.0,\n",
      "               137: 0.0,\n",
      "               138: {'Platform': {'DC': 0.0,\n",
      "                                  'DS': 0.0,\n",
      "                                  'GB': 0.0,\n",
      "                                  'GBA': 0.0,\n",
      "                                  'GC': 0.0,\n",
      "                                  'PC': 0.0,\n",
      "                                  'PS': {'Genre': {0.0: 0.0,\n",
      "                                                   1.0: 0.0,\n",
      "                                                   2.0: 0.0,\n",
      "                                                   3.0: 0.0,\n",
      "                                                   4.0: 0.0,\n",
      "                                                   6.0: 0.0,\n",
      "                                                   8.0: 0.0,\n",
      "                                                   10.0: 0.0,\n",
      "                                                   11.0: 0.0}},\n",
      "                                  'PS2': {'Genre': {0.0: 0.0,\n",
      "                                                    1.0: 0.0,\n",
      "                                                    2.0: 0.0,\n",
      "                                                    3.0: 0.0,\n",
      "                                                    6.0: 0.0,\n",
      "                                                    7.0: 0.0,\n",
      "                                                    8.0: 0.0,\n",
      "                                                    9.0: 0.0,\n",
      "                                                    10.0: 0.0,\n",
      "                                                    11.0: 0.0}},\n",
      "                                  'PS3': {'Genre': {0.0: 0.0, 8.0: 0.0}},\n",
      "                                  'PSP': 0.0,\n",
      "                                  'Wii': 0.0,\n",
      "                                  'X360': {'Genre': {0.0: 0.0,\n",
      "                                                     8.0: 0.0,\n",
      "                                                     11.0: 0.0}},\n",
      "                                  'XB': 0.0}},\n",
      "               139: {'Platform': {'3DS': 0.0,\n",
      "                                  'DS': {'Genre': {0.0: 0.0,\n",
      "                                                   1.0: 0.0,\n",
      "                                                   2.0: 0.0,\n",
      "                                                   3.0: 0.0,\n",
      "                                                   5.0: 0.0,\n",
      "                                                   6.0: 0.0,\n",
      "                                                   7.0: 0.0,\n",
      "                                                   8.0: 0.0,\n",
      "                                                   9.0: 0.0,\n",
      "                                                   10.0: 0.0}},\n",
      "                                  'GB': 0.0,\n",
      "                                  'GBA': 0.0,\n",
      "                                  'GC': 0.0,\n",
      "                                  'N64': 0.0,\n",
      "                                  'PC': {'Genre': {0.0: 0.0,\n",
      "                                                   1.0: 0.0,\n",
      "                                                   3.0: 0.0,\n",
      "                                                   4.0: 0.0,\n",
      "                                                   6.0: 0.0,\n",
      "                                                   7.0: 0.0,\n",
      "                                                   8.0: 0.0,\n",
      "                                                   9.0: 0.0,\n",
      "                                                   10.0: 0.0,\n",
      "                                                   11.0: 0.0}},\n",
      "                                  'PS': {'Genre': {0.0: 0.0,\n",
      "                                                   1.0: 0.0,\n",
      "                                                   2.0: 0.0,\n",
      "                                                   3.0: 0.0,\n",
      "                                                   4.0: 0.0,\n",
      "                                                   6.0: 0.0,\n",
      "                                                   7.0: 0.0,\n",
      "                                                   8.0: 0.0,\n",
      "                                                   9.0: 0.0,\n",
      "                                                   10.0: 0.0,\n",
      "                                                   11.0: 0.0}},\n",
      "                                  'PS2': {'Genre': {0.0: 0.0,\n",
      "                                                    1.0: 0.0,\n",
      "                                                    2.0: 0.0,\n",
      "                                                    3.0: 0.0,\n",
      "                                                    4.0: 0.0,\n",
      "                                                    5.0: 0.0,\n",
      "                                                    6.0: 0.0,\n",
      "                                                    7.0: 0.0,\n",
      "                                                    8.0: 0.0,\n",
      "                                                    9.0: 0.0,\n",
      "                                                    10.0: 0.0,\n",
      "                                                    11.0: 0.0}},\n",
      "                                  'PS3': {'Genre': {0.0: 0.0,\n",
      "                                                    1.0: 0.0,\n",
      "                                                    2.0: 0.0,\n",
      "                                                    3.0: 0.0,\n",
      "                                                    4.0: 0.0,\n",
      "                                                    6.0: 0.0,\n",
      "                                                    7.0: 0.0,\n",
      "                                                    8.0: 0.0,\n",
      "                                                    9.0: 0.0,\n",
      "                                                    10.0: 0.0,\n",
      "                                                    11.0: 0.0}},\n",
      "                                  'PS4': {'Genre': {0.0: 0.0,\n",
      "                                                    4.0: 0.0,\n",
      "                                                    6.0: 0.0,\n",
      "                                                    7.0: 0.0,\n",
      "                                                    8.0: 0.0,\n",
      "                                                    10.0: 0.0}},\n",
      "                                  'PSP': 0.0,\n",
      "                                  'PSV': 0.0,\n",
      "                                  'SAT': 0.0,\n",
      "                                  'Wii': {'Genre': {0.0: 0.0,\n",
      "                                                    1.0: 0.0,\n",
      "                                                    2.0: 0.0,\n",
      "                                                    3.0: 0.0,\n",
      "                                                    5.0: 0.0,\n",
      "                                                    6.0: 0.0,\n",
      "                                                    8.0: 0.0,\n",
      "                                                    9.0: 0.0,\n",
      "                                                    10.0: 0.0}},\n",
      "                                  'WiiU': 0.0,\n",
      "                                  'X360': {'Genre': {0.0: 0.0,\n",
      "                                                     1.0: 0.0,\n",
      "                                                     2.0: 0.0,\n",
      "                                                     3.0: 0.0,\n",
      "                                                     4.0: 0.0,\n",
      "                                                     6.0: 0.0,\n",
      "                                                     7.0: 0.0,\n",
      "                                                     8.0: 0.0,\n",
      "                                                     9.0: 0.0,\n",
      "                                                     10.0: 0.0,\n",
      "                                                     11.0: 0.0}},\n",
      "                                  'XB': 0.0,\n",
      "                                  'XOne': {'Genre': {0.0: 0.0,\n",
      "                                                     4.0: 0.0,\n",
      "                                                     6.0: 0.0,\n",
      "                                                     7.0: 0.0,\n",
      "                                                     8.0: 0.0,\n",
      "                                                     10.0: 0.0}}}},\n",
      "               140: 0.0,\n",
      "               141: 0.0,\n",
      "               142: 0.0,\n",
      "               143: 0.0,\n",
      "               144: 0.0,\n",
      "               145: {'Platform': {'GB': 0.0,\n",
      "                                  'GBA': 0.0,\n",
      "                                  'N64': 0.0,\n",
      "                                  'NES': {'Genre': {7.0: 1.0}},\n",
      "                                  'PS': {'Genre': {3.0: 0.0, 7.0: 0.0}},\n",
      "                                  'PS2': 0.0,\n",
      "                                  'SNES': {'Genre': {3.0: 0.0,\n",
      "                                                     7.0: 0.0,\n",
      "                                                     9.0: 0.0}}}},\n",
      "               146: 0.0,\n",
      "               147: 0.0,\n",
      "               148: 0.0,\n",
      "               149: 0.0,\n",
      "               150: 0.0,\n",
      "               151: 0.0,\n",
      "               152: 0.0,\n",
      "               153: 0.0,\n",
      "               154: 0.0,\n",
      "               155: 0.0,\n",
      "               156: 0.0,\n",
      "               157: 0.0,\n",
      "               158: 0.0,\n",
      "               159: 0.0,\n",
      "               160: 0.0,\n",
      "               161: 0.0,\n",
      "               162: 0.0,\n",
      "               163: 0.0,\n",
      "               164: 0.0,\n",
      "               165: {'Genre': {0.0: 0.0,\n",
      "                               4.0: {'Platform': {'PS': 0.0}},\n",
      "                               8.0: 0.0,\n",
      "                               10.0: 0.0}},\n",
      "               166: 0.0,\n",
      "               167: 0.0,\n",
      "               168: 0.0,\n",
      "               169: 0.0,\n",
      "               170: 0.0,\n",
      "               171: 0.0,\n",
      "               172: 0.0,\n",
      "               173: 0.0,\n",
      "               174: 0.0,\n",
      "               175: 0.0,\n",
      "               176: 0.0,\n",
      "               177: 0.0,\n",
      "               178: {'Genre': {0.0: {'Platform': {'N64': 0.0, 'PS': 0.0}},\n",
      "                               2.0: 0.0,\n",
      "                               3.0: 0.0,\n",
      "                               4.0: 0.0,\n",
      "                               6.0: 0.0,\n",
      "                               8.0: 0.0,\n",
      "                               9.0: 0.0,\n",
      "                               10.0: 0.0}},\n",
      "               179: 0.0,\n",
      "               180: 0.0,\n",
      "               181: 0.0,\n",
      "               182: 0.0,\n",
      "               183: 0.0,\n",
      "               184: 0.0,\n",
      "               185: 0.0,\n",
      "               186: 0.0,\n",
      "               187: 0.0,\n",
      "               188: 0.0,\n",
      "               189: 0.0,\n",
      "               190: 0.0,\n",
      "               191: 0.0,\n",
      "               192: 0.0,\n",
      "               193: 0.0,\n",
      "               194: 0.0,\n",
      "               195: 0.0,\n",
      "               196: 0.0,\n",
      "               197: 0.0,\n",
      "               198: 0.0,\n",
      "               199: 0.0,\n",
      "               200: 0.0,\n",
      "               201: 0.0,\n",
      "               202: 0.0,\n",
      "               203: 0.0,\n",
      "               204: 0.0,\n",
      "               205: 0.0,\n",
      "               206: 0.0,\n",
      "               207: 0.0,\n",
      "               208: 0.0,\n",
      "               209: 0.0,\n",
      "               210: 0.0,\n",
      "               211: 0.0,\n",
      "               212: 0.0,\n",
      "               213: 0.0,\n",
      "               214: 0.0,\n",
      "               215: 0.0,\n",
      "               216: 0.0,\n",
      "               217: {'Genre': {0.0: {'Platform': {'PS': 0.0}},\n",
      "                               3.0: 0.0,\n",
      "                               4.0: 0.0,\n",
      "                               5.0: 0.0,\n",
      "                               6.0: 0.0,\n",
      "                               8.0: 0.0}},\n",
      "               218: 0.0,\n",
      "               219: 0.0,\n",
      "               220: 0.0,\n",
      "               221: 0.0,\n",
      "               222: 0.0,\n",
      "               223: 0.0,\n",
      "               224: 0.0,\n",
      "               225: 0.0,\n",
      "               226: 0.0,\n",
      "               227: 0.0,\n",
      "               228: 0.0,\n",
      "               229: 0.0,\n",
      "               230: 0.0,\n",
      "               231: 0.0,\n",
      "               232: 0.0,\n",
      "               233: 0.0,\n",
      "               234: 0.0,\n",
      "               235: 0.0,\n",
      "               236: 0.0,\n",
      "               237: 0.0,\n",
      "               238: 0.0,\n",
      "               239: 0.0,\n",
      "               240: 0.0,\n",
      "               241: 0.0,\n",
      "               242: 0.0,\n",
      "               243: 0.0,\n",
      "               244: 0.0,\n",
      "               245: 0.0,\n",
      "               246: 0.0,\n",
      "               247: 0.0,\n",
      "               248: 0.0,\n",
      "               249: 0.0,\n",
      "               250: 0.0,\n",
      "               251: 0.0,\n",
      "               252: 0.0,\n",
      "               253: 0.0,\n",
      "               254: 0.0,\n",
      "               255: 0.0,\n",
      "               256: 0.0,\n",
      "               257: 0.0,\n",
      "               258: 0.0,\n",
      "               259: 0.0,\n",
      "               260: 0.0,\n",
      "               261: 0.0,\n",
      "               262: 0.0,\n",
      "               263: 0.0,\n",
      "               264: 0.0,\n",
      "               265: 0.0,\n",
      "               266: 0.0,\n",
      "               267: 0.0,\n",
      "               268: 0.0,\n",
      "               269: 0.0,\n",
      "               270: 0.0,\n",
      "               271: 0.0,\n",
      "               272: 0.0,\n",
      "               273: 0.0,\n",
      "               274: 0.0,\n",
      "               275: 0.0,\n",
      "               276: 0.0,\n",
      "               277: {'Platform': {'3DO': 0.0,\n",
      "                                  '3DS': 0.0,\n",
      "                                  'DC': 0.0,\n",
      "                                  'DS': 0.0,\n",
      "                                  'GB': 0.0,\n",
      "                                  'GBA': 0.0,\n",
      "                                  'GC': 0.0,\n",
      "                                  'GEN': 0.0,\n",
      "                                  'N64': 0.0,\n",
      "                                  'NES': 0.0,\n",
      "                                  'PC': 0.0,\n",
      "                                  'PS': {'Genre': {0.0: 0.0,\n",
      "                                                   1.0: 0.0,\n",
      "                                                   2.0: 0.0,\n",
      "                                                   3.0: 0.0,\n",
      "                                                   4.0: 0.0,\n",
      "                                                   5.0: 0.0,\n",
      "                                                   6.0: 0.0,\n",
      "                                                   7.0: 0.0,\n",
      "                                                   8.0: 0.0,\n",
      "                                                   9.0: 0.0,\n",
      "                                                   10.0: 0.0,\n",
      "                                                   11.0: 0.0}},\n",
      "                                  'PS2': {'Genre': {0.0: 0.0,\n",
      "                                                    1.0: 0.0,\n",
      "                                                    2.0: 0.0,\n",
      "                                                    3.0: 0.0,\n",
      "                                                    4.0: 0.0,\n",
      "                                                    6.0: 0.0,\n",
      "                                                    7.0: 0.0,\n",
      "                                                    8.0: 0.0,\n",
      "                                                    9.0: 0.0,\n",
      "                                                    10.0: 0.0,\n",
      "                                                    11.0: 0.0}},\n",
      "                                  'PS3': {'Genre': {0.0: 0.0,\n",
      "                                                    1.0: 0.0,\n",
      "                                                    2.0: 0.0,\n",
      "                                                    3.0: 0.0,\n",
      "                                                    6.0: 0.0,\n",
      "                                                    8.0: 0.0,\n",
      "                                                    9.0: 0.0,\n",
      "                                                    10.0: 0.0}},\n",
      "                                  'PS4': {'Genre': {0.0: 0.0, 10.0: 0.0}},\n",
      "                                  'PSP': 0.0,\n",
      "                                  'PSV': 0.0,\n",
      "                                  'SAT': 0.0,\n",
      "                                  'SNES': 0.0,\n",
      "                                  'Wii': 0.0,\n",
      "                                  'X360': 0.0,\n",
      "                                  'XB': 0.0,\n",
      "                                  'XOne': 0.0}},\n",
      "               278: 0.0,\n",
      "               279: 0.0,\n",
      "               280: 0.0,\n",
      "               281: 0.0,\n",
      "               282: 0.0,\n",
      "               283: 0.0,\n",
      "               284: 0.0,\n",
      "               285: 0.0,\n",
      "               286: 0.0,\n",
      "               287: 0.0,\n",
      "               288: 0.0,\n",
      "               289: 0.0,\n",
      "               290: {'Platform': {'3DS': 0.0,\n",
      "                                  'DS': {'Genre': {0.0: 0.0,\n",
      "                                                   8.0: 0.0,\n",
      "                                                   11.0: 0.0}},\n",
      "                                  'GBA': 0.0,\n",
      "                                  'GC': 0.0,\n",
      "                                  'N64': 0.0,\n",
      "                                  'PC': 0.0,\n",
      "                                  'PS': 0.0,\n",
      "                                  'PS2': {'Genre': {0.0: 0.0,\n",
      "                                                    1.0: 0.0,\n",
      "                                                    6.0: 0.0,\n",
      "                                                    8.0: 0.0,\n",
      "                                                    9.0: 0.0,\n",
      "                                                    11.0: 0.0}},\n",
      "                                  'PS3': 0.0,\n",
      "                                  'PSP': 0.0,\n",
      "                                  'Wii': {'Genre': {0.0: 0.0, 11.0: 0.0}},\n",
      "                                  'X360': 0.0,\n",
      "                                  'XB': 0.0}},\n",
      "               291: 0.0,\n",
      "               292: 0.0,\n",
      "               293: 0.0,\n",
      "               294: {'Platform': {'DS': 0.0,\n",
      "                                  'PS2': 0.0,\n",
      "                                  'PS3': 0.0,\n",
      "                                  'PSP': 0.0,\n",
      "                                  'Wii': 0.0,\n",
      "                                  'X360': {'Genre': {3.0: 0.0}}}},\n",
      "               295: 0.0,\n",
      "               296: 0.0,\n",
      "               297: 0.0,\n",
      "               298: 0.0,\n",
      "               299: 0.0,\n",
      "               300: 0.0,\n",
      "               301: 0.0,\n",
      "               302: 0.0,\n",
      "               303: 0.0,\n",
      "               304: 0.0,\n",
      "               305: 0.0,\n",
      "               306: 0.0,\n",
      "               307: 0.0,\n",
      "               308: 0.0,\n",
      "               309: 0.0,\n",
      "               310: 0.0,\n",
      "               311: 0.0,\n",
      "               312: 0.0,\n",
      "               313: 0.0,\n",
      "               314: 0.0,\n",
      "               315: 0.0,\n",
      "               316: 0.0,\n",
      "               317: 0.0,\n",
      "               318: 0.0,\n",
      "               319: 0.0,\n",
      "               320: 0.0,\n",
      "               321: 0.0,\n",
      "               322: 0.0,\n",
      "               323: 0.0,\n",
      "               324: 0.0,\n",
      "               325: {'Genre': {0.0: 0.0,\n",
      "                               1.0: 0.0,\n",
      "                               2.0: 0.0,\n",
      "                               3.0: {'Platform': {'WiiU': 0.0,\n",
      "                                                  'X360': 0.0,\n",
      "                                                  'XB': 0.0,\n",
      "                                                  'XOne': 0.0}},\n",
      "                               4.0: 0.0,\n",
      "                               5.0: 0.0,\n",
      "                               6.0: {'Platform': {'X360': 0.0,\n",
      "                                                  'XB': 0.0,\n",
      "                                                  'XOne': 0.0}},\n",
      "                               7.0: {'Platform': {'PC': 0.0,\n",
      "                                                  'X360': 0.0,\n",
      "                                                  'XB': 0.0}},\n",
      "                               8.0: {'Platform': {'PC': 0.0,\n",
      "                                                  'X360': 0.0,\n",
      "                                                  'XB': 0.0,\n",
      "                                                  'XOne': 0.0}},\n",
      "                               9.0: {'Platform': {'PC': 0.0,\n",
      "                                                  'X360': 0.0,\n",
      "                                                  'XB': 0.0,\n",
      "                                                  'XOne': 0.0}},\n",
      "                               10.0: {'Platform': {'X360': 0.0,\n",
      "                                                   'XB': 0.0,\n",
      "                                                   'XOne': 0.0}},\n",
      "                               11.0: 0.0}},\n",
      "               326: 0.0,\n",
      "               327: 0.0,\n",
      "               328: 0.0,\n",
      "               329: 0.0,\n",
      "               330: 0.0,\n",
      "               331: 0.0,\n",
      "               332: 0.0,\n",
      "               333: 0.0,\n",
      "               334: 0.0,\n",
      "               335: 0.0,\n",
      "               336: 0.0,\n",
      "               337: 0.0,\n",
      "               338: 0.0,\n",
      "               339: 0.0,\n",
      "               340: 0.0,\n",
      "               341: 0.0,\n",
      "               342: 0.0,\n",
      "               343: 0.0,\n",
      "               344: 0.0,\n",
      "               345: 0.0,\n",
      "               346: 0.0,\n",
      "               347: 0.0,\n",
      "               348: 0.0,\n",
      "               349: {'Platform': {'3DS': 0.0,\n",
      "                                  'DC': 0.0,\n",
      "                                  'DS': 0.0,\n",
      "                                  'GB': 0.0,\n",
      "                                  'GBA': {'Genre': {0.0: 0.0,\n",
      "                                                    2.0: 0.0,\n",
      "                                                    3.0: 0.0,\n",
      "                                                    4.0: 0.0,\n",
      "                                                    5.0: 0.0,\n",
      "                                                    6.0: 0.0,\n",
      "                                                    7.0: 0.0,\n",
      "                                                    8.0: 0.0}},\n",
      "                                  'GC': 0.0,\n",
      "                                  'N64': 0.0,\n",
      "                                  'NES': {'Genre': {2.0: 0.0,\n",
      "                                                    4.0: 0.0,\n",
      "                                                    5.0: 0.0,\n",
      "                                                    7.0: 0.0,\n",
      "                                                    8.0: 0.0,\n",
      "                                                    10.0: 0.0}},\n",
      "                                  'PC': 0.0,\n",
      "                                  'PS': 0.0,\n",
      "                                  'PS2': {'Genre': {0.0: 0.0,\n",
      "                                                    1.0: 0.0,\n",
      "                                                    2.0: 0.0,\n",
      "                                                    3.0: 0.0,\n",
      "                                                    4.0: 0.0,\n",
      "                                                    5.0: 0.0,\n",
      "                                                    6.0: 0.0,\n",
      "                                                    7.0: 0.0,\n",
      "                                                    8.0: 0.0,\n",
      "                                                    9.0: 0.0,\n",
      "                                                    10.0: 0.0,\n",
      "                                                    11.0: 0.0}},\n",
      "                                  'PS3': 0.0,\n",
      "                                  'PS4': {'Genre': {0.0: 0.0,\n",
      "                                                    2.0: 0.0,\n",
      "                                                    3.0: 0.0,\n",
      "                                                    6.0: 0.0,\n",
      "                                                    7.0: 0.0,\n",
      "                                                    9.0: 0.0,\n",
      "                                                    11.0: 0.0}},\n",
      "                                  'PSP': 0.0,\n",
      "                                  'PSV': 0.0,\n",
      "                                  'SAT': 0.0,\n",
      "                                  'SNES': 0.0,\n",
      "                                  'WS': 0.0,\n",
      "                                  'Wii': 0.0,\n",
      "                                  'WiiU': 0.0,\n",
      "                                  'X360': 0.0,\n",
      "                                  'XB': 0.0,\n",
      "                                  'XOne': 0.0}},\n",
      "               350: 0.0,\n",
      "               351: 0.0,\n",
      "               352: 0.0,\n",
      "               353: 0.0,\n",
      "               354: 0.0,\n",
      "               355: 0.0,\n",
      "               356: 0.0,\n",
      "               357: 0.0,\n",
      "               358: 0.0,\n",
      "               359: 0.0,\n",
      "               360: 0.0,\n",
      "               361: {'Genre': {0.0: {'Platform': {'3DS': 0.0,\n",
      "                                                  'DS': 0.0,\n",
      "                                                  'GB': 0.0,\n",
      "                                                  'GBA': 0.0,\n",
      "                                                  'GC': 0.0,\n",
      "                                                  'N64': 0.0,\n",
      "                                                  'NES': 0.0,\n",
      "                                                  'SNES': 0.0,\n",
      "                                                  'Wii': 0.0,\n",
      "                                                  'WiiU': 0.0}},\n",
      "                               1.0: {'Platform': {'3DS': 0.0,\n",
      "                                                  'DS': 0.0,\n",
      "                                                  'GB': 0.0,\n",
      "                                                  'GBA': 0.0,\n",
      "                                                  'GC': 0.0,\n",
      "                                                  'NES': 1.0,\n",
      "                                                  'Wii': 0.0}},\n",
      "                               2.0: {'Platform': {'3DS': 0.0,\n",
      "                                                  'DS': 0.0,\n",
      "                                                  'GC': 0.0,\n",
      "                                                  'N64': 0.0,\n",
      "                                                  'NES': 0.0,\n",
      "                                                  'SNES': 0.0,\n",
      "                                                  'Wii': 0.0,\n",
      "                                                  'WiiU': 1.0}},\n",
      "                               3.0: {'Platform': {'3DS': 0.0,\n",
      "                                                  'DS': 0.0,\n",
      "                                                  'GB': 0.0,\n",
      "                                                  'GBA': 0.0,\n",
      "                                                  'GC': 0.0,\n",
      "                                                  'N64': 0.0,\n",
      "                                                  'NES': 0.0,\n",
      "                                                  'SNES': 0.0,\n",
      "                                                  'Wii': 0.0,\n",
      "                                                  'WiiU': 0.0}},\n",
      "                               4.0: {'Platform': {'3DS': 0.0,\n",
      "                                                  'DS': 0.0,\n",
      "                                                  'GB': 0.0,\n",
      "                                                  'GBA': 0.0,\n",
      "                                                  'GC': 0.0,\n",
      "                                                  'N64': 0.0,\n",
      "                                                  'NES': 0.0,\n",
      "                                                  'SNES': 0.0,\n",
      "                                                  'Wii': 0.0,\n",
      "                                                  'WiiU': 0.0}},\n",
      "                               5.0: {'Platform': {'3DS': 0.0,\n",
      "                                                  'DS': 0.0,\n",
      "                                                  'GB': 0.0,\n",
      "                                                  'GBA': 0.0,\n",
      "                                                  'GC': 0.0,\n",
      "                                                  'N64': 0.0,\n",
      "                                                  'NES': 0.0,\n",
      "                                                  'SNES': 0.0,\n",
      "                                                  'Wii': 0.0,\n",
      "                                                  'WiiU': 0.0}},\n",
      "                               6.0: {'Platform': {'3DS': 1.0,\n",
      "                                                  'DS': 0.0,\n",
      "                                                  'GB': 0.0,\n",
      "                                                  'GBA': 0.0,\n",
      "                                                  'GC': 0.0,\n",
      "                                                  'N64': 0.0,\n",
      "                                                  'NES': 0.0,\n",
      "                                                  'SNES': 0.0,\n",
      "                                                  'Wii': 0.0,\n",
      "                                                  'WiiU': 1.0}},\n",
      "                               7.0: {'Platform': {'3DS': 0.0,\n",
      "                                                  'DS': 0.0,\n",
      "                                                  'GB': 0.0,\n",
      "                                                  'GBA': 0.0,\n",
      "                                                  'GC': 0.0,\n",
      "                                                  'N64': 0.0,\n",
      "                                                  'SNES': 0.0,\n",
      "                                                  'Wii': 0.0,\n",
      "                                                  'WiiU': 0.0}},\n",
      "                               8.0: {'Platform': {'3DS': 0.0,\n",
      "                                                  'DS': 0.0,\n",
      "                                                  'GB': 0.0,\n",
      "                                                  'GBA': 0.0,\n",
      "                                                  'GC': 0.0,\n",
      "                                                  'N64': 0.0,\n",
      "                                                  'NES': 0.0,\n",
      "                                                  'SNES': 0.0,\n",
      "                                                  'Wii': 0.0,\n",
      "                                                  'WiiU': 0.0}},\n",
      "                               9.0: {'Platform': {'3DS': 0.0,\n",
      "                                                  'DS': 0.0,\n",
      "                                                  'GC': 0.0,\n",
      "                                                  'N64': 0.0,\n",
      "                                                  'SNES': 0.0,\n",
      "                                                  'Wii': 0.0}},\n",
      "                               10.0: {'Platform': {'3DS': 0.0,\n",
      "                                                   'DS': 0.0,\n",
      "                                                   'GB': 0.0,\n",
      "                                                   'GBA': 0.0,\n",
      "                                                   'GC': 0.0,\n",
      "                                                   'N64': 0.0,\n",
      "                                                   'NES': 0.0,\n",
      "                                                   'SNES': 0.0,\n",
      "                                                   'Wii': 0.0,\n",
      "                                                   'WiiU': 0.0}},\n",
      "                               11.0: {'Platform': {'3DS': 0.0,\n",
      "                                                   'DS': 0.0,\n",
      "                                                   'GB': 0.0,\n",
      "                                                   'GBA': 0.0,\n",
      "                                                   'GC': 0.0,\n",
      "                                                   'N64': 0.0,\n",
      "                                                   'SNES': 0.0,\n",
      "                                                   'Wii': 0.0,\n",
      "                                                   'WiiU': 0.0}}}},\n",
      "               362: 0.0,\n",
      "               363: 0.0,\n",
      "               364: 0.0,\n",
      "               365: 0.0,\n",
      "               366: 0.0,\n",
      "               367: 0.0,\n",
      "               368: 0.0,\n",
      "               369: 0.0,\n",
      "               370: 0.0,\n",
      "               371: 0.0,\n",
      "               372: 0.0,\n",
      "               373: 0.0,\n",
      "               374: 0.0,\n",
      "               375: 0.0,\n",
      "               376: 0.0,\n",
      "               377: 0.0,\n",
      "               378: 0.0,\n",
      "               379: 0.0,\n",
      "               380: 0.0,\n",
      "               381: 0.0,\n",
      "               382: 0.0,\n",
      "               383: 0.0,\n",
      "               384: 0.0,\n",
      "               385: 0.0,\n",
      "               386: 0.0,\n",
      "               387: 1.0,\n",
      "               388: 0.0,\n",
      "               389: 0.0,\n",
      "               390: 0.0,\n",
      "               391: 0.0,\n",
      "               392: 0.0,\n",
      "               393: 0.0,\n",
      "               394: 0.0,\n",
      "               395: 0.0,\n",
      "               396: 0.0,\n",
      "               397: 0.0,\n",
      "               398: 0.0,\n",
      "               399: 0.0,\n",
      "               400: 0.0,\n",
      "               401: 0.0,\n",
      "               402: 0.0,\n",
      "               403: 0.0,\n",
      "               404: 0.0,\n",
      "               405: 0.0,\n",
      "               406: 0.0,\n",
      "               407: 0.0,\n",
      "               408: 0.0,\n",
      "               409: 0.0,\n",
      "               410: 0.0,\n",
      "               411: 0.0,\n",
      "               412: 0.0,\n",
      "               413: 0.0,\n",
      "               414: 0.0,\n",
      "               415: 0.0,\n",
      "               416: 0.0,\n",
      "               417: 0.0,\n",
      "               418: 0.0,\n",
      "               419: 0.0,\n",
      "               420: 0.0,\n",
      "               421: 0.0,\n",
      "               422: 0.0,\n",
      "               423: 0.0,\n",
      "               424: 0.0,\n",
      "               425: 0.0,\n",
      "               426: 0.0,\n",
      "               427: 0.0,\n",
      "               428: {'Platform': {'PS2': {'Genre': {3.0: 0.0}}}},\n",
      "               429: 0.0,\n",
      "               430: 0.0,\n",
      "               431: 0.0,\n",
      "               432: 0.0,\n",
      "               433: 0.0,\n",
      "               434: 0.0,\n",
      "               435: 0.0,\n",
      "               436: 0.0,\n",
      "               437: 0.0,\n",
      "               438: 0.0,\n",
      "               439: 0.0,\n",
      "               440: 0.0,\n",
      "               441: 0.0,\n",
      "               442: 0.0,\n",
      "               443: 0.0,\n",
      "               444: 0.0,\n",
      "               445: 0.0,\n",
      "               446: 0.0,\n",
      "               447: {'Platform': {'2600': 0.0,\n",
      "                                  '3DS': 0.0,\n",
      "                                  'DC': 0.0,\n",
      "                                  'DS': {'Genre': {0.0: 0.0,\n",
      "                                                   1.0: 0.0,\n",
      "                                                   2.0: 0.0,\n",
      "                                                   3.0: 0.0,\n",
      "                                                   4.0: 0.0,\n",
      "                                                   5.0: 0.0,\n",
      "                                                   6.0: 0.0,\n",
      "                                                   7.0: 0.0,\n",
      "                                                   9.0: 0.0,\n",
      "                                                   10.0: 0.0,\n",
      "                                                   11.0: 0.0}},\n",
      "                                  'GBA': 0.0,\n",
      "                                  'GC': 0.0,\n",
      "                                  'GEN': {'Genre': {0.0: 0.0,\n",
      "                                                    1.0: 0.0,\n",
      "                                                    2.0: 0.0,\n",
      "                                                    3.0: 0.0,\n",
      "                                                    4.0: 0.0,\n",
      "                                                    6.0: 0.0,\n",
      "                                                    7.0: 0.0,\n",
      "                                                    8.0: 0.0,\n",
      "                                                    10.0: 0.0,\n",
      "                                                    11.0: 0.0}},\n",
      "                                  'GG': 0.0,\n",
      "                                  'PC': 0.0,\n",
      "                                  'PS2': 0.0,\n",
      "                                  'PS3': 0.0,\n",
      "                                  'PS4': 0.0,\n",
      "                                  'PSP': 0.0,\n",
      "                                  'PSV': 0.0,\n",
      "                                  'SAT': 0.0,\n",
      "                                  'SCD': 0.0,\n",
      "                                  'Wii': {'Genre': {0.0: 0.0,\n",
      "                                                    1.0: 0.0,\n",
      "                                                    2.0: 0.0,\n",
      "                                                    3.0: 0.0,\n",
      "                                                    4.0: 0.0,\n",
      "                                                    5.0: 0.0,\n",
      "                                                    6.0: 0.0,\n",
      "                                                    7.0: 0.0,\n",
      "                                                    8.0: 0.0,\n",
      "                                                    9.0: 0.0,\n",
      "                                                    10.0: 0.0}},\n",
      "                                  'WiiU': 0.0,\n",
      "                                  'X360': 0.0,\n",
      "                                  'XB': 0.0,\n",
      "                                  'XOne': 0.0}},\n",
      "               448: 0.0,\n",
      "               449: 0.0,\n",
      "               450: 0.0,\n",
      "               451: 0.0,\n",
      "               452: 0.0,\n",
      "               453: 0.0,\n",
      "               454: 0.0,\n",
      "               455: 0.0,\n",
      "               456: 0.0,\n",
      "               457: {'Genre': {0.0: {'Platform': {'PS': 0.0,\n",
      "                                                  'PS2': 0.0,\n",
      "                                                  'PS3': 0.0,\n",
      "                                                  'PS4': 0.0,\n",
      "                                                  'PSP': 0.0,\n",
      "                                                  'PSV': 0.0}},\n",
      "                               1.0: {'Platform': {'PS': 0.0,\n",
      "                                                  'PS2': 0.0,\n",
      "                                                  'PS3': 0.0,\n",
      "                                                  'PS4': 0.0,\n",
      "                                                  'PSP': 0.0,\n",
      "                                                  'PSV': 0.0}},\n",
      "                               2.0: {'Platform': {'PS': 0.0,\n",
      "                                                  'PS2': 0.0,\n",
      "                                                  'PS3': 0.0,\n",
      "                                                  'PSP': 0.0,\n",
      "                                                  'PSV': 0.0}},\n",
      "                               3.0: {'Platform': {'PS': 0.0,\n",
      "                                                  'PS2': 0.0,\n",
      "                                                  'PS3': 0.0,\n",
      "                                                  'PS4': 0.0,\n",
      "                                                  'PSP': 0.0,\n",
      "                                                  'PSV': 0.0}},\n",
      "                               4.0: {'Platform': {'PS': 0.0,\n",
      "                                                  'PS2': 0.0,\n",
      "                                                  'PS3': 0.0,\n",
      "                                                  'PS4': 0.0,\n",
      "                                                  'PSP': 0.0,\n",
      "                                                  'PSV': 0.0}},\n",
      "                               5.0: 0.0,\n",
      "                               6.0: {'Platform': {'PS': 0.0,\n",
      "                                                  'PS2': 0.0,\n",
      "                                                  'PS3': 0.0,\n",
      "                                                  'PS4': 0.0,\n",
      "                                                  'PSP': 0.0,\n",
      "                                                  'PSV': 0.0}},\n",
      "                               7.0: {'Platform': {'PS': 0.0,\n",
      "                                                  'PS2': 0.0,\n",
      "                                                  'PS3': 0.0,\n",
      "                                                  'PSP': 0.0,\n",
      "                                                  'PSV': 0.0}},\n",
      "                               8.0: {'Platform': {'PS': 0.0,\n",
      "                                                  'PS2': 0.0,\n",
      "                                                  'PS3': 0.0,\n",
      "                                                  'PS4': 0.0,\n",
      "                                                  'PSP': 0.0,\n",
      "                                                  'PSV': 0.0}},\n",
      "                               9.0: 0.0,\n",
      "                               10.0: {'Platform': {'PS': 0.0,\n",
      "                                                   'PS2': 0.0,\n",
      "                                                   'PS3': 0.0,\n",
      "                                                   'PS4': 0.0,\n",
      "                                                   'PSP': 0.0,\n",
      "                                                   'PSV': 0.0}},\n",
      "                               11.0: 0.0}},\n",
      "               458: 0.0,\n",
      "               459: {'Genre': {0.0: 1.0,\n",
      "                               1.0: 0.0,\n",
      "                               3.0: {'Platform': {'PS3': 0.0,\n",
      "                                                  'PS4': 0.0,\n",
      "                                                  'PSV': 0.0}},\n",
      "                               4.0: 0.0,\n",
      "                               8.0: 0.0,\n",
      "                               9.0: {'Platform': {'PS2': 0.0}}}},\n",
      "               460: 0.0,\n",
      "               461: 0.0,\n",
      "               462: 0.0,\n",
      "               463: 0.0,\n",
      "               464: 0.0,\n",
      "               465: 0.0,\n",
      "               466: {'Platform': {'3DS': 0.0,\n",
      "                                  'DS': 0.0,\n",
      "                                  'GBA': 0.0,\n",
      "                                  'PC': 0.0,\n",
      "                                  'PS2': {'Genre': {7.0: 0.0,\n",
      "                                                    8.0: 0.0,\n",
      "                                                    11.0: 0.0}},\n",
      "                                  'PS3': {'Genre': {0.0: 0.0,\n",
      "                                                    7.0: 0.0,\n",
      "                                                    8.0: 0.0}},\n",
      "                                  'PS4': 0.0,\n",
      "                                  'PSP': {'Genre': {2.0: 0.0,\n",
      "                                                    3.0: 0.0,\n",
      "                                                    7.0: 0.0,\n",
      "                                                    8.0: 0.0}},\n",
      "                                  'PSV': 0.0,\n",
      "                                  'Wii': 0.0,\n",
      "                                  'WiiU': 0.0,\n",
      "                                  'X360': 0.0,\n",
      "                                  'XOne': 0.0}},\n",
      "               467: 0.0,\n",
      "               468: {'Genre': {2.0: 0.0,\n",
      "                               6.0: 0.0,\n",
      "                               7.0: {'Platform': {'GB': 0.0,\n",
      "                                                  'GBA': 0.0,\n",
      "                                                  'NES': 0.0,\n",
      "                                                  'PS': 0.0,\n",
      "                                                  'SNES': 0.0,\n",
      "                                                  'WS': 0.0}},\n",
      "                               8.0: 0.0,\n",
      "                               9.0: 0.0,\n",
      "                               10.0: 0.0,\n",
      "                               11.0: 0.0}},\n",
      "               469: 0.0,\n",
      "               470: 0.0,\n",
      "               471: 0.0,\n",
      "               472: 0.0,\n",
      "               473: 0.0,\n",
      "               474: 0.0,\n",
      "               475: 0.0,\n",
      "               476: 0.0,\n",
      "               477: 0.0,\n",
      "               478: 0.0,\n",
      "               479: 0.0,\n",
      "               480: 0.0,\n",
      "               481: 0.0,\n",
      "               482: 0.0,\n",
      "               483: 0.0,\n",
      "               484: 0.0,\n",
      "               485: 0.0,\n",
      "               486: 0.0,\n",
      "               487: 0.0,\n",
      "               488: 0.0,\n",
      "               489: 0.0,\n",
      "               490: {'Platform': {'3DS': 0.0,\n",
      "                                  'DS': 0.0,\n",
      "                                  'GBA': 0.0,\n",
      "                                  'GC': 0.0,\n",
      "                                  'N64': 0.0,\n",
      "                                  'PC': 0.0,\n",
      "                                  'PS': {'Genre': {0.0: 0.0,\n",
      "                                                   1.0: 0.0,\n",
      "                                                   2.0: 0.0,\n",
      "                                                   3.0: 0.0,\n",
      "                                                   5.0: 0.0,\n",
      "                                                   6.0: 0.0,\n",
      "                                                   8.0: 0.0,\n",
      "                                                   10.0: 0.0}},\n",
      "                                  'PS2': {'Genre': {0.0: 0.0,\n",
      "                                                    1.0: 0.0,\n",
      "                                                    2.0: 0.0,\n",
      "                                                    3.0: 0.0,\n",
      "                                                    4.0: 0.0,\n",
      "                                                    5.0: 0.0,\n",
      "                                                    6.0: 0.0,\n",
      "                                                    7.0: 0.0,\n",
      "                                                    8.0: 0.0,\n",
      "                                                    9.0: 0.0,\n",
      "                                                    10.0: 0.0,\n",
      "                                                    11.0: 0.0}},\n",
      "                                  'PS3': 0.0,\n",
      "                                  'PSP': 0.0,\n",
      "                                  'SNES': 0.0,\n",
      "                                  'Wii': 0.0,\n",
      "                                  'WiiU': 0.0,\n",
      "                                  'X360': {'Genre': {0.0: 0.0,\n",
      "                                                     2.0: 0.0,\n",
      "                                                     3.0: 0.0,\n",
      "                                                     4.0: 0.0,\n",
      "                                                     5.0: 0.0,\n",
      "                                                     6.0: 0.0,\n",
      "                                                     8.0: 0.0,\n",
      "                                                     9.0: 0.0,\n",
      "                                                     10.0: 0.0}},\n",
      "                                  'XB': 0.0}},\n",
      "               491: 0.0,\n",
      "               492: 0.0,\n",
      "               493: 0.0,\n",
      "               494: 0.0,\n",
      "               495: 0.0,\n",
      "               496: {'Genre': {0.0: {'Platform': {'DS': 0.0,\n",
      "                                                  'GBA': 0.0,\n",
      "                                                  'PC': 0.0,\n",
      "                                                  'PS': 0.0,\n",
      "                                                  'PS2': 0.0,\n",
      "                                                  'PS3': 0.0,\n",
      "                                                  'PS4': 0.0,\n",
      "                                                  'PSP': 0.0,\n",
      "                                                  'Wii': 0.0,\n",
      "                                                  'X360': 0.0,\n",
      "                                                  'XB': 0.0,\n",
      "                                                  'XOne': 0.0}},\n",
      "                               1.0: {'Platform': {'DS': 0.0,\n",
      "                                                  'N64': 0.0,\n",
      "                                                  'PC': 0.0,\n",
      "                                                  'PS': 0.0,\n",
      "                                                  'PS2': 0.0,\n",
      "                                                  'PS3': 1.0,\n",
      "                                                  'X360': 0.0,\n",
      "                                                  'XB': 0.0}},\n",
      "                               2.0: 0.0,\n",
      "                               3.0: {'Platform': {'3DS': 0.0,\n",
      "                                                  'DS': 0.0,\n",
      "                                                  'GBA': 0.0,\n",
      "                                                  'GC': 0.0,\n",
      "                                                  'N64': 0.0,\n",
      "                                                  'PS2': 0.0,\n",
      "                                                  'PSP': 0.0,\n",
      "                                                  'Wii': 0.0,\n",
      "                                                  'X360': 0.0,\n",
      "                                                  'XB': 0.0}},\n",
      "                               4.0: 0.0,\n",
      "                               5.0: 0.0,\n",
      "                               6.0: {'Platform': {'N64': 0.0,\n",
      "                                                  'PS': 0.0,\n",
      "                                                  'PS2': 0.0,\n",
      "                                                  'PS3': 0.0,\n",
      "                                                  'PSP': 0.0,\n",
      "                                                  'X360': 0.0,\n",
      "                                                  'XB': 0.0}},\n",
      "                               7.0: {'Platform': {'PC': 0.0,\n",
      "                                                  'PS2': 0.0,\n",
      "                                                  'PSP': 0.0,\n",
      "                                                  'X360': 1.0,\n",
      "                                                  'XB': 0.0}},\n",
      "                               8.0: {'Platform': {'GBA': 0.0,\n",
      "                                                  'PC': 0.0,\n",
      "                                                  'PS': 0.0,\n",
      "                                                  'PS2': 0.0,\n",
      "                                                  'PS3': 0.0,\n",
      "                                                  'PS4': 0.0,\n",
      "                                                  'PSV': 0.0,\n",
      "                                                  'X360': 0.0,\n",
      "                                                  'XB': 0.0,\n",
      "                                                  'XOne': 0.0}},\n",
      "                               9.0: 0.0,\n",
      "                               10.0: {'Platform': {'DS': 0.0,\n",
      "                                                   'GC': 0.0,\n",
      "                                                   'N64': 0.0,\n",
      "                                                   'PC': 0.0,\n",
      "                                                   'PS': 0.0,\n",
      "                                                   'PS2': 0.0,\n",
      "                                                   'PS3': 0.0,\n",
      "                                                   'PS4': 0.0,\n",
      "                                                   'PSP': 0.0,\n",
      "                                                   'Wii': 0.0,\n",
      "                                                   'WiiU': 0.0,\n",
      "                                                   'X360': 0.0,\n",
      "                                                   'XB': 0.0,\n",
      "                                                   'XOne': 0.0}},\n",
      "                               11.0: 0.0}},\n",
      "               497: 0.0,\n",
      "               498: 0.0,\n",
      "               499: 0.0,\n",
      "               500: 0.0,\n",
      "               501: 0.0,\n",
      "               502: 0.0,\n",
      "               503: 0.0,\n",
      "               504: 0.0,\n",
      "               505: 0.0,\n",
      "               506: 0.0,\n",
      "               507: 0.0,\n",
      "               508: 0.0,\n",
      "               509: 0.0,\n",
      "               510: 0.0,\n",
      "               511: 0.0,\n",
      "               512: 0.0,\n",
      "               513: 0.0,\n",
      "               514: 0.0,\n",
      "               515: 0.0,\n",
      "               516: 0.0,\n",
      "               517: 0.0,\n",
      "               518: 0.0,\n",
      "               519: 0.0,\n",
      "               520: 0.0,\n",
      "               521: 0.0,\n",
      "               522: 0.0,\n",
      "               523: 0.0,\n",
      "               524: 0.0,\n",
      "               525: 0.0,\n",
      "               526: 0.0,\n",
      "               527: {'Platform': {'3DS': 0.0,\n",
      "                                  'DC': 0.0,\n",
      "                                  'DS': 0.0,\n",
      "                                  'GB': 0.0,\n",
      "                                  'GBA': 0.0,\n",
      "                                  'GC': 0.0,\n",
      "                                  'N64': 0.0,\n",
      "                                  'PC': 0.0,\n",
      "                                  'PS': {'Genre': {0.0: 0.0,\n",
      "                                                   1.0: 0.0,\n",
      "                                                   2.0: 0.0,\n",
      "                                                   3.0: 0.0,\n",
      "                                                   4.0: 0.0,\n",
      "                                                   5.0: 0.0,\n",
      "                                                   6.0: 0.0,\n",
      "                                                   7.0: 0.0,\n",
      "                                                   8.0: 0.0,\n",
      "                                                   9.0: 0.0,\n",
      "                                                   10.0: 0.0}},\n",
      "                                  'PS2': 0.0,\n",
      "                                  'PS3': {'Genre': {0.0: 0.0,\n",
      "                                                    1.0: 0.0,\n",
      "                                                    2.0: 0.0,\n",
      "                                                    3.0: 0.0,\n",
      "                                                    4.0: 0.0,\n",
      "                                                    6.0: 0.0,\n",
      "                                                    7.0: 0.0,\n",
      "                                                    8.0: 0.0,\n",
      "                                                    9.0: 0.0,\n",
      "                                                    10.0: 0.0,\n",
      "                                                    11.0: 0.0}},\n",
      "                                  'PS4': {'Genre': {0.0: 0.0,\n",
      "                                                    1.0: 0.0,\n",
      "                                                    3.0: 0.0,\n",
      "                                                    4.0: 0.0,\n",
      "                                                    6.0: 0.0,\n",
      "                                                    7.0: 0.0,\n",
      "                                                    8.0: 0.0,\n",
      "                                                    10.0: 0.0}},\n",
      "                                  'PSP': 0.0,\n",
      "                                  'PSV': 0.0,\n",
      "                                  'Wii': {'Genre': {0.0: 0.0,\n",
      "                                                    1.0: 0.0,\n",
      "                                                    2.0: 0.0,\n",
      "                                                    3.0: 0.0,\n",
      "                                                    4.0: 0.0,\n",
      "                                                    5.0: 0.0,\n",
      "                                                    6.0: 0.0,\n",
      "                                                    8.0: 0.0,\n",
      "                                                    9.0: 0.0,\n",
      "                                                    10.0: 0.0,\n",
      "                                                    11.0: 0.0}},\n",
      "                                  'WiiU': 0.0,\n",
      "                                  'X360': {'Genre': {0.0: 0.0,\n",
      "                                                     1.0: 0.0,\n",
      "                                                     2.0: 0.0,\n",
      "                                                     3.0: 0.0,\n",
      "                                                     4.0: 0.0,\n",
      "                                                     6.0: 0.0,\n",
      "                                                     7.0: 0.0,\n",
      "                                                     8.0: 0.0,\n",
      "                                                     9.0: 0.0,\n",
      "                                                     10.0: 0.0,\n",
      "                                                     11.0: 0.0}},\n",
      "                                  'XB': {'Genre': {0.0: 0.0,\n",
      "                                                   1.0: 0.0,\n",
      "                                                   3.0: 0.0,\n",
      "                                                   4.0: 0.0,\n",
      "                                                   6.0: 0.0,\n",
      "                                                   7.0: 0.0,\n",
      "                                                   8.0: 0.0,\n",
      "                                                   9.0: 0.0,\n",
      "                                                   10.0: 0.0}},\n",
      "                                  'XOne': {'Genre': {0.0: 0.0,\n",
      "                                                     2.0: 0.0,\n",
      "                                                     3.0: 0.0,\n",
      "                                                     4.0: 0.0,\n",
      "                                                     6.0: 0.0,\n",
      "                                                     8.0: 0.0,\n",
      "                                                     10.0: 0.0}}}},\n",
      "               528: 0.0,\n",
      "               529: 0.0,\n",
      "               530: {'Platform': {'GBA': 0.0,\n",
      "                                  'GC': 0.0,\n",
      "                                  'PS2': {'Genre': {0.0: 0.0,\n",
      "                                                    4.0: 0.0,\n",
      "                                                    8.0: 0.0,\n",
      "                                                    10.0: 0.0}},\n",
      "                                  'XB': 0.0}},\n",
      "               531: 0.0,\n",
      "               532: 0.0,\n",
      "               533: 0.0,\n",
      "               534: 0.0,\n",
      "               535: 0.0,\n",
      "               536: 0.0,\n",
      "               537: 0.0,\n",
      "               538: 0.0,\n",
      "               539: 0.0,\n",
      "               540: 0.0,\n",
      "               541: 0.0,\n",
      "               542: 0.0,\n",
      "               543: {'Genre': {0.0: {'Platform': {'GC': 0.0,\n",
      "                                                  'N64': 0.0,\n",
      "                                                  'PS': 0.0,\n",
      "                                                  'PS2': 0.0}},\n",
      "                               1.0: 0.0,\n",
      "                               2.0: 0.0,\n",
      "                               3.0: 0.0,\n",
      "                               4.0: 0.0,\n",
      "                               5.0: 0.0,\n",
      "                               6.0: 0.0,\n",
      "                               7.0: 0.0,\n",
      "                               8.0: {'Platform': {'N64': 0.0,\n",
      "                                                  'PC': 1.0,\n",
      "                                                  'PS': 0.0,\n",
      "                                                  'PS2': 0.0}},\n",
      "                               9.0: 0.0,\n",
      "                               10.0: 0.0,\n",
      "                               11.0: 0.0}},\n",
      "               544: 0.0,\n",
      "               545: 0.0,\n",
      "               546: {'Genre': {0.0: 0.0,\n",
      "                               1.0: 0.0,\n",
      "                               2.0: 0.0,\n",
      "                               3.0: 0.0,\n",
      "                               4.0: 0.0,\n",
      "                               5.0: 0.0,\n",
      "                               6.0: {'Platform': {'GBA': 0.0,\n",
      "                                                  'GC': 0.0,\n",
      "                                                  'PC': 0.0,\n",
      "                                                  'PS2': 0.0,\n",
      "                                                  'PSP': 0.0,\n",
      "                                                  'XB': 0.0}},\n",
      "                               7.0: 0.0,\n",
      "                               8.0: {'Platform': {'DS': 0.0,\n",
      "                                                  'GBA': 0.0,\n",
      "                                                  'GC': 0.0,\n",
      "                                                  'PC': 0.0,\n",
      "                                                  'PS2': 0.0,\n",
      "                                                  'PS3': 0.0,\n",
      "                                                  'PSP': 0.0,\n",
      "                                                  'Wii': 0.0,\n",
      "                                                  'X360': 0.0,\n",
      "                                                  'XB': 0.0}},\n",
      "                               9.0: 0.0,\n",
      "                               10.0: 0.0,\n",
      "                               11.0: 0.0}},\n",
      "               547: 0.0,\n",
      "               548: 0.0,\n",
      "               549: 0.0,\n",
      "               550: {'Platform': {'3DS': 0.0,\n",
      "                                  'DS': {'Genre': {0.0: 0.0,\n",
      "                                                   1.0: 0.0,\n",
      "                                                   3.0: 0.0,\n",
      "                                                   4.0: 0.0,\n",
      "                                                   5.0: 0.0,\n",
      "                                                   6.0: 0.0,\n",
      "                                                   11.0: 0.0}},\n",
      "                                  'GC': 0.0,\n",
      "                                  'PC': 0.0,\n",
      "                                  'PS2': 0.0,\n",
      "                                  'PS3': {'Genre': {0.0: 0.0,\n",
      "                                                    2.0: 0.0,\n",
      "                                                    3.0: 0.0,\n",
      "                                                    4.0: 0.0,\n",
      "                                                    8.0: 0.0}},\n",
      "                                  'PS4': {'Genre': {0.0: 0.0, 2.0: 0.0}},\n",
      "                                  'PSP': 0.0,\n",
      "                                  'PSV': 0.0,\n",
      "                                  'Wii': 0.0,\n",
      "                                  'WiiU': 0.0,\n",
      "                                  'X360': {'Genre': {0.0: 0.0,\n",
      "                                                     2.0: 0.0,\n",
      "                                                     3.0: 0.0,\n",
      "                                                     4.0: 0.0,\n",
      "                                                     8.0: 0.0}},\n",
      "                                  'XOne': 0.0}},\n",
      "               551: 0.0,\n",
      "               552: 0.0,\n",
      "               553: 0.0,\n",
      "               554: 0.0,\n",
      "               555: 0.0,\n",
      "               556: 0.0,\n",
      "               557: 0.0,\n",
      "               558: 0.0,\n",
      "               559: 0.0,\n",
      "               560: 0.0,\n",
      "               561: 0.0,\n",
      "               562: 0.0,\n",
      "               563: 0.0,\n",
      "               564: 0.0,\n",
      "               565: 0.0,\n",
      "               566: 0.0,\n",
      "               567: 0.0,\n",
      "               568: 0.0,\n",
      "               569: 0.0,\n",
      "               570: 0.0,\n",
      "               571: 0.0,\n",
      "               572: 0.0,\n",
      "               573: 0.0,\n",
      "               574: 0.0,\n",
      "               575: 0.0,\n",
      "               576: 0.0,\n",
      "               577: 0.0,\n",
      "               578: 0.0}}\n"
     ]
    }
   ],
   "source": [
    "tree = ds_pro.ID3(data, data, [\"Platform\",\"Genre\",\"Publisher\"],\"Global_Sales_Hit\")\n",
    "\n",
    "from pprint import pprint\n",
    "pprint(tree)"
   ]
  },
  {
   "cell_type": "code",
   "execution_count": 34,
   "metadata": {},
   "outputs": [],
   "source": [
    "x_train = data_train[[\"Genre\"]]\n",
    "x_test = data_test[[\"Genre\"]]\n",
    "y_train = data_train[[\"Publisher\"]]\n",
    "y_test = data_test[[\"Publisher\"]]"
   ]
  },
  {
   "cell_type": "code",
   "execution_count": 35,
   "metadata": {},
   "outputs": [
    {
     "data": {
      "image/png": "[encoded data removed]",
      "text/plain": [
       "<Figure size 432x288 with 1 Axes>"
      ]
     },
     "metadata": {
      "needs_background": "light"
     },
     "output_type": "display_data"
    }
   ],
   "source": [
    "k_list = range(1,101)\n",
    "accuracies = []\n",
    "\n",
    "# k개 gridsearch\n",
    "for k in k_list:\n",
    "    classifier = KNeighborsClassifier(n_neighbors = k)\n",
    "    classifier.fit(x_train,y_train.values.ravel())\n",
    "    accuracies.append(classifier.score(x_test,y_test))\n",
    "\n",
    "plt.plot(k_list, accuracies)\n",
    "plt.xlabel(\"k\")\n",
    "plt.ylabel(\"Accuracy\")\n",
    "plt.show()"
   ]
  },
  {
   "cell_type": "code",
   "execution_count": 36,
   "metadata": {},
   "outputs": [
    {
     "name": "stderr",
     "output_type": "stream",
     "text": [
      "/Users/unixking/opt/anaconda3/lib/python3.8/site-packages/sklearn/model_selection/_split.py:666: UserWarning:\n",
      "\n",
      "The least populated class in y has only 1 members, which is less than n_splits=5.\n",
      "\n"
     ]
    },
    {
     "data": {
      "text/plain": [
       "GridSearchCV(cv=5, estimator=KNeighborsClassifier(),\n",
       "             param_grid={'n_neighbors': array([  1,   2,   3,   4,   5,   6,   7,   8,   9,  10,  11,  12,  13,\n",
       "        14,  15,  16,  17,  18,  19,  20,  21,  22,  23,  24,  25,  26,\n",
       "        27,  28,  29,  30,  31,  32,  33,  34,  35,  36,  37,  38,  39,\n",
       "        40,  41,  42,  43,  44,  45,  46,  47,  48,  49,  50,  51,  52,\n",
       "        53,  54,  55,  56,  57,  58,  59,  60,  61,  62,  63,  64,  65,\n",
       "        66,  67,  68,  69,  70,  71,  72,  73,  74,  75,  76,  77,  78,\n",
       "        79,  80,  81,  82,  83,  84,  85,  86,  87,  88,  89,  90,  91,\n",
       "        92...\n",
       "       118, 119, 120, 121, 122, 123, 124, 125, 126, 127, 128, 129, 130,\n",
       "       131, 132, 133, 134, 135, 136, 137, 138, 139, 140, 141, 142, 143,\n",
       "       144, 145, 146, 147, 148, 149, 150, 151, 152, 153, 154, 155, 156,\n",
       "       157, 158, 159, 160, 161, 162, 163, 164, 165, 166, 167, 168, 169,\n",
       "       170, 171, 172, 173, 174, 175, 176, 177, 178, 179, 180, 181, 182,\n",
       "       183, 184, 185, 186, 187, 188, 189, 190, 191, 192, 193, 194, 195,\n",
       "       196, 197, 198, 199, 200, 201, 202, 203, 204, 205, 206, 207, 208,\n",
       "       209, 210])})"
      ]
     },
     "execution_count": 36,
     "metadata": {},
     "output_type": "execute_result"
    }
   ],
   "source": [
    "knn2 = KNeighborsClassifier()\n",
    "param = {'n_neighbors': np.arange(1, 211)}\n",
    "knn_gscv = GridSearchCV(knn2, param, cv=5)\n",
    "knn_gscv.fit(x_train, y_train.values.ravel())"
   ]
  },
  {
   "cell_type": "code",
   "execution_count": 37,
   "metadata": {},
   "outputs": [
    {
     "data": {
      "text/plain": [
       "{'n_neighbors': 202}"
      ]
     },
     "execution_count": 37,
     "metadata": {},
     "output_type": "execute_result"
    }
   ],
   "source": [
    "knn_gscv.best_params_\n"
   ]
  },
  {
   "cell_type": "code",
   "execution_count": 38,
   "metadata": {},
   "outputs": [
    {
     "data": {
      "text/plain": [
       "0.12688219913225224"
      ]
     },
     "execution_count": 38,
     "metadata": {},
     "output_type": "execute_result"
    }
   ],
   "source": [
    "knn_gscv.best_score_"
   ]
  },
  {
   "cell_type": "code",
   "execution_count": 39,
   "metadata": {},
   "outputs": [
    {
     "name": "stderr",
     "output_type": "stream",
     "text": [
      "/Users/unixking/opt/anaconda3/lib/python3.8/site-packages/sklearn/model_selection/_split.py:666: UserWarning:\n",
      "\n",
      "The least populated class in y has only 1 members, which is less than n_splits=5.\n",
      "\n"
     ]
    },
    {
     "data": {
      "text/plain": [
       "RandomizedSearchCV(cv=5, estimator=KNeighborsClassifier(),\n",
       "                   param_distributions={'n_neighbors': array([  1,   2,   3,   4,   5,   6,   7,   8,   9,  10,  11,  12,  13,\n",
       "        14,  15,  16,  17,  18,  19,  20,  21,  22,  23,  24,  25,  26,\n",
       "        27,  28,  29,  30,  31,  32,  33,  34,  35,  36,  37,  38,  39,\n",
       "        40,  41,  42,  43,  44,  45,  46,  47,  48,  49,  50,  51,  52,\n",
       "        53,  54,  55,  56,  57,  58,  59,  60,  61,  62,  63,  64,  65,\n",
       "        66,  67,  68,  69,  70,  71,  72,  73,  74,  75,  76,  77,  78,\n",
       "        79,  80,  81,  82,  83,  84,  85,  86,  87...\n",
       "       118, 119, 120, 121, 122, 123, 124, 125, 126, 127, 128, 129, 130,\n",
       "       131, 132, 133, 134, 135, 136, 137, 138, 139, 140, 141, 142, 143,\n",
       "       144, 145, 146, 147, 148, 149, 150, 151, 152, 153, 154, 155, 156,\n",
       "       157, 158, 159, 160, 161, 162, 163, 164, 165, 166, 167, 168, 169,\n",
       "       170, 171, 172, 173, 174, 175, 176, 177, 178, 179, 180, 181, 182,\n",
       "       183, 184, 185, 186, 187, 188, 189, 190, 191, 192, 193, 194, 195,\n",
       "       196, 197, 198, 199, 200, 201, 202, 203, 204, 205, 206, 207, 208,\n",
       "       209, 210])})"
      ]
     },
     "execution_count": 39,
     "metadata": {},
     "output_type": "execute_result"
    }
   ],
   "source": [
    "knn2 = KNeighborsClassifier()\n",
    "param = {'n_neighbors': np.arange(1, 211)}\n",
    "knn_gscv = RandomizedSearchCV(knn2, param, cv=5)\n",
    "knn_gscv.fit(x_train, y_train.values.ravel())"
   ]
  },
  {
   "cell_type": "code",
   "execution_count": 41,
   "metadata": {},
   "outputs": [
    {
     "data": {
      "text/plain": [
       "{'n_neighbors': 197}"
      ]
     },
     "execution_count": 41,
     "metadata": {},
     "output_type": "execute_result"
    }
   ],
   "source": [
    "knn_gscv.best_params_"
   ]
  },
  {
   "cell_type": "code",
   "execution_count": 42,
   "metadata": {},
   "outputs": [
    {
     "data": {
      "text/plain": [
       "0.12636023306004693"
      ]
     },
     "execution_count": 42,
     "metadata": {},
     "output_type": "execute_result"
    }
   ],
   "source": [
    "knn_gscv.best_score_"
   ]
  },
  {
   "cell_type": "code",
   "execution_count": 40,
   "metadata": {},
   "outputs": [
    {
     "name": "stderr",
     "output_type": "stream",
     "text": [
      "/Users/unixking/opt/anaconda3/lib/python3.8/site-packages/sklearn/model_selection/_split.py:666: UserWarning:\n",
      "\n",
      "The least populated class in y has only 1 members, which is less than n_splits=5.\n",
      "\n"
     ]
    },
    {
     "data": {
      "text/plain": [
       "GridSearchCV(cv=5,\n",
       "             estimator=RandomForestClassifier(oob_score=True,\n",
       "                                              random_state=123456),\n",
       "             param_grid={'n_estimators': array([100, 101, 102, 103, 104, 105, 106, 107, 108, 109, 110, 111, 112,\n",
       "       113, 114, 115, 116, 117, 118, 119, 120, 121, 122, 123, 124, 125,\n",
       "       126, 127, 128, 129, 130, 131, 132, 133, 134, 135, 136, 137, 138,\n",
       "       139, 140, 141, 142, 143, 144, 145, 146, 147, 148, 149, 150, 151,\n",
       "       152, 153, 154, 155, 156, 157, 158, 159, 160, 161, 162, 163, 164,\n",
       "       165, 166, 167, 168, 169, 170, 171, 172, 173, 174, 175, 176, 177,\n",
       "       178, 179, 180, 181, 182, 183, 184, 185, 186, 187, 188, 189, 190,\n",
       "       191, 192, 193, 194, 195, 196, 197, 198, 199])})"
      ]
     },
     "execution_count": 40,
     "metadata": {},
     "output_type": "execute_result"
    }
   ],
   "source": [
    "from sklearn.ensemble import RandomForestClassifier\n",
    "\n",
    "param = {'n_estimators': np.arange(100, 200)}\n",
    "rf = RandomForestClassifier(oob_score=True, random_state=123456)\n",
    "random_gscv = GridSearchCV(rf, param, cv=5)\n",
    "random_gscv.fit(x_train, y_train.values.ravel())\n"
   ]
  },
  {
   "cell_type": "code",
   "execution_count": 43,
   "metadata": {},
   "outputs": [
    {
     "data": {
      "text/plain": [
       "{'n_estimators': 100}"
      ]
     },
     "execution_count": 43,
     "metadata": {},
     "output_type": "execute_result"
    }
   ],
   "source": [
    "random_gscv.best_params_"
   ]
  },
  {
   "cell_type": "code",
   "execution_count": 44,
   "metadata": {},
   "outputs": [
    {
     "data": {
      "text/plain": [
       "0.1272302900833639"
      ]
     },
     "execution_count": 44,
     "metadata": {},
     "output_type": "execute_result"
    }
   ],
   "source": [
    "random_gscv.best_score_"
   ]
  },
  {
   "cell_type": "code",
   "execution_count": 47,
   "metadata": {},
   "outputs": [],
   "source": [
    "from sklearn.compose import make_column_transformer\n",
    "from sklearn.preprocessing import OneHotEncoder\n",
    "from sklearn.cluster import KMeans\n",
    "from sklearn.pipeline import make_pipeline"
   ]
  },
  {
   "cell_type": "code",
   "execution_count": 48,
   "metadata": {},
   "outputs": [],
   "source": [
    "target =  data[['Global_Sales']].values #y\n",
    "features = data[['Platform','Genre']] #X"
   ]
  },
  {
   "cell_type": "code",
   "execution_count": 49,
   "metadata": {},
   "outputs": [],
   "source": [
    "preprocess = make_column_transformer((OneHotEncoder(), ['Platform', 'Genre'])) #OHE categorical features"
   ]
  },
  {
   "cell_type": "code",
   "execution_count": 50,
   "metadata": {},
   "outputs": [
    {
     "data": {
      "text/plain": [
       "ColumnTransformer(transformers=[('onehotencoder', OneHotEncoder(),\n",
       "                                 ['Platform', 'Genre'])])"
      ]
     },
     "execution_count": 50,
     "metadata": {},
     "output_type": "execute_result"
    }
   ],
   "source": [
    "preprocess"
   ]
  },
  {
   "cell_type": "code",
   "execution_count": 51,
   "metadata": {},
   "outputs": [
    {
     "data": {
      "text/plain": [
       "array([[0., 0., 0., ..., 0., 1., 0.],\n",
       "       [0., 0., 0., ..., 0., 0., 0.],\n",
       "       [0., 0., 0., ..., 0., 0., 0.],\n",
       "       ...,\n",
       "       [0., 0., 0., ..., 0., 0., 0.],\n",
       "       [0., 0., 0., ..., 0., 0., 0.],\n",
       "       [0., 0., 0., ..., 1., 0., 0.]])"
      ]
     },
     "execution_count": 51,
     "metadata": {},
     "output_type": "execute_result"
    }
   ],
   "source": [
    "kmeans_features = preprocess.fit_transform(features).toarray()\n",
    "kmeans_features"
   ]
  },
  {
   "cell_type": "code",
   "execution_count": 52,
   "metadata": {},
   "outputs": [
    {
     "data": {
      "image/png": "[encoded data removed]",
      "text/plain": [
       "<Figure size 432x288 with 1 Axes>"
      ]
     },
     "metadata": {
      "needs_background": "light"
     },
     "output_type": "display_data"
    }
   ],
   "source": [
    "wcss = []\n",
    "for i in range(1, 11):\n",
    "    kmeans = KMeans(n_clusters = i, init = 'k-means++', random_state = 42)\n",
    "    kmeans.fit(kmeans_features)\n",
    "    wcss.append(kmeans.inertia_)\n",
    "plt.plot(range(1, 11), wcss)\n",
    "plt.title('The Elbow Method')\n",
    "plt.xlabel('Number of clusters')\n",
    "plt.ylabel('WCSS')\n",
    "plt.show() "
   ]
  },
  {
   "cell_type": "code",
   "execution_count": 53,
   "metadata": {},
   "outputs": [],
   "source": [
    "kmeans = KMeans(n_clusters = 2, init = 'k-means++', random_state = 69)\n",
    "y_kmeans = kmeans.fit_predict(kmeans_features)\n",
    "features = features.assign(Kmeans_labels=pd.Series(y_kmeans, index=features.index))"
   ]
  },
  {
   "cell_type": "code",
   "execution_count": 59,
   "metadata": {},
   "outputs": [
    {
     "data": {
      "text/html": [
       "<div>\n",
       "<style scoped>\n",
       "    .dataframe tbody tr th:only-of-type {\n",
       "        vertical-align: middle;\n",
       "    }\n",
       "\n",
       "    .dataframe tbody tr th {\n",
       "        vertical-align: top;\n",
       "    }\n",
       "\n",
       "    .dataframe thead th {\n",
       "        text-align: right;\n",
       "    }\n",
       "</style>\n",
       "<table border=\"1\" class=\"dataframe\">\n",
       "  <thead>\n",
       "    <tr style=\"text-align: right;\">\n",
       "      <th></th>\n",
       "      <th>Platform</th>\n",
       "      <th>Genre</th>\n",
       "      <th>Kmeans_labels</th>\n",
       "    </tr>\n",
       "  </thead>\n",
       "  <tbody>\n",
       "    <tr>\n",
       "      <th>0</th>\n",
       "      <td>Wii</td>\n",
       "      <td>10</td>\n",
       "      <td>0</td>\n",
       "    </tr>\n",
       "    <tr>\n",
       "      <th>1</th>\n",
       "      <td>NES</td>\n",
       "      <td>4</td>\n",
       "      <td>0</td>\n",
       "    </tr>\n",
       "    <tr>\n",
       "      <th>2</th>\n",
       "      <td>Wii</td>\n",
       "      <td>6</td>\n",
       "      <td>0</td>\n",
       "    </tr>\n",
       "    <tr>\n",
       "      <th>3</th>\n",
       "      <td>Wii</td>\n",
       "      <td>10</td>\n",
       "      <td>0</td>\n",
       "    </tr>\n",
       "    <tr>\n",
       "      <th>4</th>\n",
       "      <td>GB</td>\n",
       "      <td>7</td>\n",
       "      <td>0</td>\n",
       "    </tr>\n",
       "    <tr>\n",
       "      <th>...</th>\n",
       "      <td>...</td>\n",
       "      <td>...</td>\n",
       "      <td>...</td>\n",
       "    </tr>\n",
       "    <tr>\n",
       "      <th>16410</th>\n",
       "      <td>PS2</td>\n",
       "      <td>6</td>\n",
       "      <td>0</td>\n",
       "    </tr>\n",
       "    <tr>\n",
       "      <th>16412</th>\n",
       "      <td>X360</td>\n",
       "      <td>10</td>\n",
       "      <td>0</td>\n",
       "    </tr>\n",
       "    <tr>\n",
       "      <th>16413</th>\n",
       "      <td>PSV</td>\n",
       "      <td>1</td>\n",
       "      <td>0</td>\n",
       "    </tr>\n",
       "    <tr>\n",
       "      <th>16414</th>\n",
       "      <td>GBA</td>\n",
       "      <td>4</td>\n",
       "      <td>0</td>\n",
       "    </tr>\n",
       "    <tr>\n",
       "      <th>16415</th>\n",
       "      <td>PSV</td>\n",
       "      <td>9</td>\n",
       "      <td>0</td>\n",
       "    </tr>\n",
       "  </tbody>\n",
       "</table>\n",
       "<p>13109 rows × 3 columns</p>\n",
       "</div>"
      ],
      "text/plain": [
       "      Platform  Genre  Kmeans_labels\n",
       "0          Wii     10              0\n",
       "1          NES      4              0\n",
       "2          Wii      6              0\n",
       "3          Wii     10              0\n",
       "4           GB      7              0\n",
       "...        ...    ...            ...\n",
       "16410      PS2      6              0\n",
       "16412     X360     10              0\n",
       "16413      PSV      1              0\n",
       "16414      GBA      4              0\n",
       "16415      PSV      9              0\n",
       "\n",
       "[13109 rows x 3 columns]"
      ]
     },
     "execution_count": 59,
     "metadata": {},
     "output_type": "execute_result"
    }
   ],
   "source": [
    "features = features.assign(Kmeans_labels=pd.Series(y_kmeans, index=features.index))\n",
    "features[\"Kmeans_labels\"].unique()\n",
    "kgroup0 = features[features[\"Kmeans_labels\"] == 0]\n",
    "kgroup1 = features[features[\"Kmeans_labels\"] == 1]\n",
    "kgroup0"
   ]
  },
  {
   "cell_type": "code",
   "execution_count": 57,
   "metadata": {},
   "outputs": [
    {
     "data": {
      "text/plain": [
       "{'2600': 61,\n",
       " '3DO': 3,\n",
       " '3DS': 325,\n",
       " 'DC': 49,\n",
       " 'DS': 1789,\n",
       " 'GB': 91,\n",
       " 'GBA': 624,\n",
       " 'GC': 444,\n",
       " 'GEN': 24,\n",
       " 'GG': 1,\n",
       " 'N64': 279,\n",
       " 'NES': 85,\n",
       " 'NG': 12,\n",
       " 'PC': 786,\n",
       " 'PCFX': 1,\n",
       " 'PS': 1036,\n",
       " 'PS2': 1782,\n",
       " 'PS3': 933,\n",
       " 'PS4': 249,\n",
       " 'PSP': 976,\n",
       " 'PSV': 280,\n",
       " 'SAT': 170,\n",
       " 'SCD': 6,\n",
       " 'SNES': 227,\n",
       " 'TG16': 2,\n",
       " 'WS': 6,\n",
       " 'Wii': 1057,\n",
       " 'WiiU': 83,\n",
       " 'X360': 915,\n",
       " 'XB': 651,\n",
       " 'XOne': 162}"
      ]
     },
     "execution_count": 57,
     "metadata": {},
     "output_type": "execute_result"
    }
   ],
   "source": [
    "le,k0Platform_count = np.unique(kgroup0[\"Platform\"], return_counts=True)\n",
    "uniq_cnt_Platform = dict(zip(le, k0Platform_count))\n",
    "uniq_cnt_Platform"
   ]
  },
  {
   "cell_type": "code",
   "execution_count": 58,
   "metadata": {},
   "outputs": [
    {
     "data": {
      "text/plain": [
       "{'2600': 55,\n",
       " '3DS': 187,\n",
       " 'DC': 3,\n",
       " 'DS': 333,\n",
       " 'GB': 6,\n",
       " 'GBA': 162,\n",
       " 'GC': 98,\n",
       " 'GEN': 3,\n",
       " 'N64': 37,\n",
       " 'NES': 13,\n",
       " 'PC': 166,\n",
       " 'PS': 154,\n",
       " 'PS2': 345,\n",
       " 'PS3': 373,\n",
       " 'PS4': 144,\n",
       " 'PSP': 217,\n",
       " 'PSV': 149,\n",
       " 'SAT': 3,\n",
       " 'SNES': 12,\n",
       " 'Wii': 229,\n",
       " 'WiiU': 64,\n",
       " 'X360': 317,\n",
       " 'XB': 152,\n",
       " 'XOne': 85}"
      ]
     },
     "execution_count": 58,
     "metadata": {},
     "output_type": "execute_result"
    }
   ],
   "source": [
    "le,k1Platform_count = np.unique(kgroup1[\"Platform\"], return_counts=True)\n",
    "uniq_cnt_Platform = dict(zip(le, k1Platform_count))\n",
    "uniq_cnt_Platform"
   ]
  }
 ],
 "metadata": {
  "interpreter": {
   "hash": "e5e81c0593576f68a1d0a9c339f9a3614579784c2c67a42e95a1b1e9b2d0b9bd"
  },
  "kernelspec": {
   "display_name": "Python 3.8.8 ('base')",
   "language": "python",
   "name": "python3"
  },
  "language_info": {
   "codemirror_mode": {
    "name": "ipython",
    "version": 3
   },
   "file_extension": ".py",
   "mimetype": "text/x-python",
   "name": "python",
   "nbconvert_exporter": "python",
   "pygments_lexer": "ipython3",
   "version": "3.8.8"
  },
  "orig_nbformat": 4
 },
 "nbformat": 4,
 "nbformat_minor": 2
}
